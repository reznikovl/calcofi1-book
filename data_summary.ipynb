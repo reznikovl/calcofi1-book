{
 "cells": [
  {
   "cell_type": "markdown",
   "metadata": {},
   "source": [
    "### Summary of Datasets\n",
    "\n",
    "Below is a brief summary of all of the datasets that we used to conduct analysis for this project.\n",
    "\n",
    "#### (1) Larvae Dataset\n",
    "\n",
    "Contains information on, time (year),location (latitude/longitude), and the amount (in pounds) of larvae caught. The catch data is sorted by larvae species.\n",
    "\n",
    "The dataset is very sparse, since the majority of cruises caught zero pounds of a given larvae species. Scroll through and see just how many types of fish there are, and how few are caught per cruise!\n",
    "\n"
   ]
  },
  {
   "cell_type": "code",
   "execution_count": 3,
   "metadata": {
    "tags": [
     "remove_input"
    ]
   },
   "outputs": [],
   "source": [
    "# contains code to import 3 datasets to be displayed further on the page\n",
    "\n",
    "import pandas as pd\n",
    "larval_df = pd.read_csv('data/Fishlarvaldata_Capstone_2021_FromAndrewThompson_updated 1804 1904 1507 1607 1601 1704 1604 1501 1407 1311 ichthyoplankton by line and station.csv')\n",
    "commercial_fishery_df = pd.read_csv('data/LandingSummaryExtract-Satterthwaite_Monthly.CSV')\n",
    "fishery_updated = pd.read_csv('data/2232021_SummaryByQuarter_blockgrouping_87-20_210223_Redacted.csv')\n"
   ]
  },
  {
   "cell_type": "code",
   "execution_count": 2,
   "metadata": {
    "tags": [
     "hide_input"
    ]
   },
   "outputs": [
    {
     "data": {
      "text/html": [
       "<div>\n",
       "<style scoped>\n",
       "    .dataframe tbody tr th:only-of-type {\n",
       "        vertical-align: middle;\n",
       "    }\n",
       "\n",
       "    .dataframe tbody tr th {\n",
       "        vertical-align: top;\n",
       "    }\n",
       "\n",
       "    .dataframe thead th {\n",
       "        text-align: right;\n",
       "    }\n",
       "</style>\n",
       "<table border=\"1\" class=\"dataframe\">\n",
       "  <thead>\n",
       "    <tr style=\"text-align: right;\">\n",
       "      <th></th>\n",
       "      <th>longitude</th>\n",
       "      <th>latitude</th>\n",
       "      <th>year</th>\n",
       "      <th>season</th>\n",
       "      <th>Engraulis.mordax</th>\n",
       "      <th>Trachurus.symmetricus</th>\n",
       "      <th>Scomber.japonicus</th>\n",
       "      <th>Lampridiformes1</th>\n",
       "      <th>Sardinops.sagax</th>\n",
       "      <th>Seriola.lalandi</th>\n",
       "    </tr>\n",
       "  </thead>\n",
       "  <tbody>\n",
       "    <tr>\n",
       "      <th>0</th>\n",
       "      <td>-120.776667</td>\n",
       "      <td>35.086667</td>\n",
       "      <td>2019</td>\n",
       "      <td>spring</td>\n",
       "      <td>0.000000</td>\n",
       "      <td>0.0</td>\n",
       "      <td>0.0</td>\n",
       "      <td>0.0</td>\n",
       "      <td>0.0</td>\n",
       "      <td>0.0</td>\n",
       "    </tr>\n",
       "    <tr>\n",
       "      <th>1</th>\n",
       "      <td>-120.915000</td>\n",
       "      <td>35.021667</td>\n",
       "      <td>2019</td>\n",
       "      <td>spring</td>\n",
       "      <td>0.000000</td>\n",
       "      <td>0.0</td>\n",
       "      <td>0.0</td>\n",
       "      <td>0.0</td>\n",
       "      <td>0.0</td>\n",
       "      <td>0.0</td>\n",
       "    </tr>\n",
       "    <tr>\n",
       "      <th>2</th>\n",
       "      <td>-121.196667</td>\n",
       "      <td>34.890000</td>\n",
       "      <td>2019</td>\n",
       "      <td>spring</td>\n",
       "      <td>36.666667</td>\n",
       "      <td>0.0</td>\n",
       "      <td>0.0</td>\n",
       "      <td>0.0</td>\n",
       "      <td>0.0</td>\n",
       "      <td>0.0</td>\n",
       "    </tr>\n",
       "    <tr>\n",
       "      <th>3</th>\n",
       "      <td>-121.551667</td>\n",
       "      <td>34.720000</td>\n",
       "      <td>2019</td>\n",
       "      <td>spring</td>\n",
       "      <td>40.720000</td>\n",
       "      <td>0.0</td>\n",
       "      <td>0.0</td>\n",
       "      <td>0.0</td>\n",
       "      <td>0.0</td>\n",
       "      <td>0.0</td>\n",
       "    </tr>\n",
       "    <tr>\n",
       "      <th>4</th>\n",
       "      <td>-122.245000</td>\n",
       "      <td>34.390000</td>\n",
       "      <td>2019</td>\n",
       "      <td>spring</td>\n",
       "      <td>4.850000</td>\n",
       "      <td>0.0</td>\n",
       "      <td>0.0</td>\n",
       "      <td>0.0</td>\n",
       "      <td>0.0</td>\n",
       "      <td>0.0</td>\n",
       "    </tr>\n",
       "  </tbody>\n",
       "</table>\n",
       "</div>"
      ],
      "text/plain": [
       "    longitude   latitude  year  season  Engraulis.mordax  \\\n",
       "0 -120.776667  35.086667  2019  spring          0.000000   \n",
       "1 -120.915000  35.021667  2019  spring          0.000000   \n",
       "2 -121.196667  34.890000  2019  spring         36.666667   \n",
       "3 -121.551667  34.720000  2019  spring         40.720000   \n",
       "4 -122.245000  34.390000  2019  spring          4.850000   \n",
       "\n",
       "   Trachurus.symmetricus  Scomber.japonicus  Lampridiformes1  Sardinops.sagax  \\\n",
       "0                    0.0                0.0              0.0              0.0   \n",
       "1                    0.0                0.0              0.0              0.0   \n",
       "2                    0.0                0.0              0.0              0.0   \n",
       "3                    0.0                0.0              0.0              0.0   \n",
       "4                    0.0                0.0              0.0              0.0   \n",
       "\n",
       "   Seriola.lalandi  \n",
       "0              0.0  \n",
       "1              0.0  \n",
       "2              0.0  \n",
       "3              0.0  \n",
       "4              0.0  "
      ]
     },
     "execution_count": 2,
     "metadata": {},
     "output_type": "execute_result"
    }
   ],
   "source": [
    "# select columns to show\n",
    "cols_to_display_larval = ['longitude','latitude','year','season','Engraulis.mordax','Trachurus.symmetricus',\n",
    "'Scomber.japonicus','Lampridiformes1','Sardinops.sagax','Seriola.lalandi']\n",
    "\n",
    "# print head of selected columns\n",
    "larval_df[cols_to_display_larval].head(5)"
   ]
  },
  {
   "cell_type": "markdown",
   "metadata": {},
   "source": [
    "#### (2) Commercial Fishery Dataset\n",
    "\n",
    "Contains information on time (year/month), location (latitude/longitude), amount of fish caught (pounds), and the price-per-pound of that fish in the given catch year (dollars).\n",
    "\n",
    "Due to data privacy rules, some of the information relating to price-per-pound and pounds caught are redacted. \n"
   ]
  },
  {
   "cell_type": "code",
   "execution_count": 4,
   "metadata": {
    "tags": [
     "hide_input"
    ]
   },
   "outputs": [
    {
     "data": {
      "text/html": [
       "<div>\n",
       "<style scoped>\n",
       "    .dataframe tbody tr th:only-of-type {\n",
       "        vertical-align: middle;\n",
       "    }\n",
       "\n",
       "    .dataframe tbody tr th {\n",
       "        vertical-align: top;\n",
       "    }\n",
       "\n",
       "    .dataframe thead th {\n",
       "        text-align: right;\n",
       "    }\n",
       "</style>\n",
       "<table border=\"1\" class=\"dataframe\">\n",
       "  <thead>\n",
       "    <tr style=\"text-align: right;\">\n",
       "      <th></th>\n",
       "      <th>Year</th>\n",
       "      <th>Quarter</th>\n",
       "      <th>GroupBlocks</th>\n",
       "      <th>Species ID</th>\n",
       "      <th>Species Name</th>\n",
       "      <th>Pounds</th>\n",
       "      <th>Total Price</th>\n",
       "    </tr>\n",
       "  </thead>\n",
       "  <tbody>\n",
       "    <tr>\n",
       "      <th>0</th>\n",
       "      <td>1987</td>\n",
       "      <td>Qtr 1</td>\n",
       "      <td>1032.0</td>\n",
       "      <td>40.0</td>\n",
       "      <td>Yellowtail</td>\n",
       "      <td>256.0</td>\n",
       "      <td>$272</td>\n",
       "    </tr>\n",
       "    <tr>\n",
       "      <th>3</th>\n",
       "      <td>1987</td>\n",
       "      <td>Qtr 2</td>\n",
       "      <td>1032.0</td>\n",
       "      <td>40.0</td>\n",
       "      <td>Yellowtail</td>\n",
       "      <td>1710.0</td>\n",
       "      <td>$1,511</td>\n",
       "    </tr>\n",
       "    <tr>\n",
       "      <th>5</th>\n",
       "      <td>1987</td>\n",
       "      <td>Qtr 2</td>\n",
       "      <td>1034.0</td>\n",
       "      <td>40.0</td>\n",
       "      <td>Yellowtail</td>\n",
       "      <td>1417.0</td>\n",
       "      <td>$1,177</td>\n",
       "    </tr>\n",
       "    <tr>\n",
       "      <th>6</th>\n",
       "      <td>1987</td>\n",
       "      <td>Qtr 2</td>\n",
       "      <td>1035.0</td>\n",
       "      <td>40.0</td>\n",
       "      <td>Yellowtail</td>\n",
       "      <td>6457.0</td>\n",
       "      <td>$6,267</td>\n",
       "    </tr>\n",
       "    <tr>\n",
       "      <th>8</th>\n",
       "      <td>1987</td>\n",
       "      <td>Qtr 2</td>\n",
       "      <td>600.0</td>\n",
       "      <td>40.0</td>\n",
       "      <td>Yellowtail</td>\n",
       "      <td>3071.0</td>\n",
       "      <td>$2,644</td>\n",
       "    </tr>\n",
       "  </tbody>\n",
       "</table>\n",
       "</div>"
      ],
      "text/plain": [
       "   Year Quarter  GroupBlocks  Species ID Species Name  Pounds Total Price\n",
       "0  1987   Qtr 1       1032.0        40.0   Yellowtail   256.0       $272 \n",
       "3  1987   Qtr 2       1032.0        40.0   Yellowtail  1710.0     $1,511 \n",
       "5  1987   Qtr 2       1034.0        40.0   Yellowtail  1417.0     $1,177 \n",
       "6  1987   Qtr 2       1035.0        40.0   Yellowtail  6457.0     $6,267 \n",
       "8  1987   Qtr 2        600.0        40.0   Yellowtail  3071.0     $2,644 "
      ]
     },
     "execution_count": 4,
     "metadata": {},
     "output_type": "execute_result"
    }
   ],
   "source": [
    "# remove NAs from fishery data\n",
    "cleaned_fishery = fishery_updated.dropna(how='any')\n",
    "cleaned_fishery = cleaned_fishery[cleaned_fishery['Total Price'] != ' ']\n",
    "\n",
    "# print data\n",
    "cleaned_fishery.head(5)"
   ]
  },
  {
   "cell_type": "markdown",
   "metadata": {},
   "source": [
    "#### (3) Block Grouping Dataset\n",
    "\n",
    "(insert info about block grouping dataset here)"
   ]
  },
  {
   "cell_type": "code",
   "execution_count": null,
   "metadata": {
    "tags": [
     "hide_input"
    ]
   },
   "outputs": [],
   "source": [
    " ## To Do: Add block data set"
   ]
  }
 ],
 "metadata": {
  "celltoolbar": "Tags",
  "kernelspec": {
   "display_name": "Python 3",
   "language": "python",
   "name": "python3"
  },
  "language_info": {
   "codemirror_mode": {
    "name": "ipython",
    "version": 3
   },
   "file_extension": ".py",
   "mimetype": "text/x-python",
   "name": "python",
   "nbconvert_exporter": "python",
   "pygments_lexer": "ipython3",
   "version": "3.8.3"
  }
 },
 "nbformat": 4,
 "nbformat_minor": 2
}
