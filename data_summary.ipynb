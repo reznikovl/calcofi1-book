{
 "cells": [
  {
   "cell_type": "markdown",
   "metadata": {},
   "source": [
    "### Summary of Datasets\n",
    "\n",
    "Below is a brief summary of all of the datasets that we used to conduct analysis for this project.\n",
    "\n",
    "#### (1) Larvae Dataset\n",
    "\n",
    "Contains information on, time (year),location (latitude/longitude), and the amount (in pounds) of larvae caught. The catch data is sorted by larvae species.\n",
    "\n",
    "The dataset is very sparse, since the majority of cruises caught zero pounds of a given larvae species. Scroll through and see just how many types of fish there are, and how few are caught per cruise!\n",
    "\n"
   ]
  },
  {
   "cell_type": "code",
   "execution_count": 3,
    "metadata": {
    "tags": [
     "hide_input"
    ]
   },
   "outputs": [
    {
     "data": {
      "text/html": "<div>\n<style scoped>\n    .dataframe tbody tr th:only-of-type {\n        vertical-align: middle;\n    }\n\n    .dataframe tbody tr th {\n        vertical-align: top;\n    }\n\n    .dataframe thead th {\n        text-align: right;\n    }\n</style>\n<table border=\"1\" class=\"dataframe\">\n  <thead>\n    <tr style=\"text-align: right;\">\n      <th></th>\n      <th>Unnamed: 0</th>\n      <th>unique.code</th>\n      <th>S_C</th>\n      <th>S_SC</th>\n      <th>S_L</th>\n      <th>S_S</th>\n      <th>longitude</th>\n      <th>latitude</th>\n      <th>year</th>\n      <th>season</th>\n      <th>...</th>\n      <th>Cyclopteridae1</th>\n      <th>Paralabrax1</th>\n      <th>Sciaenidae1</th>\n      <th>Labridae1</th>\n      <th>Chiasmodon1</th>\n      <th>Clinidae1</th>\n      <th>Hypsoblennius1</th>\n      <th>Gobiidae1</th>\n      <th>Citharichthys1</th>\n      <th>Pleuronichthys1</th>\n    </tr>\n  </thead>\n  <tbody>\n    <tr>\n      <th>0</th>\n      <td>11491</td>\n      <td>76.7 49 1904 RL</td>\n      <td>1904</td>\n      <td>RL</td>\n      <td>76.7</td>\n      <td>49.0</td>\n      <td>-120.776667</td>\n      <td>35.086667</td>\n      <td>2019</td>\n      <td>spring</td>\n      <td>...</td>\n      <td>0.0</td>\n      <td>0.0</td>\n      <td>0.0</td>\n      <td>0.0</td>\n      <td>0.0</td>\n      <td>0.0</td>\n      <td>0.0</td>\n      <td>0.0</td>\n      <td>0.00</td>\n      <td>0.0</td>\n    </tr>\n    <tr>\n      <th>1</th>\n      <td>11492</td>\n      <td>76.7 51 1904 RL</td>\n      <td>1904</td>\n      <td>RL</td>\n      <td>76.7</td>\n      <td>51.0</td>\n      <td>-120.915000</td>\n      <td>35.021667</td>\n      <td>2019</td>\n      <td>spring</td>\n      <td>...</td>\n      <td>0.0</td>\n      <td>0.0</td>\n      <td>0.0</td>\n      <td>0.0</td>\n      <td>0.0</td>\n      <td>0.0</td>\n      <td>0.0</td>\n      <td>0.0</td>\n      <td>0.00</td>\n      <td>0.0</td>\n    </tr>\n    <tr>\n      <th>2</th>\n      <td>11493</td>\n      <td>76.7 55 1904 RL</td>\n      <td>1904</td>\n      <td>RL</td>\n      <td>76.7</td>\n      <td>55.0</td>\n      <td>-121.196667</td>\n      <td>34.890000</td>\n      <td>2019</td>\n      <td>spring</td>\n      <td>...</td>\n      <td>0.0</td>\n      <td>0.0</td>\n      <td>0.0</td>\n      <td>0.0</td>\n      <td>0.0</td>\n      <td>0.0</td>\n      <td>0.0</td>\n      <td>0.0</td>\n      <td>0.00</td>\n      <td>0.0</td>\n    </tr>\n    <tr>\n      <th>3</th>\n      <td>11494</td>\n      <td>76.7 60 1904 RL</td>\n      <td>1904</td>\n      <td>RL</td>\n      <td>76.7</td>\n      <td>60.0</td>\n      <td>-121.551667</td>\n      <td>34.720000</td>\n      <td>2019</td>\n      <td>spring</td>\n      <td>...</td>\n      <td>0.0</td>\n      <td>0.0</td>\n      <td>0.0</td>\n      <td>0.0</td>\n      <td>0.0</td>\n      <td>0.0</td>\n      <td>0.0</td>\n      <td>0.0</td>\n      <td>0.00</td>\n      <td>0.0</td>\n    </tr>\n    <tr>\n      <th>4</th>\n      <td>11495</td>\n      <td>76.7 70 1904 RL</td>\n      <td>1904</td>\n      <td>RL</td>\n      <td>76.7</td>\n      <td>70.0</td>\n      <td>-122.245000</td>\n      <td>34.390000</td>\n      <td>2019</td>\n      <td>spring</td>\n      <td>...</td>\n      <td>0.0</td>\n      <td>0.0</td>\n      <td>0.0</td>\n      <td>0.0</td>\n      <td>0.0</td>\n      <td>0.0</td>\n      <td>0.0</td>\n      <td>0.0</td>\n      <td>0.00</td>\n      <td>0.0</td>\n    </tr>\n    <tr>\n      <th>...</th>\n      <td>...</td>\n      <td>...</td>\n      <td>...</td>\n      <td>...</td>\n      <td>...</td>\n      <td>...</td>\n      <td>...</td>\n      <td>...</td>\n      <td>...</td>\n      <td>...</td>\n      <td>...</td>\n      <td>...</td>\n      <td>...</td>\n      <td>...</td>\n      <td>...</td>\n      <td>...</td>\n      <td>...</td>\n      <td>...</td>\n      <td>...</td>\n      <td>...</td>\n      <td>...</td>\n    </tr>\n    <tr>\n      <th>11651</th>\n      <td>11173</td>\n      <td>93.3 50 5101 CR</td>\n      <td>5101</td>\n      <td>CR</td>\n      <td>93.3</td>\n      <td>50.0</td>\n      <td>-118.951667</td>\n      <td>32.153333</td>\n      <td>1951</td>\n      <td>winter</td>\n      <td>...</td>\n      <td>0.0</td>\n      <td>0.0</td>\n      <td>0.0</td>\n      <td>0.0</td>\n      <td>0.0</td>\n      <td>0.0</td>\n      <td>0.0</td>\n      <td>0.0</td>\n      <td>0.00</td>\n      <td>0.0</td>\n    </tr>\n    <tr>\n      <th>11652</th>\n      <td>11174</td>\n      <td>93.3 60 5101 CR</td>\n      <td>5101</td>\n      <td>CR</td>\n      <td>93.3</td>\n      <td>60.0</td>\n      <td>-119.675000</td>\n      <td>31.831667</td>\n      <td>1951</td>\n      <td>winter</td>\n      <td>...</td>\n      <td>0.0</td>\n      <td>0.0</td>\n      <td>0.0</td>\n      <td>0.0</td>\n      <td>0.0</td>\n      <td>0.0</td>\n      <td>0.0</td>\n      <td>0.0</td>\n      <td>0.00</td>\n      <td>0.0</td>\n    </tr>\n    <tr>\n      <th>11653</th>\n      <td>11175</td>\n      <td>93.3 70 5101 CR</td>\n      <td>5101</td>\n      <td>CR</td>\n      <td>93.3</td>\n      <td>70.0</td>\n      <td>-120.250000</td>\n      <td>31.546667</td>\n      <td>1951</td>\n      <td>winter</td>\n      <td>...</td>\n      <td>0.0</td>\n      <td>0.0</td>\n      <td>0.0</td>\n      <td>0.0</td>\n      <td>0.0</td>\n      <td>0.0</td>\n      <td>0.0</td>\n      <td>0.0</td>\n      <td>1.59</td>\n      <td>0.0</td>\n    </tr>\n    <tr>\n      <th>11654</th>\n      <td>11176</td>\n      <td>93.3 80 5101 CR</td>\n      <td>5101</td>\n      <td>CR</td>\n      <td>93.3</td>\n      <td>80.0</td>\n      <td>-120.918333</td>\n      <td>31.201667</td>\n      <td>1951</td>\n      <td>winter</td>\n      <td>...</td>\n      <td>0.0</td>\n      <td>0.0</td>\n      <td>0.0</td>\n      <td>0.0</td>\n      <td>0.0</td>\n      <td>0.0</td>\n      <td>0.0</td>\n      <td>0.0</td>\n      <td>0.00</td>\n      <td>0.0</td>\n    </tr>\n    <tr>\n      <th>11655</th>\n      <td>11177</td>\n      <td>93.3 90 5101 CR</td>\n      <td>5101</td>\n      <td>CR</td>\n      <td>93.3</td>\n      <td>90.0</td>\n      <td>-121.585000</td>\n      <td>30.831667</td>\n      <td>1951</td>\n      <td>winter</td>\n      <td>...</td>\n      <td>0.0</td>\n      <td>0.0</td>\n      <td>0.0</td>\n      <td>0.0</td>\n      <td>0.0</td>\n      <td>0.0</td>\n      <td>0.0</td>\n      <td>0.0</td>\n      <td>0.00</td>\n      <td>0.0</td>\n    </tr>\n  </tbody>\n</table>\n<p>11656 rows × 109 columns</p>\n</div>",
      "text/plain": "       Unnamed: 0      unique.code   S_C S_SC   S_L   S_S   longitude  \\\n0           11491  76.7 49 1904 RL  1904   RL  76.7  49.0 -120.776667   \n1           11492  76.7 51 1904 RL  1904   RL  76.7  51.0 -120.915000   \n2           11493  76.7 55 1904 RL  1904   RL  76.7  55.0 -121.196667   \n3           11494  76.7 60 1904 RL  1904   RL  76.7  60.0 -121.551667   \n4           11495  76.7 70 1904 RL  1904   RL  76.7  70.0 -122.245000   \n...           ...              ...   ...  ...   ...   ...         ...   \n11651       11173  93.3 50 5101 CR  5101   CR  93.3  50.0 -118.951667   \n11652       11174  93.3 60 5101 CR  5101   CR  93.3  60.0 -119.675000   \n11653       11175  93.3 70 5101 CR  5101   CR  93.3  70.0 -120.250000   \n11654       11176  93.3 80 5101 CR  5101   CR  93.3  80.0 -120.918333   \n11655       11177  93.3 90 5101 CR  5101   CR  93.3  90.0 -121.585000   \n\n        latitude  year  season  ...  Cyclopteridae1  Paralabrax1  Sciaenidae1  \\\n0      35.086667  2019  spring  ...             0.0          0.0          0.0   \n1      35.021667  2019  spring  ...             0.0          0.0          0.0   \n2      34.890000  2019  spring  ...             0.0          0.0          0.0   \n3      34.720000  2019  spring  ...             0.0          0.0          0.0   \n4      34.390000  2019  spring  ...             0.0          0.0          0.0   \n...          ...   ...     ...  ...             ...          ...          ...   \n11651  32.153333  1951  winter  ...             0.0          0.0          0.0   \n11652  31.831667  1951  winter  ...             0.0          0.0          0.0   \n11653  31.546667  1951  winter  ...             0.0          0.0          0.0   \n11654  31.201667  1951  winter  ...             0.0          0.0          0.0   \n11655  30.831667  1951  winter  ...             0.0          0.0          0.0   \n\n       Labridae1  Chiasmodon1  Clinidae1  Hypsoblennius1  Gobiidae1  \\\n0            0.0          0.0        0.0             0.0        0.0   \n1            0.0          0.0        0.0             0.0        0.0   \n2            0.0          0.0        0.0             0.0        0.0   \n3            0.0          0.0        0.0             0.0        0.0   \n4            0.0          0.0        0.0             0.0        0.0   \n...          ...          ...        ...             ...        ...   \n11651        0.0          0.0        0.0             0.0        0.0   \n11652        0.0          0.0        0.0             0.0        0.0   \n11653        0.0          0.0        0.0             0.0        0.0   \n11654        0.0          0.0        0.0             0.0        0.0   \n11655        0.0          0.0        0.0             0.0        0.0   \n\n       Citharichthys1  Pleuronichthys1  \n0                0.00              0.0  \n1                0.00              0.0  \n2                0.00              0.0  \n3                0.00              0.0  \n4                0.00              0.0  \n...               ...              ...  \n11651            0.00              0.0  \n11652            0.00              0.0  \n11653            1.59              0.0  \n11654            0.00              0.0  \n11655            0.00              0.0  \n\n[11656 rows x 109 columns]"
     },
     "execution_count": 3,
     "metadata": {},
     "output_type": "execute_result"
    }
   ],
   "source": [
    "import pandas as pd\n",
    "pd.read_csv('data/Fishlarvaldata_Capstone_2021_FromAndrewThompson_updated 1804 1904 1507 1607 1601 1704 1604 1501 1407 1311 ichthyoplankton by line and station.csv')"
   ]
  },
  {
   "cell_type": "markdown",
   "metadata": {},
   "source": [
    "#### (2) Commercial Fishery Dataset\n",
    "\n",
    "Contains information on time (year/month), location (latitude/longitude), amount of fish caught (pounds), and the price-per-pound of that fish in the given catch year (dollars).\n",
    "\n",
    "Due to data privacy rules, some of the information relating to price-per-pound and pounds caught are redacted. \n"
   ]
  },
  {
   "cell_type": "code",
   "execution_count": 6,
    "metadata": {
    "tags": [
     "hide_input"
    ]
   },
   "outputs": [
    {
     "data": {
      "text/html": "<div>\n<style scoped>\n    .dataframe tbody tr th:only-of-type {\n        vertical-align: middle;\n    }\n\n    .dataframe tbody tr th {\n        vertical-align: top;\n    }\n\n    .dataframe thead th {\n        text-align: right;\n    }\n</style>\n<table border=\"1\" class=\"dataframe\">\n  <thead>\n    <tr style=\"text-align: right;\">\n      <th></th>\n      <th>Year</th>\n      <th>Quarter</th>\n      <th>GroupBlocks</th>\n      <th>Species ID</th>\n      <th>Species Name</th>\n      <th>Pounds</th>\n      <th>Total Price</th>\n    </tr>\n  </thead>\n  <tbody>\n    <tr>\n      <th>0</th>\n      <td>1987</td>\n      <td>Qtr 1</td>\n      <td>1032.0</td>\n      <td>40.0</td>\n      <td>Yellowtail</td>\n      <td>256.0</td>\n      <td>$272</td>\n    </tr>\n    <tr>\n      <th>3</th>\n      <td>1987</td>\n      <td>Qtr 2</td>\n      <td>1032.0</td>\n      <td>40.0</td>\n      <td>Yellowtail</td>\n      <td>1710.0</td>\n      <td>$1,511</td>\n    </tr>\n    <tr>\n      <th>5</th>\n      <td>1987</td>\n      <td>Qtr 2</td>\n      <td>1034.0</td>\n      <td>40.0</td>\n      <td>Yellowtail</td>\n      <td>1417.0</td>\n      <td>$1,177</td>\n    </tr>\n    <tr>\n      <th>6</th>\n      <td>1987</td>\n      <td>Qtr 2</td>\n      <td>1035.0</td>\n      <td>40.0</td>\n      <td>Yellowtail</td>\n      <td>6457.0</td>\n      <td>$6,267</td>\n    </tr>\n    <tr>\n      <th>8</th>\n      <td>1987</td>\n      <td>Qtr 2</td>\n      <td>600.0</td>\n      <td>40.0</td>\n      <td>Yellowtail</td>\n      <td>3071.0</td>\n      <td>$2,644</td>\n    </tr>\n    <tr>\n      <th>...</th>\n      <td>...</td>\n      <td>...</td>\n      <td>...</td>\n      <td>...</td>\n      <td>...</td>\n      <td>...</td>\n      <td>...</td>\n    </tr>\n    <tr>\n      <th>4485</th>\n      <td>2020</td>\n      <td>Qtr 2</td>\n      <td>500.0</td>\n      <td>110.0</td>\n      <td>Anchovy, northern</td>\n      <td>591339.0</td>\n      <td>$21,869</td>\n    </tr>\n    <tr>\n      <th>4486</th>\n      <td>2020</td>\n      <td>Qtr 2</td>\n      <td>600.0</td>\n      <td>110.0</td>\n      <td>Anchovy, northern</td>\n      <td>118988.0</td>\n      <td>$81</td>\n    </tr>\n    <tr>\n      <th>4490</th>\n      <td>2020</td>\n      <td>Qtr 3</td>\n      <td>500.0</td>\n      <td>110.0</td>\n      <td>Anchovy, northern</td>\n      <td>1274842.0</td>\n      <td>$64,161</td>\n    </tr>\n    <tr>\n      <th>4495</th>\n      <td>2020</td>\n      <td>Qtr 4</td>\n      <td>500.0</td>\n      <td>110.0</td>\n      <td>Anchovy, northern</td>\n      <td>2000431.0</td>\n      <td>$100,537</td>\n    </tr>\n    <tr>\n      <th>4503</th>\n      <td>2020</td>\n      <td>Qtr 4</td>\n      <td>600.0</td>\n      <td>467.0</td>\n      <td>Opah</td>\n      <td>1754.0</td>\n      <td>$1,896</td>\n    </tr>\n  </tbody>\n</table>\n<p>2248 rows × 7 columns</p>\n</div>",
      "text/plain": "      Year Quarter  GroupBlocks  Species ID       Species Name     Pounds  \\\n0     1987   Qtr 1       1032.0        40.0         Yellowtail      256.0   \n3     1987   Qtr 2       1032.0        40.0         Yellowtail     1710.0   \n5     1987   Qtr 2       1034.0        40.0         Yellowtail     1417.0   \n6     1987   Qtr 2       1035.0        40.0         Yellowtail     6457.0   \n8     1987   Qtr 2        600.0        40.0         Yellowtail     3071.0   \n...    ...     ...          ...         ...                ...        ...   \n4485  2020   Qtr 2        500.0       110.0  Anchovy, northern   591339.0   \n4486  2020   Qtr 2        600.0       110.0  Anchovy, northern   118988.0   \n4490  2020   Qtr 3        500.0       110.0  Anchovy, northern  1274842.0   \n4495  2020   Qtr 4        500.0       110.0  Anchovy, northern  2000431.0   \n4503  2020   Qtr 4        600.0       467.0               Opah     1754.0   \n\n     Total Price  \n0          $272   \n3        $1,511   \n5        $1,177   \n6        $6,267   \n8        $2,644   \n...          ...  \n4485    $21,869   \n4486        $81   \n4490    $64,161   \n4495   $100,537   \n4503     $1,896   \n\n[2248 rows x 7 columns]"
     },
     "execution_count": 6,
     "metadata": {},
     "output_type": "execute_result"
    }
   ],
   "source": [
    "fishery_updated = pd.read_csv('data/2232021_SummaryByQuarter_blockgrouping_87-20_210223_Redacted.csv')\n",
    "\n",
    "cleaned_fishery = fishery_updated.dropna(how='any')\n",
    "cleaned_fishery = cleaned_fishery[cleaned_fishery['Total Price'] != ' ']\n",
    "\n",
    "\n",
    "cleaned_fishery"
   ]
  },
  {
   "cell_type": "markdown",
   "metadata": {},
   "source": [
    "#### (3) Block Grouping Dataset\n",
    "\n",
    "(insert info about block grouping dataset here)"
   ]
  },
  {
   "cell_type": "code",
   "execution_count": null,
    "metadata": {
    "tags": [
     "hide_input"
    ]
   },
   "outputs": [],
   "source": [
    " ## To Do: Add block data set"
   ]
  }
 ],
 "metadata": {
  "kernelspec": {
   "display_name": "Python 3",
   "language": "python",
   "name": "python3"
  },
  "language_info": {
   "name": "python",
   "version": ""
  },
  "orig_nbformat": 2
 },
 "nbformat": 4,
 "nbformat_minor": 2
}