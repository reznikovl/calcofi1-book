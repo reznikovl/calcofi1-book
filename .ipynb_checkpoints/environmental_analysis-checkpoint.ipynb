{
 "cells": [
  {
   "cell_type": "markdown",
   "metadata": {},
   "source": [
    "# Environmental Impacts"
   ]
  },
  {
   "cell_type": "code",
   "execution_count": null,
   "metadata": {},
   "outputs": [],
   "source": [
    "# Code Here"
   ]
  },
  {
   "cell_type": "code",
   "execution_count": 1,
   "metadata": {
    "tags": [
     "remove_input"
    ]
   },
   "outputs": [],
   "source": [
    "import pandas as pd\n",
    "import numpy as np\n",
    "import matplotlib.pyplot as plt\n",
    "import plotly\n",
    "import plotly.express as px"
   ]
  },
  {
   "cell_type": "code",
   "execution_count": 5,
   "metadata": {
    "tags": [
     "hide_input"
    ]
   },
   "outputs": [
    {
     "data": {
      "application/vnd.plotly.v1+json": {
       "config": {
        "plotlyServerURL": "https://plot.ly"
       },
       "data": [
        {
         "hovertemplate": "<b>%{hovertext}</b><br><br>year=1951<br>sardine_size=%{marker.size}<br>latitude=%{lat}<br>longitude=%{lon}<br>Sardinops.sagax=%{marker.color}<extra></extra>",
         "hovertext": [
          1.77,
          5.64,
          1.53,
          2.74,
          63.96,
          69.42,
          1.9,
          5.28,
          49.14,
          3.78,
          8.52,
          2.83
         ],
         "lat": [
          31.83666667,
          32.5,
          32.83333333,
          32.06666667,
          32.63,
          32.325,
          33,
          33.18333333,
          33.40833333,
          33.06666667,
          33.30833333,
          33.73333333
         ],
         "legendgroup": "",
         "lon": [
          -119.56333329999998,
          -118.20833329999999,
          -117.525,
          -120.625,
          -119.45833329999999,
          -121.71666670000002,
          -120.35833329999998,
          -118.39166670000002,
          -117.91666670000001,
          -122.2,
          -121.46666670000002,
          -120.40833329999998
         ],
         "marker": {
          "color": [
           1.77,
           5.64,
           1.53,
           2.74,
           63.96,
           69.42,
           1.9,
           5.28,
           49.14,
           3.78,
           8.52,
           2.83
          ],
          "coloraxis": "coloraxis",
          "opacity": 1,
          "size": [
           0.5709795465857378,
           1.7298840655099674,
           0.4252677354043441,
           1.007957920399979,
           4.158257887965753,
           4.24017501043364,
           0.6418538861723947,
           1.6639260977181702,
           3.894673367093033,
           1.3297240096314962,
           2.1424163408412245,
           1.0402767116551463
          ],
          "sizemode": "area",
          "sizeref": 0.021782444718499456
         },
         "mode": "markers",
         "name": "",
         "showlegend": false,
         "subplot": "mapbox",
         "type": "scattermapbox"
        }
       ],
       "frames": [
        {
         "data": [
          {
           "hovertemplate": "<b>%{hovertext}</b><br><br>year=1951<br>sardine_size=%{marker.size}<br>latitude=%{lat}<br>longitude=%{lon}<br>Sardinops.sagax=%{marker.color}<extra></extra>",
           "hovertext": [
            1.77,
            5.64,
            1.53,
            2.74,
            63.96,
            69.42,
            1.9,
            5.28,
            49.14,
            3.78,
            8.52,
            2.83
           ],
           "lat": [
            31.83666667,
            32.5,
            32.83333333,
            32.06666667,
            32.63,
            32.325,
            33,
            33.18333333,
            33.40833333,
            33.06666667,
            33.30833333,
            33.73333333
           ],
           "legendgroup": "",
           "lon": [
            -119.56333329999998,
            -118.20833329999999,
            -117.525,
            -120.625,
            -119.45833329999999,
            -121.71666670000002,
            -120.35833329999998,
            -118.39166670000002,
            -117.91666670000001,
            -122.2,
            -121.46666670000002,
            -120.40833329999998
           ],
           "marker": {
            "color": [
             1.77,
             5.64,
             1.53,
             2.74,
             63.96,
             69.42,
             1.9,
             5.28,
             49.14,
             3.78,
             8.52,
             2.83
            ],
            "coloraxis": "coloraxis",
            "opacity": 1,
            "size": [
             0.5709795465857378,
             1.7298840655099674,
             0.4252677354043441,
             1.007957920399979,
             4.158257887965753,
             4.24017501043364,
             0.6418538861723947,
             1.6639260977181702,
             3.894673367093033,
             1.3297240096314962,
             2.1424163408412245,
             1.0402767116551463
            ],
            "sizemode": "area",
            "sizeref": 0.021782444718499456
           },
           "mode": "markers",
           "name": "",
           "showlegend": false,
           "subplot": "mapbox",
           "type": "scattermapbox"
          }
         ],
         "name": "1951"
        },
        {
         "data": [
          {
           "hovertemplate": "<b>%{hovertext}</b><br><br>year=1952<br>sardine_size=%{marker.size}<br>latitude=%{lat}<br>longitude=%{lon}<br>Sardinops.sagax=%{marker.color}<extra></extra>",
           "hovertext": [
            3.07,
            2.81,
            11.84,
            152.54
           ],
           "lat": [
            30.85,
            32.16666667,
            32.5,
            33.17833333
           ],
           "legendgroup": "",
           "lon": [
            -121.60833329999998,
            -118.89166670000002,
            -118.20833329999999,
            -118.38333329999999
           ],
           "marker": {
            "color": [
             3.07,
             2.81,
             11.84,
             152.54
            ],
            "coloraxis": "coloraxis",
            "opacity": 1,
            "size": [
             1.1216775615991057,
             1.0331844833456545,
             2.4714836294558595,
             5.027426856736093
            ],
            "sizemode": "area",
            "sizeref": 0.021782444718499456
           },
           "mode": "markers",
           "name": "",
           "showlegend": false,
           "subplot": "mapbox",
           "type": "scattermapbox"
          }
         ],
         "name": "1952"
        },
        {
         "data": [
          {
           "hovertemplate": "<b>%{hovertext}</b><br><br>year=1954<br>sardine_size=%{marker.size}<br>latitude=%{lat}<br>longitude=%{lon}<br>Sardinops.sagax=%{marker.color}<extra></extra>",
           "hovertext": [
            3.2,
            18.54,
            2.76,
            26.3,
            265.6,
            466.56,
            88.45,
            241.53,
            14.85,
            84,
            719.9,
            379.62,
            9.52,
            21.24,
            278.4,
            2.58
           ],
           "lat": [
            30.78333333,
            32.16666667,
            32.04833333,
            31.65,
            32.15833333,
            32.43666667,
            32.555,
            32.63666667,
            32.80333333,
            31.75,
            32.07833333,
            32.41666667,
            32.90833333,
            32.24166667,
            33,
            32.92833333
           ],
           "legendgroup": "",
           "lon": [
            -121.58333329999999,
            -118.88333329999999,
            -120.56666670000001,
            -120.21666670000002,
            -119.675,
            -119.36,
            -118.97666670000001,
            -118.62,
            -117.88333329999999,
            -121.31666670000001,
            -120.60833329999998,
            -119.95833329999999,
            -118.93333329999999,
            -121.71333329999999,
            -120.35833329999998,
            -122.13166670000001
           ],
           "marker": {
            "color": [
             3.2,
             18.54,
             2.76,
             26.3,
             265.6,
             466.56,
             88.45,
             241.53,
             14.85,
             84,
             719.9,
             379.62,
             9.52,
             21.24,
             278.4,
             2.58
            ],
            "coloraxis": "coloraxis",
            "opacity": 1,
            "size": [
             1.1631508098056809,
             2.919930560137709,
             1.0152306797290584,
             3.269568939183719,
             5.5819914176022785,
             6.145386629380239,
             4.482437420605795,
             5.486993688979999,
             2.6979998652487085,
             4.430816798843313,
             6.579112313475258,
             5.939170752386848,
             2.253394848803274,
             3.055886196373738,
             5.629058928460265,
             0.9477893989335261
            ],
            "sizemode": "area",
            "sizeref": 0.021782444718499456
           },
           "mode": "markers",
           "name": "",
           "showlegend": false,
           "subplot": "mapbox",
           "type": "scattermapbox"
          }
         ],
         "name": "1954"
        },
        {
         "data": [
          {
           "hovertemplate": "<b>%{hovertext}</b><br><br>year=1955<br>sardine_size=%{marker.size}<br>latitude=%{lat}<br>longitude=%{lon}<br>Sardinops.sagax=%{marker.color}<extra></extra>",
           "hovertext": [
            5.68,
            8.1,
            2.8,
            10.64,
            83.4,
            39.06,
            5.54,
            18.06,
            13.12
           ],
           "lat": [
            31.88333333,
            32.42,
            33.83833333,
            31.17,
            31.865,
            32.35833333,
            32.675,
            33.15,
            33.84166667
           ],
           "legendgroup": "",
           "lon": [
            -119.58333329999999,
            -119.9,
            -118.62833329999998,
            -120.96666670000002,
            -119.55666670000001,
            -119.94666670000001,
            -121.01666670000002,
            -121.48333329999998,
            -121.85
           ],
           "marker": {
            "color": [
             5.68,
             8.1,
             2.8,
             10.64,
             83.4,
             39.06,
             5.54,
             18.06,
             13.12
            ],
            "coloraxis": "coloraxis",
            "opacity": 1,
            "size": [
             1.7369512327330598,
             2.0918640616783932,
             1.0296194171811581,
             2.3646204839134985,
             4.423648309364701,
             3.665098925448533,
             1.7119945007591924,
             2.8936995479888394,
             2.574137783515943
            ],
            "sizemode": "area",
            "sizeref": 0.021782444718499456
           },
           "mode": "markers",
           "name": "",
           "showlegend": false,
           "subplot": "mapbox",
           "type": "scattermapbox"
          }
         ],
         "name": "1955"
        },
        {
         "data": [
          {
           "hovertemplate": "<b>%{hovertext}</b><br><br>year=1957<br>sardine_size=%{marker.size}<br>latitude=%{lat}<br>longitude=%{lon}<br>Sardinops.sagax=%{marker.color}<extra></extra>",
           "hovertext": [
            44.76,
            259.56,
            65.8
           ],
           "lat": [
            32.11666667,
            32.33333333,
            32.90833333
           ],
           "legendgroup": "",
           "lon": [
            -118.91666670000001,
            -118.55,
            -118.93333329999999
           ],
           "marker": {
            "color": [
             44.76,
             259.56,
             65.8
            ],
            "coloraxis": "coloraxis",
            "opacity": 1,
            "size": [
             3.8013148834437245,
             5.558987889752967,
             4.186619838331271
            ],
            "sizemode": "area",
            "sizeref": 0.021782444718499456
           },
           "mode": "markers",
           "name": "",
           "showlegend": false,
           "subplot": "mapbox",
           "type": "scattermapbox"
          }
         ],
         "name": "1957"
        },
        {
         "data": [
          {
           "hovertemplate": "<b>%{hovertext}</b><br><br>year=1958<br>sardine_size=%{marker.size}<br>latitude=%{lat}<br>longitude=%{lon}<br>Sardinops.sagax=%{marker.color}<extra></extra>",
           "hovertext": [
            3.19,
            2.65,
            3.2,
            27.04,
            20.8,
            3.24,
            90,
            149.4,
            5.96,
            16.6,
            3.29,
            12.36,
            7.05,
            35.98,
            6.02,
            6.52,
            2.42
           ],
           "lat": [
            32.16666667,
            32.91666667,
            33.475,
            33.83333333,
            33.86666667,
            31.45833333,
            31.725,
            31.86666667,
            32.025,
            32.24166667,
            32.375,
            33.175,
            33.16666667,
            33.33333333,
            33.83333333,
            33.85833333,
            33.475
           ],
           "legendgroup": "",
           "lon": [
            -118.88333329999999,
            -118.94166670000001,
            -117.78333329999998,
            -118.625,
            -120.125,
            -120.24166670000001,
            -119.53333329999998,
            -119.13333329999999,
            -118.73333329999998,
            -118.56666670000001,
            -119.95833329999999,
            -118.39166670000002,
            -120.00833329999999,
            -119.65,
            -118.625,
            -120.12333329999998,
            -117.77833329999999
           ],
           "marker": {
            "color": [
             3.19,
             2.65,
             3.2,
             27.04,
             20.8,
             3.24,
             90,
             149.4,
             5.96,
             16.6,
             3.29,
             12.36,
             7.05,
             35.98,
             6.02,
             6.52,
             2.42
            ],
            "coloraxis": "coloraxis",
            "opacity": 1,
            "size": [
             1.1600209167967532,
             0.9745596399981308,
             1.1631508098056809,
             3.2973172511747633,
             3.0349529867072724,
             1.1755733298042381,
             4.499809670330265,
             5.006627272698717,
             1.7850704810772584,
             2.8094026953624978,
             1.1908875647772805,
             2.514465452029545,
             1.9530276168241774,
             3.582963228522387,
             1.7950872593207297,
             1.8748743759385615,
             0.883767540168595
            ],
            "sizemode": "area",
            "sizeref": 0.021782444718499456
           },
           "mode": "markers",
           "name": "",
           "showlegend": false,
           "subplot": "mapbox",
           "type": "scattermapbox"
          }
         ],
         "name": "1958"
        },
        {
         "data": [
          {
           "hovertemplate": "<b>%{hovertext}</b><br><br>year=1959<br>sardine_size=%{marker.size}<br>latitude=%{lat}<br>longitude=%{lon}<br>Sardinops.sagax=%{marker.color}<extra></extra>",
           "hovertext": [
            5.86,
            6.1,
            18,
            211.2,
            2.91,
            6.04,
            43.04,
            25.8,
            33.48,
            11.96,
            14.65,
            5.62,
            3.18,
            57.5,
            7.71,
            2.24,
            182,
            6.38,
            5.9,
            24.86,
            7.9
           ],
           "lat": [
            33.475,
            32.75,
            33.66666667,
            33.83333333,
            33.73333333,
            33.86666667,
            33.475,
            33.33333333,
            33.5,
            33.66666667,
            33.86166667,
            31.875,
            33.08333333,
            33.33666667,
            33.73333333,
            33.86666667,
            34.13833333,
            34.31166667,
            34.69166667,
            33.475,
            33.835
           ],
           "legendgroup": "",
           "lon": [
            -117.77833329999999,
            -120.725,
            -118.975,
            -118.625,
            -120.40666670000002,
            -120.125,
            -117.78333329999998,
            -119.65833329999998,
            -119.31666670000001,
            -118.975,
            -120.125,
            -119.625,
            -119.98333329999998,
            -119.65833329999998,
            -120.40833329999998,
            -120.13333329999999,
            -121.155,
            -120.79166670000001,
            -121.56666670000001,
            -117.77833329999999,
            -118.625
           ],
           "marker": {
            "color": [
             5.86,
             6.1,
             18,
             211.2,
             2.91,
             6.04,
             43.04,
             25.8,
             33.48,
             11.96,
             14.65,
             5.62,
             3.18,
             57.5,
             7.71,
             2.24,
             182,
             6.38,
             5.9,
             24.86,
             7.9
            ],
            "coloraxis": "coloraxis",
            "opacity": 1,
            "size": [
             1.7681496035889213,
             1.8082887711792655,
             2.8903717578961645,
             5.352805551832106,
             1.0681530811834012,
             1.7984040119467235,
             3.762129915853529,
             3.250374491927572,
             3.5109482456212744,
             2.481567748522486,
             2.6844403354630764,
             1.7263316639055997,
             1.1568811967920856,
             4.051784947803305,
             2.0425181875752383,
             0.8064758658669485,
             5.204006687076795,
             1.8531680973566984,
             1.7749523509116738,
             3.213260086082565,
             2.066862759472976
            ],
            "sizemode": "area",
            "sizeref": 0.021782444718499456
           },
           "mode": "markers",
           "name": "",
           "showlegend": false,
           "subplot": "mapbox",
           "type": "scattermapbox"
          }
         ],
         "name": "1959"
        },
        {
         "data": [
          {
           "hovertemplate": "<b>%{hovertext}</b><br><br>year=1960<br>sardine_size=%{marker.size}<br>latitude=%{lat}<br>longitude=%{lon}<br>Sardinops.sagax=%{marker.color}<extra></extra>",
           "hovertext": [
            2.66,
            2.88,
            5.3,
            27.54,
            2.76,
            26.7,
            2.27,
            2.61,
            1.96
           ],
           "lat": [
            32,
            32.66666667,
            32.90833333,
            33.86666667,
            32.83333333,
            32.91166667,
            32.91166667,
            32.65833333,
            33.47
           ],
           "legendgroup": "",
           "lon": [
            -119.225,
            -117.85833329999998,
            -118.935,
            -120.125,
            -117.525,
            -117.365,
            -117.3633333,
            -121.03333329999998,
            -117.77833329999999
           ],
           "marker": {
            "color": [
             2.66,
             2.88,
             5.3,
             27.54,
             2.76,
             26.7,
             2.27,
             2.61,
             1.96
            ],
            "coloraxis": "coloraxis",
            "opacity": 1,
            "size": [
             0.9783261227936078,
             1.0577902941478545,
             1.667706820558076,
             3.315639493300509,
             1.0152306797290584,
             3.2846635654062037,
             0.8197798314933114,
             0.959350221334602,
             0.6729444732424258
            ],
            "sizemode": "area",
            "sizeref": 0.021782444718499456
           },
           "mode": "markers",
           "name": "",
           "showlegend": false,
           "subplot": "mapbox",
           "type": "scattermapbox"
          }
         ],
         "name": "1960"
        },
        {
         "data": [
          {
           "hovertemplate": "<b>%{hovertext}</b><br><br>year=1961<br>sardine_size=%{marker.size}<br>latitude=%{lat}<br>longitude=%{lon}<br>Sardinops.sagax=%{marker.color}<extra></extra>",
           "hovertext": [
            2.75,
            57.96,
            9.92,
            11.01,
            10.71,
            11.13,
            2.99,
            21.4,
            2.03,
            2.71
           ],
           "lat": [
            33.16666667,
            33.33333333,
            33.86666667,
            31.5,
            32.16666667,
            33.18,
            32,
            33.47333333,
            33.33333333,
            33.83333333
           ],
           "legendgroup": "",
           "lon": [
            -120.00833329999999,
            -119.65833329999998,
            -120.125,
            -120.25,
            -118.875,
            -118.39666670000001,
            -119.225,
            -117.77833329999999,
            -119.65833329999998,
            -118.625
           ],
           "marker": {
            "color": [
             2.75,
             57.96,
             9.92,
             11.01,
             10.71,
             11.13,
             2.99,
             21.4,
             2.03,
             2.71
            ],
            "coloraxis": "coloraxis",
            "opacity": 1,
            "size": [
             1.0116009116784799,
             4.059753117452481,
             2.2945529212967815,
             2.3988039507345884,
             2.3711778844596574,
             2.4096441652874536,
             1.095273387402595,
             3.0633909220278057,
             0.7080357930536959,
             0.9969486348916096
            ],
            "sizemode": "area",
            "sizeref": 0.021782444718499456
           },
           "mode": "markers",
           "name": "",
           "showlegend": false,
           "subplot": "mapbox",
           "type": "scattermapbox"
          }
         ],
         "name": "1961"
        },
        {
         "data": [
          {
           "hovertemplate": "<b>%{hovertext}</b><br><br>year=1962<br>sardine_size=%{marker.size}<br>latitude=%{lat}<br>longitude=%{lon}<br>Sardinops.sagax=%{marker.color}<extra></extra>",
           "hovertext": [
            2.52,
            35.7,
            22.61,
            67.39,
            10.92,
            2.94,
            2.73
           ],
           "lat": [
            33.175,
            32.70833333,
            33.46833333,
            33.41666667,
            33.475,
            33.16666667,
            33.16666667
           ],
           "legendgroup": "",
           "lon": [
            -118.39166670000002,
            -119.42,
            -117.78,
            -117.89166670000002,
            -117.77833329999999,
            -120,
            -120
           ],
           "marker": {
            "color": [
             2.52,
             35.7,
             22.61,
             67.39,
             10.92,
             2.94,
             2.73
            ],
            "coloraxis": "coloraxis",
            "opacity": 1,
            "size": [
             0.9242589015233319,
             3.5751506887855933,
             3.1183922862898785,
             4.2104966389581255,
             2.390595970316759,
             1.0784095813505903,
             1.0043016091968684
            ],
            "sizemode": "area",
            "sizeref": 0.021782444718499456
           },
           "mode": "markers",
           "name": "",
           "showlegend": false,
           "subplot": "mapbox",
           "type": "scattermapbox"
          }
         ],
         "name": "1962"
        },
        {
         "data": [
          {
           "hovertemplate": "<b>%{hovertext}</b><br><br>year=1963<br>sardine_size=%{marker.size}<br>latitude=%{lat}<br>longitude=%{lon}<br>Sardinops.sagax=%{marker.color}<extra></extra>",
           "hovertext": [
            143.44,
            2.83,
            3.11,
            53.4,
            5.32,
            20.23,
            14.5
           ],
           "lat": [
            33.83333333,
            32,
            32.41666667,
            33.9,
            33.81666667,
            33.475,
            33.86333333
           ],
           "legendgroup": "",
           "lon": [
            -118.625,
            -119.21666670000002,
            -119.98333329999998,
            -118.49166670000001,
            -121.86666670000001,
            -117.77833329999999,
            -120.125
           ],
           "marker": {
            "color": [
             143.44,
             2.83,
             3.11,
             53.4,
             5.32,
             20.23,
             14.5
            ],
            "coloraxis": "coloraxis",
            "opacity": 1,
            "size": [
             4.965916829296877,
             1.0402767116551463,
             1.1346227261911428,
             3.977810745966149,
             1.6714733033535532,
             3.007166651179654,
             2.6741486494265287
            ],
            "sizemode": "area",
            "sizeref": 0.021782444718499456
           },
           "mode": "markers",
           "name": "",
           "showlegend": false,
           "subplot": "mapbox",
           "type": "scattermapbox"
          }
         ],
         "name": "1963"
        },
        {
         "data": [
          {
           "hovertemplate": "<b>%{hovertext}</b><br><br>year=1964<br>sardine_size=%{marker.size}<br>latitude=%{lat}<br>longitude=%{lon}<br>Sardinops.sagax=%{marker.color}<extra></extra>",
           "hovertext": [
            12.85
           ],
           "lat": [
            33.47333333
           ],
           "legendgroup": "",
           "lon": [
            -117.785
           ],
           "marker": {
            "color": [
             12.85
            ],
            "coloraxis": "coloraxis",
            "opacity": 1,
            "size": [
             2.553343811341229
            ],
            "sizemode": "area",
            "sizeref": 0.021782444718499456
           },
           "mode": "markers",
           "name": "",
           "showlegend": false,
           "subplot": "mapbox",
           "type": "scattermapbox"
          }
         ],
         "name": "1964"
        },
        {
         "data": [
          {
           "hovertemplate": "<b>%{hovertext}</b><br><br>year=1965<br>sardine_size=%{marker.size}<br>latitude=%{lat}<br>longitude=%{lon}<br>Sardinops.sagax=%{marker.color}<extra></extra>",
           "hovertext": [
            5.58,
            2.63,
            3.21,
            3.29,
            5.38,
            2.95
           ],
           "lat": [
            33.475,
            33.90166667,
            32.90833333,
            33.66666667,
            33.90333333,
            32.84166667
           ],
           "legendgroup": "",
           "lon": [
            -117.7766667,
            -118.49,
            -117.38,
            -118.96666670000002,
            -118.49,
            -117.51666670000002
           ],
           "marker": {
            "color": [
             5.58,
             2.63,
             3.21,
             3.29,
             5.38,
             2.95
            ],
            "coloraxis": "coloraxis",
            "opacity": 1,
            "size": [
             1.7191887763932197,
             0.9669838461896731,
             1.1662709371419244,
             1.1908875647772805,
             1.682688374173693,
             1.0818051703517284
            ],
            "sizemode": "area",
            "sizeref": 0.021782444718499456
           },
           "mode": "markers",
           "name": "",
           "showlegend": false,
           "subplot": "mapbox",
           "type": "scattermapbox"
          }
         ],
         "name": "1965"
        },
        {
         "data": [
          {
           "hovertemplate": "<b>%{hovertext}</b><br><br>year=1966<br>sardine_size=%{marker.size}<br>latitude=%{lat}<br>longitude=%{lon}<br>Sardinops.sagax=%{marker.color}<extra></extra>",
           "hovertext": [
            5.14,
            9.75
           ],
           "lat": [
            32.91166667,
            33.90333333
           ],
           "legendgroup": "",
           "lon": [
            -117.3633333,
            -118.49
           ],
           "marker": {
            "color": [
             5.14,
             9.75
            ],
            "coloraxis": "coloraxis",
            "opacity": 1,
            "size": [
             1.6370530794670737,
             2.277267285009756
            ],
            "sizemode": "area",
            "sizeref": 0.021782444718499456
           },
           "mode": "markers",
           "name": "",
           "showlegend": false,
           "subplot": "mapbox",
           "type": "scattermapbox"
          }
         ],
         "name": "1966"
        },
        {
         "data": [
          {
           "hovertemplate": "<b>%{hovertext}</b><br><br>year=1969<br>sardine_size=%{marker.size}<br>latitude=%{lat}<br>longitude=%{lon}<br>Sardinops.sagax=%{marker.color}<extra></extra>",
           "hovertext": [
            6.52
           ],
           "lat": [
            33.475
           ],
           "legendgroup": "",
           "lon": [
            -117.77833329999999
           ],
           "marker": {
            "color": [
             6.52
            ],
            "coloraxis": "coloraxis",
            "opacity": 1,
            "size": [
             1.8748743759385615
            ],
            "sizemode": "area",
            "sizeref": 0.021782444718499456
           },
           "mode": "markers",
           "name": "",
           "showlegend": false,
           "subplot": "mapbox",
           "type": "scattermapbox"
          }
         ],
         "name": "1969"
        },
        {
         "data": [
          {
           "hovertemplate": "<b>%{hovertext}</b><br><br>year=1978<br>sardine_size=%{marker.size}<br>latitude=%{lat}<br>longitude=%{lon}<br>Sardinops.sagax=%{marker.color}<extra></extra>",
           "hovertext": [
            25.2
           ],
           "lat": [
            34.20833333
           ],
           "legendgroup": "",
           "lon": [
            -119.40333329999999
           ],
           "marker": {
            "color": [
             25.2
            ],
            "coloraxis": "coloraxis",
            "opacity": 1,
            "size": [
             3.2268439945173775
            ],
            "sizemode": "area",
            "sizeref": 0.021782444718499456
           },
           "mode": "markers",
           "name": "",
           "showlegend": false,
           "subplot": "mapbox",
           "type": "scattermapbox"
          }
         ],
         "name": "1978"
        },
        {
         "data": [
          {
           "hovertemplate": "<b>%{hovertext}</b><br><br>year=1981<br>sardine_size=%{marker.size}<br>latitude=%{lat}<br>longitude=%{lon}<br>Sardinops.sagax=%{marker.color}<extra></extra>",
           "hovertext": [
            31.74,
            5.75,
            10.05504587
           ],
           "lat": [
            33.89,
            33.87833333,
            34.45
           ],
           "legendgroup": "",
           "lon": [
            -118.49,
            -120.13333329999999,
            -120.52333329999999
           ],
           "marker": {
            "color": [
             31.74,
             5.75,
             10.05504587
            ],
            "coloraxis": "coloraxis",
            "opacity": 1,
            "size": [
             3.457577715098263,
             1.749199854809259,
             2.3080745851237077
            ],
            "sizemode": "area",
            "sizeref": 0.021782444718499456
           },
           "mode": "markers",
           "name": "",
           "showlegend": false,
           "subplot": "mapbox",
           "type": "scattermapbox"
          }
         ],
         "name": "1981"
        },
        {
         "data": [
          {
           "hovertemplate": "<b>%{hovertext}</b><br><br>year=1984<br>sardine_size=%{marker.size}<br>latitude=%{lat}<br>longitude=%{lon}<br>Sardinops.sagax=%{marker.color}<extra></extra>",
           "hovertext": [
            24.5,
            93.66,
            38.08,
            9.708171206,
            39
           ],
           "lat": [
            33.25,
            34.225,
            34.45,
            33.74333333,
            34.225
           ],
           "legendgroup": "",
           "lon": [
            -118.24833329999998,
            -119.41166670000001,
            -120.52333329999999,
            -120.40666670000002,
            -119.41166670000001
           ],
           "marker": {
            "color": [
             24.5,
             93.66,
             38.08,
             9.708171206,
             39
            ],
            "coloraxis": "coloraxis",
            "opacity": 1,
            "size": [
             3.1986731175506815,
             4.539671203755396,
             3.6396892099231644,
             2.2729679232671525,
             3.6635616461296463
            ],
            "sizemode": "area",
            "sizeref": 0.021782444718499456
           },
           "mode": "markers",
           "name": "",
           "showlegend": false,
           "subplot": "mapbox",
           "type": "scattermapbox"
          }
         ],
         "name": "1984"
        },
        {
         "data": [
          {
           "hovertemplate": "<b>%{hovertext}</b><br><br>year=1985<br>sardine_size=%{marker.size}<br>latitude=%{lat}<br>longitude=%{lon}<br>Sardinops.sagax=%{marker.color}<extra></extra>",
           "hovertext": [
            16.25899281,
            43.32640333,
            214.5,
            10.90534979,
            597.76,
            918.2617587000001,
            758.8343557999999,
            29.93877551,
            52.84810127,
            4.36
           ],
           "lat": [
            32.08666667,
            33.82333333,
            33.88833333,
            33.89,
            34.225,
            34.17833333,
            34.21,
            34.315,
            33.25166667,
            33.485
           ],
           "legendgroup": "",
           "lon": [
            -120.645,
            -118.62833329999998,
            -118.4883333,
            -118.49,
            -119.41,
            -119.50833329999999,
            -119.415,
            -120.80333329999999,
            -118.25,
            -117.76833329999998
           ],
           "marker": {
            "color": [
             16.25899281,
             43.32640333,
             214.5,
             10.90534979,
             597.76,
             918.2617587000001,
             758.8343557999999,
             29.93877551,
             52.84810127,
             4.36
            ],
            "coloraxis": "coloraxis",
            "opacity": 1,
            "size": [
             2.7886461593967016,
             3.7687622258445552,
             5.368309738368072,
             2.3892534752510404,
             6.3931893356004235,
             6.822482490171829,
             6.631783513525103,
             3.3991544800255387,
             3.967421784896976,
             1.472472057360943
            ],
            "sizemode": "area",
            "sizeref": 0.021782444718499456
           },
           "mode": "markers",
           "name": "",
           "showlegend": false,
           "subplot": "mapbox",
           "type": "scattermapbox"
          }
         ],
         "name": "1985"
        },
        {
         "data": [
          {
           "hovertemplate": "<b>%{hovertext}</b><br><br>year=1986<br>sardine_size=%{marker.size}<br>latitude=%{lat}<br>longitude=%{lon}<br>Sardinops.sagax=%{marker.color}<extra></extra>",
           "hovertext": [
            162.43,
            33.70212766,
            286.52,
            61.10204082,
            11.2371134,
            97.91271347,
            10.44834308,
            22.15,
            85.76998051,
            22.35,
            4.68,
            23.6,
            29.76,
            154.66,
            28.25918762,
            9.359698682000001
           ],
           "lat": [
            33.88833333,
            33.18666667,
            33.41833333,
            33.485,
            33.82333333,
            33.89,
            33.15,
            32.95166667,
            33.25166667,
            33.485,
            33.89,
            34.27333333,
            34.315,
            34.45166667,
            34.88833333,
            35.02333333
           ],
           "legendgroup": "",
           "lon": [
            -118.49166670000001,
            -118.385,
            -117.90666670000002,
            -117.76833329999998,
            -118.62833329999998,
            -118.49,
            -123.22166670000001,
            -117.30333329999999,
            -118.24833329999998,
            -117.77166670000001,
            -118.49,
            -120.04833329999998,
            -120.80166670000001,
            -120.52333329999999,
            -121.19833329999999,
            -120.915
           ],
           "marker": {
            "color": [
             162.43,
             33.70212766,
             286.52,
             61.10204082,
             11.2371134,
             97.91271347,
             10.44834308,
             22.15,
             85.76998051,
             22.35,
             4.68,
             23.6,
             29.76,
             154.66,
             28.25918762,
             9.359698682000001
            ],
            "coloraxis": "coloraxis",
            "opacity": 1,
            "size": [
             5.0902471397313045,
             3.517560970676939,
             5.65780834174625,
             4.112545266929067,
             2.4192219965363204,
             4.584076402902904,
             2.346443408901541,
             3.0978374964911444,
             4.451669067766674,
             3.106826321059578,
             1.5432981099295553,
             3.1612467120315646,
             3.393165209964891,
             5.041229159180889,
             3.3414186302048305,
             2.2364130978773074
            ],
            "sizemode": "area",
            "sizeref": 0.021782444718499456
           },
           "mode": "markers",
           "name": "",
           "showlegend": false,
           "subplot": "mapbox",
           "type": "scattermapbox"
          }
         ],
         "name": "1986"
        },
        {
         "data": [
          {
           "hovertemplate": "<b>%{hovertext}</b><br><br>year=1987<br>sardine_size=%{marker.size}<br>latitude=%{lat}<br>longitude=%{lon}<br>Sardinops.sagax=%{marker.color}<extra></extra>",
           "hovertext": [
            10.11009174,
            68.18,
            1250.246914,
            135.95375719999998,
            23.95,
            9.98,
            118.64915570000001,
            127.71,
            9.94,
            4.83,
            24.95,
            53.57,
            61.74,
            19.39271255,
            5.07
           ],
           "lat": [
            33.18666667,
            33.88833333,
            33.87833333,
            34.17833333,
            34.45,
            32.57833333,
            34.17833333,
            34.22333333,
            34.28333333,
            32.81666667,
            33.89166667,
            34.18,
            34.22666667,
            34.28333333,
            33.89
           ],
           "legendgroup": "",
           "lon": [
            -118.38833329999999,
            -118.49166670000001,
            -120.13333329999999,
            -119.50833329999999,
            -120.52333329999999,
            -122.81166670000002,
            -119.50833329999999,
            -119.41166670000001,
            -120.03333329999998,
            -123.90833329999998,
            -118.49166670000001,
            -119.50666670000001,
            -119.41,
            -120.035,
            -118.49
           ],
           "marker": {
            "color": [
             10.11009174,
             68.18,
             1250.246914,
             135.95375719999998,
             23.95,
             9.98,
             118.64915570000001,
             127.71,
             9.94,
             4.83,
             24.95,
             53.57,
             61.74,
             19.39271255,
             5.07
            ],
            "coloraxis": "coloraxis",
            "opacity": 1,
            "size": [
             2.3135341071751863,
             4.222151266709757,
             7.131096341989628,
             4.912314807327709,
             3.175968323856924,
             2.300583090323373,
             4.776170866969392,
             4.849762068508171,
             2.2965670206684825,
             1.5748464676644813,
             3.2168738221975275,
             3.980989209892869,
             4.122932019074013,
             2.9648973537456684,
             1.623340817603092
            ],
            "sizemode": "area",
            "sizeref": 0.021782444718499456
           },
           "mode": "markers",
           "name": "",
           "showlegend": false,
           "subplot": "mapbox",
           "type": "scattermapbox"
          }
         ],
         "name": "1987"
        },
        {
         "data": [
          {
           "hovertemplate": "<b>%{hovertext}</b><br><br>year=1988<br>sardine_size=%{marker.size}<br>latitude=%{lat}<br>longitude=%{lon}<br>Sardinops.sagax=%{marker.color}<extra></extra>",
           "hovertext": [
            5.11,
            20.8,
            4.64,
            5.25,
            5.03,
            143.04,
            4.94,
            20.6,
            5.26,
            16.23,
            33.12244898,
            15.21,
            59.76516634,
            10.34,
            21.48,
            38.64,
            97.80346821,
            72.3,
            9.98,
            39.04,
            21.64,
            166.32,
            42.78688525,
            18.4765625,
            309.88,
            223.08,
            175.56,
            14.07,
            22.86,
            4.74,
            17.2,
            50.19569472,
            4.49,
            5.84
           ],
           "lat": [
            32.17833333,
            32.085,
            31.32333333,
            32.245,
            32.08333333,
            33.41833333,
            31.99,
            32.65666667,
            32.98666667,
            33.15666667,
            33.82333333,
            32.575,
            32.91166667,
            33.81833333,
            32.18166667,
            32.65166667,
            33.41833333,
            33.485,
            32.99,
            33.15666667,
            33.82333333,
            33.89166667,
            33.57833333,
            33.745,
            33.87833333,
            34.17833333,
            34.22333333,
            34.45,
            32.95666667,
            32.65833333,
            33.325,
            33.74833333,
            33.875,
            34.17833333
           ],
           "legendgroup": "",
           "lon": [
            -118.89666670000001,
            -120.64166670000002,
            -123.74166670000001,
            -123.49166670000001,
            -120.64,
            -117.905,
            -122.395,
            -121.03333329999998,
            -120.3483333,
            -120.00666670000001,
            -118.62833329999998,
            -122.81333329999998,
            -122.12833329999998,
            -121.84166670000002,
            -118.895,
            -119.48166670000002,
            -117.905,
            -117.76833329999998,
            -120.35,
            -120.00833329999999,
            -118.62833329999998,
            -118.49,
            -120.755,
            -120.41166670000001,
            -120.135,
            -119.50833329999999,
            -119.41666670000001,
            -120.52333329999999,
            -117.30666670000001,
            -121.03166670000002,
            -119.66333329999999,
            -120.41,
            -120.14,
            -119.50833329999999
           ],
           "marker": {
            "color": [
             5.11,
             20.8,
             4.64,
             5.25,
             5.03,
             143.04,
             4.94,
             20.6,
             5.26,
             16.23,
             33.12244898,
             15.21,
             59.76516634,
             10.34,
             21.48,
             38.64,
             97.80346821,
             72.3,
             9.98,
             39.04,
             21.64,
             166.32,
             42.78688525,
             18.4765625,
             309.88,
             223.08,
             175.56,
             14.07,
             22.86,
             4.74,
             17.2,
             50.19569472,
             4.49,
             5.84
            ],
            "coloraxis": "coloraxis",
            "opacity": 1,
            "size": [
             1.631199404215613,
             3.0349529867072724,
             1.534714366238164,
             1.6582280766035324,
             1.6154199841116479,
             4.963124311425204,
             1.5973653311998313,
             3.0252910757955354,
             1.6601310267496185,
             2.7868613815264998,
             3.5002112694162877,
             2.7219531062712017,
             4.090422988560405,
             2.336019869080283,
             3.067122269640664,
             3.654288009344317,
             4.582960038681939,
             4.280824129164719,
             2.300583090323373,
             3.664586761544892,
             3.074543453978281,
             5.113913643549758,
             3.7562316362392134,
             2.916503037006416,
             5.7361851257637015,
             5.407530451521353,
             5.167980864820033,
             2.644044871126298,
             3.1293886583666644,
             1.556037135706985,
             2.8449093838194073,
             3.915929260470065,
             1.501852701754163,
             1.7647307968401356
            ],
            "sizemode": "area",
            "sizeref": 0.021782444718499456
           },
           "mode": "markers",
           "name": "",
           "showlegend": false,
           "subplot": "mapbox",
           "type": "scattermapbox"
          }
         ],
         "name": "1988"
        },
        {
         "data": [
          {
           "hovertemplate": "<b>%{hovertext}</b><br><br>year=1989<br>sardine_size=%{marker.size}<br>latitude=%{lat}<br>longitude=%{lon}<br>Sardinops.sagax=%{marker.color}<extra></extra>",
           "hovertext": [
            126.48,
            114.54,
            35.91,
            10.86419753,
            10.94758065,
            166.4,
            14.91,
            9.78,
            14.16,
            42.88,
            9.42,
            8.62,
            85.5,
            15.21,
            10.28,
            25.03937008,
            9.844054581,
            55.14705882,
            5.29,
            22.2,
            5.31,
            31.86,
            40.18,
            527.16,
            511,
            5.22,
            176,
            369.26,
            260.23,
            609.84,
            585.57,
            2369.5102039999997,
            41.92,
            273.8461538,
            40.8,
            5.04
           ],
           "lat": [
            32.99,
            33.89,
            34.22666667,
            34.275,
            35.02166667,
            31.51333333,
            31.84,
            31.75,
            33.42,
            33.485,
            32.65666667,
            32.99166667,
            33.82333333,
            33.245,
            33.87833333,
            34.225,
            33.72166667,
            34.38833333,
            31.615,
            32.84666667,
            32.91333333,
            32.955,
            33.25,
            33.35333333,
            33.48333333,
            33.32333333,
            33.825,
            33.89,
            33.87833333,
            34.17833333,
            34.225,
            34.275,
            34.15,
            34.31833333,
            34.45,
            34.31166667
           ],
           "legendgroup": "",
           "lon": [
            -120.3483333,
            -118.49333329999999,
            -119.40833329999998,
            -120.025,
            -120.91833329999999,
            -120.245,
            -119.57666670000002,
            -121.31833329999999,
            -117.90333329999999,
            -117.76833329999998,
            -121.03333329999998,
            -120.35,
            -118.62833329999998,
            -121.44333329999999,
            -120.13333329999999,
            -119.41166670000001,
            -123.63333329999999,
            -122.24833329999998,
            -120.215,
            -117.53,
            -117.39333329999998,
            -117.30666670000001,
            -118.25166670000002,
            -117.90333329999999,
            -117.76833329999998,
            -119.66333329999999,
            -118.62666670000002,
            -118.49,
            -120.13166670000001,
            -119.50833329999999,
            -119.41166670000001,
            -120.02333329999999,
            -121.14833329999999,
            -120.80166670000001,
            -120.52333329999999,
            -120.81166670000002
           ],
           "marker": {
            "color": [
             126.48,
             114.54,
             35.91,
             10.86419753,
             10.94758065,
             166.4,
             14.91,
             9.78,
             14.16,
             42.88,
             9.42,
             8.62,
             85.5,
             15.21,
             10.28,
             25.03937008,
             9.844054581,
             55.14705882,
             5.29,
             22.2,
             5.31,
             31.86,
             40.18,
             527.16,
             511,
             5.22,
             176,
             369.26,
             260.23,
             609.84,
             585.57,
             2369.5102039999997,
             41.92,
             273.8461538,
             40.8,
             5.04
            ],
            "coloraxis": "coloraxis",
            "opacity": 1,
            "size": [
             4.840084192901217,
             4.7409241069657115,
             3.5810158082379915,
             2.385472752720268,
             2.393118486645043,
             5.114394528387108,
             2.702032128776647,
             2.280339484046726,
             2.6504210882655737,
             3.7584055167625467,
             2.2428350885882717,
             2.1540850846756014,
             4.448516375942715,
             2.7219531062712017,
             2.330200260027019,
             3.2204493893659456,
             2.286867677109131,
             4.01000341372435,
             1.665818245870208,
             3.100092288878234,
             1.6695918352538475,
             3.4613513044819024,
             3.6933693593867885,
             6.267504107775689,
             6.236369590203704,
             1.6524974018945473,
             5.170483995038151,
             5.911501002967597,
             5.561565855358551,
             6.413196627680018,
             6.3725857318266295,
             7.770438547792124,
             3.735763040012787,
             5.612566466216,
             3.708682081410116,
             1.6174060820832772
            ],
            "sizemode": "area",
            "sizeref": 0.021782444718499456
           },
           "mode": "markers",
           "name": "",
           "showlegend": false,
           "subplot": "mapbox",
           "type": "scattermapbox"
          }
         ],
         "name": "1989"
        },
        {
         "data": [
          {
           "hovertemplate": "<b>%{hovertext}</b><br><br>year=1990<br>sardine_size=%{marker.size}<br>latitude=%{lat}<br>longitude=%{lon}<br>Sardinops.sagax=%{marker.color}<extra></extra>",
           "hovertext": [
            4.74,
            4.71,
            20.32,
            30.18,
            19.16508539,
            4.25,
            9.2578125,
            45,
            17.08,
            4.62,
            3412.2,
            491.83,
            235.24366469999998,
            77.77777778,
            49.26315789,
            13.32,
            9.835390947,
            43.4,
            4.57,
            8.14,
            4.02,
            19.28,
            4.3,
            8.464491362999999
           ],
           "lat": [
            33.485,
            31.99166667,
            33.81666667,
            34.72166667,
            31.845,
            33.485,
            33.65666667,
            33.82333333,
            33.89,
            33.745,
            34.18,
            34.225,
            34.275,
            34.14666667,
            34.31666667,
            34.45166667,
            34.38833333,
            33.485,
            33.82166667,
            33.89166667,
            34.225,
            34.275,
            34.15166667,
            34.72333333
           ],
           "legendgroup": "",
           "lon": [
            -117.76666670000002,
            -122.39333329999998,
            -121.84333329999998,
            -121.55,
            -119.57333329999999,
            -117.76833329999998,
            -118.97666670000001,
            -118.62833329999998,
            -118.49,
            -120.41333329999999,
            -119.51333329999999,
            -119.41166670000001,
            -120.0266667,
            -121.155,
            -120.80333329999999,
            -120.525,
            -122.245,
            -117.77,
            -118.62833329999998,
            -118.49166670000001,
            -119.41,
            -120.02333329999999,
            -121.15,
            -121.54833329999998
           ],
           "marker": {
            "color": [
             4.74,
             4.71,
             20.32,
             30.18,
             19.16508539,
             4.25,
             9.2578125,
             45,
             17.08,
             4.62,
             3412.2,
             491.83,
             235.24366469999998,
             77.77777778,
             49.26315789,
             13.32,
             9.835390947,
             43.4,
             4.57,
             8.14,
             4.02,
             19.28,
             4.3,
             8.464491362999999
            ],
            "coloraxis": "coloraxis",
            "opacity": 1,
            "size": [
             1.556037135706985,
             1.5496879080283263,
             3.011605622710281,
             3.407179453339703,
             2.953090154340464,
             1.4469189829363254,
             2.2254677896496142,
             3.8066624897703196,
             2.837908188360424,
             1.5303947050936475,
             8.135112523540808,
             6.198133128328313,
             5.460621848028479,
             4.353855757735757,
             3.8971764972149976,
             2.589266665112243,
             2.2859872016356357,
             3.770459441106359,
             1.5195132049061133,
             2.096790180014449,
             1.3912819026309295,
             2.9590682891823996,
             1.4586150226995167,
             2.1358799267154156
            ],
            "sizemode": "area",
            "sizeref": 0.021782444718499456
           },
           "mode": "markers",
           "name": "",
           "showlegend": false,
           "subplot": "mapbox",
           "type": "scattermapbox"
          }
         ],
         "name": "1990"
        },
        {
         "data": [
          {
           "hovertemplate": "<b>%{hovertext}</b><br><br>year=1991<br>sardine_size=%{marker.size}<br>latitude=%{lat}<br>longitude=%{lon}<br>Sardinops.sagax=%{marker.color}<extra></extra>",
           "hovertext": [
            9.94,
            4.78,
            4.65,
            6.82,
            28.63,
            5.17,
            71.4,
            24.84,
            109.6875,
            4.72,
            17.08,
            21.71907757,
            13.53,
            9.435146443999999,
            11.05708245,
            203.51,
            63.98,
            46.61508704,
            218.5,
            46.98,
            94.29,
            1176.24,
            447.67,
            77.6,
            47.9,
            621.6,
            14.25,
            18.92,
            496.12403099999995,
            152.79,
            32.9,
            8.5,
            168.600823,
            20.28571429,
            122.13610590000002,
            47,
            22.7672956,
            21.19341564,
            39.56427015,
            9.42,
            14.58,
            4.75,
            12.3,
            270.75,
            91.68,
            103,
            34.8,
            19.26229508,
            9.4,
            17.32,
            25.6,
            4.75
           ],
           "lat": [
            32.01166667,
            33.25166667,
            32.99,
            33.32333333,
            33.49,
            33.65666667,
            33.82166667,
            33.89,
            33.72833333,
            34.17833333,
            34.225,
            35.02166667,
            35.09,
            31.51333333,
            32.51333333,
            32.95666667,
            31.75166667,
            32.65166667,
            33.185,
            33.25166667,
            33.485,
            33.325,
            33.49,
            33.65666667,
            33.82333333,
            33.89,
            32.24166667,
            32.57833333,
            33.745,
            33.87833333,
            34.17666667,
            34.225,
            34.275,
            34.15,
            34.31666667,
            34.45166667,
            32.51333333,
            32.65,
            32.91833333,
            33.25166667,
            33.42,
            33.32333333,
            33.89,
            34.17833333,
            34.22666667,
            34.31833333,
            34.45,
            34.88833333,
            32.95666667,
            33.18666667,
            33.25,
            33.82333333
           ],
           "legendgroup": "",
           "lon": [
            -119.23166670000002,
            -118.25,
            -120.3483333,
            -119.66166670000001,
            -119.31666670000001,
            -118.97666670000001,
            -118.63166670000001,
            -118.49166670000001,
            -120.445,
            -119.50833329999999,
            -119.41166670000001,
            -120.91833329999999,
            -120.775,
            -120.245,
            -118.215,
            -117.30666670000001,
            -121.315,
            -119.48,
            -118.38833329999999,
            -118.25,
            -117.76833329999998,
            -119.66333329999999,
            -119.31833329999999,
            -118.975,
            -118.62833329999998,
            -118.49,
            -123.49333329999999,
            -122.81166670000002,
            -120.41,
            -120.13333329999999,
            -119.50833329999999,
            -119.41166670000001,
            -120.025,
            -121.15,
            -120.80166670000001,
            -120.52333329999999,
            -118.21333329999999,
            -119.48166670000002,
            -118.935,
            -118.255,
            -117.90333329999999,
            -119.66166670000001,
            -118.49,
            -119.50833329999999,
            -119.41333329999999,
            -120.80333329999999,
            -120.52333329999999,
            -121.19833329999999,
            -117.305,
            -118.385,
            -118.25,
            -118.62833329999998
           ],
           "marker": {
            "color": [
             9.94,
             4.78,
             4.65,
             6.82,
             28.63,
             5.17,
             71.4,
             24.84,
             109.6875,
             4.72,
             17.08,
             21.71907757,
             13.53,
             9.435146443999999,
             11.05708245,
             203.51,
             63.98,
             46.61508704,
             218.5,
             46.98,
             94.29,
             1176.24,
             447.67,
             77.6,
             47.9,
             621.6,
             14.25,
             18.92,
             496.12403099999995,
             152.79,
             32.9,
             8.5,
             168.600823,
             20.28571429,
             122.13610590000002,
             47,
             22.7672956,
             21.19341564,
             39.56427015,
             9.42,
             14.58,
             4.75,
             12.3,
             270.75,
             91.68,
             103,
             34.8,
             19.26229508,
             9.4,
             17.32,
             25.6,
             4.75
            ],
            "coloraxis": "coloraxis",
            "opacity": 1,
            "size": [
             2.2965670206684825,
             1.5644405465033646,
             1.536867219599265,
             1.9198594718553708,
             3.354455119110024,
             1.6428726885203377,
             4.268297869345539,
             3.212455257065278,
             4.697635413660185,
             1.5518087995974639,
             2.837908188360424,
             3.0781910250110402,
             2.604909442182697,
             2.244441700056709,
             2.40307116834715,
             5.315715143724457,
             4.158570534521372,
             3.841924244957039,
             5.3867860145356445,
             3.849721979230767,
             4.546375139477586,
             7.070078189269402,
             6.104056353843788,
             4.351567427189173,
             3.8691155044168695,
             6.432296799053438,
             2.6567569067146595,
             2.9402195636237325,
             6.2068259579645115,
             5.029064429564623,
             3.493472657771326,
             2.1400661634962708,
             5.127533926931879,
             3.0099169087572153,
             4.805136045020487,
             3.8501476017100584,
             3.1253251027100823,
             3.0536905504182044,
             3.677926442031413,
             2.2428350885882717,
             2.6796507265805123,
             1.55814461804655,
             2.509599262378372,
             5.6011958858811,
             4.51830425296643,
             4.634728988229636,
             3.5496173867804286,
             2.9581495623028204,
             2.2407096892759584,
             2.851861903134289,
             3.242592351485517,
             1.55814461804655
            ],
            "sizemode": "area",
            "sizeref": 0.021782444718499456
           },
           "mode": "markers",
           "name": "",
           "showlegend": false,
           "subplot": "mapbox",
           "type": "scattermapbox"
          }
         ],
         "name": "1991"
        },
        {
         "data": [
          {
           "hovertemplate": "<b>%{hovertext}</b><br><br>year=1992<br>sardine_size=%{marker.size}<br>latitude=%{lat}<br>longitude=%{lon}<br>Sardinops.sagax=%{marker.color}<extra></extra>",
           "hovertext": [
            3.77,
            5.01,
            24.8,
            38.28793774,
            72,
            62.4,
            94.4,
            4.86,
            3.69,
            15.54,
            4.66,
            52.32,
            4.94,
            20,
            9.58,
            4.77,
            19.24,
            97.47,
            4.91,
            4.19,
            4.8,
            4.46,
            44.4,
            10.56,
            9.98,
            239.844358,
            228.25757579999998,
            15.33,
            4.13,
            5.01,
            20.04,
            10.42462845,
            102.9469548,
            4.47,
            20.91097308,
            30.57939914,
            23.95
           ],
           "lat": [
            32.95833333,
            32.41833333,
            32.65333333,
            33.25,
            33.32333333,
            33.82333333,
            33.89,
            33.87833333,
            34.225,
            34.275,
            34.31666667,
            34.45,
            32.67666667,
            32.91333333,
            32.95666667,
            33.185,
            33.25166667,
            33.41833333,
            33.485,
            32.65666667,
            33.82333333,
            33.89,
            34.15,
            34.88833333,
            32.18166667,
            32.51333333,
            32.68,
            32.84666667,
            32.95833333,
            33.16666667,
            33.25,
            33.42,
            33.485,
            33.32333333,
            33.65666667,
            33.89,
            33.87833333
           ],
           "legendgroup": "",
           "lon": [
            -117.305,
            -119.96,
            -119.48,
            -118.25,
            -119.66333329999999,
            -118.62833329999998,
            -118.49,
            -120.13166670000001,
            -119.41,
            -120.025,
            -120.80166670000001,
            -120.52333329999999,
            -117.87333329999998,
            -117.395,
            -117.30666670000001,
            -118.3866667,
            -118.25166670000002,
            -117.905,
            -117.76833329999998,
            -121.035,
            -118.62833329999998,
            -118.49,
            -121.15,
            -121.19833329999999,
            -118.89333329999998,
            -118.215,
            -117.875,
            -117.53166670000002,
            -117.30333329999999,
            -118.42166670000002,
            -118.25,
            -117.905,
            -117.77,
            -119.66333329999999,
            -118.97666670000001,
            -118.49,
            -120.13333329999999
           ],
           "marker": {
            "color": [
             3.77,
             5.01,
             24.8,
             38.28793774,
             72,
             62.4,
             94.4,
             4.86,
             3.69,
             15.54,
             4.66,
             52.32,
             4.94,
             20,
             9.58,
             4.77,
             19.24,
             97.47,
             4.91,
             4.19,
             4.8,
             4.46,
             44.4,
             10.56,
             9.98,
             239.844358,
             228.25757579999998,
             15.33,
             4.13,
             5.01,
             20.04,
             10.42462845,
             102.9469548,
             4.47,
             20.91097308,
             30.57939914,
             23.95
            ],
            "coloraxis": "coloraxis",
            "opacity": 1,
            "size": [
             1.3270750014599193,
             1.6114359150967734,
             3.2108436531709366,
             3.6451349050677457,
             4.276666119016055,
             4.133565275375382,
             4.547541073151455,
             1.5810384379124025,
             1.3056264580524357,
             2.7434173449395014,
             1.5390154481375546,
             3.9573787071489432,
             1.5973653311998313,
             2.995732273553991,
             2.259677591982769,
             1.5623463049002497,
             2.9569914452375605,
             4.579544638349119,
             1.5912739418064292,
             1.4327007339340465,
             1.5686159179138452,
             1.4951487660319727,
             3.7932394694381792,
             2.3570732782781154,
             2.300583090323373,
             5.479990204636172,
             5.430474709723837,
             2.7298116928837226,
             1.4182774069729414,
             1.6114359150967734,
             2.997730276216664,
             2.344171126761965,
             4.6342138536288395,
             1.4973884086254774,
             3.040274048943115,
             3.4203265515178174,
             3.175968323856924
            ],
            "sizemode": "area",
            "sizeref": 0.021782444718499456
           },
           "mode": "markers",
           "name": "",
           "showlegend": false,
           "subplot": "mapbox",
           "type": "scattermapbox"
          }
         ],
         "name": "1992"
        },
        {
         "data": [
          {
           "hovertemplate": "<b>%{hovertext}</b><br><br>year=1993<br>sardine_size=%{marker.size}<br>latitude=%{lat}<br>longitude=%{lon}<br>Sardinops.sagax=%{marker.color}<extra></extra>",
           "hovertext": [
            85.12,
            1085.76,
            159.34,
            155.4,
            16.23,
            10.28,
            5.18,
            85.5,
            19.28,
            68.18,
            107.73,
            103.8,
            4.68,
            4.06,
            3.76,
            14.52,
            4.31,
            4.68,
            4.81,
            20.2,
            27.12,
            652.62,
            10.02,
            9,
            46.9279661,
            42.9,
            23.88,
            342.42,
            44.24,
            14.58,
            4.69,
            4.2
           ],
           "lat": [
            32.18166667,
            32.34666667,
            32.51333333,
            32.68,
            32.84666667,
            31.41833333,
            31.75166667,
            32.91833333,
            33.25166667,
            33.485,
            32.65666667,
            33,
            33.89,
            33.57833333,
            34.15,
            34.38833333,
            31.18166667,
            32.84666667,
            32.90666667,
            32.955,
            33.25166667,
            33.48166667,
            33.49166667,
            33.65666667,
            33.82333333,
            33.88833333,
            33.74333333,
            34.18,
            34.22333333,
            33.485,
            33.82166667,
            33.89
           ],
           "legendgroup": "",
           "lon": [
            -118.89333329999998,
            -118.555,
            -118.215,
            -117.875,
            -117.53166670000002,
            -121.99,
            -121.315,
            -118.93333329999999,
            -118.25,
            -117.76833329999998,
            -121.03333329999998,
            -120.34666670000001,
            -118.49,
            -120.755,
            -121.14833329999999,
            -122.24666670000002,
            -120.92,
            -117.53,
            -117.39333329999998,
            -117.30333329999999,
            -118.25333329999998,
            -117.76833329999998,
            -119.31833329999999,
            -118.90666670000002,
            -118.625,
            -118.49166670000001,
            -120.41,
            -119.41333329999999,
            -119.41333329999999,
            -117.76666670000002,
            -118.625,
            -118.49333329999999
           ],
           "marker": {
            "color": [
             85.12,
             1085.76,
             159.34,
             155.4,
             16.23,
             10.28,
             5.18,
             85.5,
             19.28,
             68.18,
             107.73,
             103.8,
             4.68,
             4.06,
             3.76,
             14.52,
             4.31,
             4.68,
             4.81,
             20.2,
             27.12,
             652.62,
             10.02,
             9,
             46.9279661,
             42.9,
             23.88,
             342.42,
             44.24,
             14.58,
             4.69,
             4.2
            ],
            "coloraxis": "coloraxis",
            "opacity": 1,
            "size": [
             4.444062025593334,
             6.990035481595865,
             5.07104028395222,
             5.046002437933547,
             2.7868613815264998,
             2.330200260027019,
             1.6448050562713916,
             4.448516375942715,
             2.9590682891823996,
             4.222151266709757,
             4.679628096906101,
             4.642465970731788,
             1.5432981099295553,
             1.4011829736136412,
             1.324418957401803,
             2.67552700939665,
             1.4609379041156563,
             1.5432981099295553,
             1.5706970841176697,
             3.005682604407159,
             3.3002714630721948,
             6.480995030333814,
             2.3045830956567186,
             2.1972245773362196,
             3.848613789851609,
             3.758871825933971,
             3.1730412885244013,
             5.836038053776671,
             3.7896293572140793,
             2.6796507265805123,
             1.545432582458188,
             1.4350845252893227
            ],
            "sizemode": "area",
            "sizeref": 0.021782444718499456
           },
           "mode": "markers",
           "name": "",
           "showlegend": false,
           "subplot": "mapbox",
           "type": "scattermapbox"
          }
         ],
         "name": "1993"
        },
        {
         "data": [
          {
           "hovertemplate": "<b>%{hovertext}</b><br><br>year=1994<br>sardine_size=%{marker.size}<br>latitude=%{lat}<br>longitude=%{lon}<br>Sardinops.sagax=%{marker.color}<extra></extra>",
           "hovertext": [
            10.44,
            14.67,
            7.98,
            13.05,
            38.72,
            4.93,
            10,
            103.74,
            18.72,
            70.88,
            23.05,
            9.34,
            38.24,
            188.48,
            19.16,
            126.1,
            4.55,
            15.36,
            4.74,
            281.68,
            370.8,
            795.6,
            19.52,
            4.58,
            90.06,
            285.12,
            9.72,
            10.02,
            22.4,
            92.19,
            4.64,
            91.96,
            134.85,
            107.2,
            4.83,
            41.22,
            9.48,
            13.5,
            28.08,
            8.94,
            18.44,
            29.34,
            36.96,
            29.7098646,
            86.88172043,
            25.9,
            5.52,
            5.06,
            23,
            4.11,
            13.95,
            35.21,
            20.48
           ],
           "lat": [
            32.68,
            33.185,
            33.48666667,
            33.325,
            33.65666667,
            33.82333333,
            33.74666667,
            34.225,
            33.815,
            34.15,
            34.45,
            31.51333333,
            31.84666667,
            32.01333333,
            32.18,
            32.67833333,
            32.84666667,
            31.75166667,
            32.42,
            32.65166667,
            32.91833333,
            33.18666667,
            32.32333333,
            32.65666667,
            33.15666667,
            33.32333333,
            33.65666667,
            33.82333333,
            33.89,
            31.91166667,
            32.245,
            33.245,
            33.57833333,
            33.745,
            34.17833333,
            33.15,
            33.48333333,
            33.38666667,
            33.72166667,
            34.055,
            34.38833333,
            34.72166667,
            34.88833333,
            32.84666667,
            32.91333333,
            33.25333333,
            33.41833333,
            32.32333333,
            33.88833333,
            34.27333333,
            33.89,
            33.87833333,
            34.17666667
           ],
           "legendgroup": "",
           "lon": [
            -117.875,
            -118.385,
            -117.76666670000002,
            -119.66333329999999,
            -118.975,
            -118.63,
            -120.41,
            -119.41,
            -121.84333329999998,
            -121.15,
            -120.52333329999999,
            -120.24666670000002,
            -119.57,
            -119.23166670000002,
            -118.89166670000002,
            -117.875,
            -117.53,
            -121.315,
            -119.96166670000001,
            -119.48,
            -118.935,
            -118.3866667,
            -121.715,
            -121.03333329999998,
            -120.00666670000001,
            -119.66166670000001,
            -118.9733333,
            -118.62833329999998,
            -118.49,
            -124.17,
            -123.49166670000001,
            -121.44333329999999,
            -120.755,
            -120.41,
            -119.50833329999999,
            -123.22166670000001,
            -122.53166670000002,
            -124.32333329999999,
            -123.63333329999999,
            -122.94333329999999,
            -122.24666670000002,
            -121.54833329999998,
            -121.19833329999999,
            -117.53166670000002,
            -117.395,
            -118.24833329999998,
            -117.90666670000002,
            -121.71833329999998,
            -118.49,
            -120.025,
            -118.49,
            -120.13333329999999,
            -119.505
           ],
           "marker": {
            "color": [
             10.44,
             14.67,
             7.98,
             13.05,
             38.72,
             4.93,
             10,
             103.74,
             18.72,
             70.88,
             23.05,
             9.34,
             38.24,
             188.48,
             19.16,
             126.1,
             4.55,
             15.36,
             4.74,
             281.68,
             370.8,
             795.6,
             19.52,
             4.58,
             90.06,
             285.12,
             9.72,
             10.02,
             22.4,
             92.19,
             4.64,
             91.96,
             134.85,
             107.2,
             4.83,
             41.22,
             9.48,
             13.5,
             28.08,
             8.94,
             18.44,
             29.34,
             36.96,
             29.7098646,
             86.88172043,
             25.9,
             5.52,
             5.06,
             23,
             4.11,
             13.95,
             35.21,
             20.48
            ],
            "coloraxis": "coloraxis",
            "opacity": 1,
            "size": [
             2.3456445824544927,
             2.6858045921548905,
             2.0769384114617173,
             2.5687881337687024,
             3.656356262408376,
             1.5953389880545987,
             2.302585092994046,
             4.6418877689232545,
             2.929592471049446,
             4.2609883062968255,
             3.1376657694426577,
             2.234306252240751,
             3.643882088183201,
             5.238991900463222,
             2.9528247725427144,
             4.837075242970874,
             1.5151272329628591,
             2.731766727719526,
             1.556037135706985,
             5.640771674846797,
             5.9156628336917,
             6.679096546979817,
             2.9714395809849465,
             1.5216989981260935,
             4.500476114873425,
             5.652910144282444,
             2.2741856184723477,
             2.3045830956567186,
             3.109060958860994,
             4.523851664810503,
             1.534714366238164,
             4.521353699894981,
             4.904163049585739,
             4.674696248636701,
             1.5748464676644813,
             3.718923575462313,
             2.2491843162669305,
             2.6026896854443837,
             3.3350575791576103,
             2.190535589185423,
             2.914522218128448,
             3.3789517727148355,
             3.6098362467734835,
             3.3914791320760465,
             4.464547658360647,
             3.254242968705492,
             1.7083778602890038,
             1.6213664832993742,
             3.1354942159291497,
             1.4134230285081433,
             2.6354795082673745,
             3.5613301331669613,
             3.019448800171307
            ],
            "sizemode": "area",
            "sizeref": 0.021782444718499456
           },
           "mode": "markers",
           "name": "",
           "showlegend": false,
           "subplot": "mapbox",
           "type": "scattermapbox"
          }
         ],
         "name": "1994"
        },
        {
         "data": [
          {
           "hovertemplate": "<b>%{hovertext}</b><br><br>year=1995<br>sardine_size=%{marker.size}<br>latitude=%{lat}<br>longitude=%{lon}<br>Sardinops.sagax=%{marker.color}<extra></extra>",
           "hovertext": [
            4.48,
            14.52,
            10.04,
            64.35,
            155.2,
            56.1,
            127.92,
            10.76,
            4.54,
            38.64,
            135.52,
            223.13,
            14.19,
            632.1,
            26.1,
            9.18,
            27.6,
            38.07,
            63.52,
            4.51,
            162,
            29.07079646,
            207.27,
            21.45,
            14.49,
            33.36,
            8.58,
            8.38,
            24.39425051
           ],
           "lat": [
            30.18,
            31.18,
            31.84666667,
            32.01333333,
            32.18,
            32.34166667,
            32.51333333,
            32.68,
            31.085,
            31.41833333,
            31.75,
            32.08666667,
            32.41833333,
            32.65166667,
            32.91833333,
            33.18666667,
            31.99,
            32.325,
            32.65833333,
            32.99,
            33.15666667,
            33.49,
            33.57833333,
            33.745,
            34.15,
            34.31666667,
            33.72,
            34.055,
            34.38833333
           ],
           "legendgroup": "",
           "lon": [
            -122.925,
            -120.92,
            -119.57,
            -119.235,
            -118.89166670000002,
            -118.55333329999999,
            -118.21333329999999,
            -117.87166670000002,
            -122.66,
            -121.99,
            -121.31666670000001,
            -120.64,
            -119.96166670000001,
            -119.48166670000002,
            -118.93666670000002,
            -118.3866667,
            -122.395,
            -121.71666670000002,
            -121.03333329999998,
            -120.35166670000001,
            -120.00666670000001,
            -119.32,
            -120.755,
            -120.41,
            -121.15,
            -120.80333329999999,
            -123.63333329999999,
            -122.94166670000001,
            -122.245
           ],
           "marker": {
            "color": [
             4.48,
             14.52,
             10.04,
             64.35,
             155.2,
             56.1,
             127.92,
             10.76,
             4.54,
             38.64,
             135.52,
             223.13,
             14.19,
             632.1,
             26.1,
             9.18,
             27.6,
             38.07,
             63.52,
             4.51,
             162,
             29.07079646,
             207.27,
             21.45,
             14.49,
             33.36,
             8.58,
             8.38,
             24.39425051
            ],
            "coloraxis": "coloraxis",
            "opacity": 1,
            "size": [
             1.4996230464268938,
             2.67552700939665,
             2.306577114263583,
             4.164336934042136,
             5.0447146077491185,
             4.027135812528651,
             4.851405068525699,
             2.3758355547336385,
             1.5129270120532565,
             3.654288009344317,
             4.909119230903745,
             5.407754561246412,
             2.6525374911719513,
             6.449047609478253,
             3.261935314328648,
             2.217027204632399,
             3.3178157727231046,
             3.639426570394406,
             4.1513548169388805,
             1.506297153514587,
             5.087596335232384,
             3.369734112200282,
             5.3340222911688135,
             3.065724645374026,
             2.673458756332591,
             3.507357577490546,
             2.149433913499871,
             2.125847914493992,
             3.1943474696968406
            ],
            "sizemode": "area",
            "sizeref": 0.021782444718499456
           },
           "mode": "markers",
           "name": "",
           "showlegend": false,
           "subplot": "mapbox",
           "type": "scattermapbox"
          }
         ],
         "name": "1995"
        },
        {
         "data": [
          {
           "hovertemplate": "<b>%{hovertext}</b><br><br>year=1996<br>sardine_size=%{marker.size}<br>latitude=%{lat}<br>longitude=%{lon}<br>Sardinops.sagax=%{marker.color}<extra></extra>",
           "hovertext": [
            63,
            5.28,
            30.18,
            15.45,
            175.78,
            534.6,
            52,
            5.06,
            166.6,
            20.65,
            46.26,
            65.65,
            120.06,
            28.08,
            5.14,
            123.6960986,
            566.5030674999999,
            63.6,
            78.9,
            441.9917864,
            324.1,
            4.9,
            256.36,
            47.07,
            89.82,
            266.75,
            1370.05,
            325.12,
            826.98,
            700.56,
            1667.52,
            5.12,
            240.58,
            1918.07,
            224.63983050000002,
            41.68,
            9.6,
            5.36,
            361.56822810000006,
            67.32,
            33.75,
            88.74226804,
            10.21400778,
            9.378640777000001,
            411.97452230000005,
            172.16,
            10.74509804,
            66.17,
            14.65346535
           ],
           "lat": [
            32.68,
            32.84666667,
            32.41666667,
            32.65166667,
            33.185,
            33.25166667,
            33.41666667,
            33.485,
            33.15666667,
            33.32333333,
            33.49,
            33.655,
            33.82333333,
            33.88833333,
            32.245,
            33.57833333,
            33.74333333,
            33.87666667,
            34.17833333,
            34.275,
            34.45,
            29.84833333,
            31.17833333,
            31.51333333,
            31.845,
            32.01333333,
            32.18,
            32.34833333,
            32.51333333,
            32.68,
            32.84833333,
            30.41833333,
            31.75,
            32.085,
            32.92,
            33.41833333,
            31.65666667,
            31.99166667,
            32.32333333,
            32.655,
            32.99,
            33.15666667,
            33.65666667,
            33.825,
            33.245,
            33.745,
            34.17833333,
            33.81833333,
            34.88833333
           ],
           "legendgroup": "",
           "lon": [
            -117.87333329999998,
            -117.53166670000002,
            -119.96,
            -119.48166670000002,
            -118.3866667,
            -118.25166670000002,
            -117.905,
            -117.76833329999998,
            -120.00666670000001,
            -119.66333329999999,
            -119.31833329999999,
            -118.9733333,
            -118.62833329999998,
            -118.4883333,
            -123.49166670000001,
            -120.755,
            -120.41,
            -120.13333329999999,
            -119.50666670000001,
            -120.025,
            -120.52333329999999,
            -123.58666670000001,
            -120.92,
            -120.24666670000002,
            -119.57166670000001,
            -119.23333329999998,
            -118.89166670000002,
            -118.55333329999999,
            -118.21166670000001,
            -117.87333329999998,
            -117.53,
            -123.99666670000002,
            -121.315,
            -120.64,
            -118.935,
            -117.905,
            -123.07,
            -122.39166670000002,
            -121.715,
            -121.03333329999998,
            -120.35,
            -120.005,
            -118.975,
            -118.62833329999998,
            -121.445,
            -120.41,
            -119.50833329999999,
            -121.84333329999998,
            -121.2
           ],
           "marker": {
            "color": [
             63,
             5.28,
             30.18,
             15.45,
             175.78,
             534.6,
             52,
             5.06,
             166.6,
             20.65,
             46.26,
             65.65,
             120.06,
             28.08,
             5.14,
             123.6960986,
             566.5030674999999,
             63.6,
             78.9,
             441.9917864,
             324.1,
             4.9,
             256.36,
             47.07,
             89.82,
             266.75,
             1370.05,
             325.12,
             826.98,
             700.56,
             1667.52,
             5.12,
             240.58,
             1918.07,
             224.63983050000002,
             41.68,
             9.6,
             5.36,
             361.56822810000006,
             67.32,
             33.75,
             88.74226804,
             10.21400778,
             9.378640777000001,
             411.97452230000005,
             172.16,
             10.74509804,
             66.17,
             14.65346535
            ],
            "coloraxis": "coloraxis",
            "opacity": 1,
            "size": [
             4.143134726391533,
             1.6639260977181702,
             3.407179453339703,
             2.7376090033437546,
             5.169233213136499,
             6.281518803704818,
             3.9512437185814275,
             1.6213664832993742,
             5.115595729732743,
             3.027715319407042,
             3.8342776568032932,
             4.184337600748806,
             4.787991617823697,
             3.3350575791576103,
             1.6370530794670737,
             4.8178277396933105,
             6.339482495281291,
             4.152613470346076,
             4.368181227851829,
             6.0912912990996055,
             5.781052110147502,
             1.589235205116581,
             5.546582706636026,
             3.851635855413051,
             4.4978076676595915,
             5.586311890181863,
             7.22260251450656,
             5.784194344950063,
             6.717780510934403,
             6.551880015213969,
             7.41909277172085,
             1.6331544390514163,
             5.4830526745659265,
             7.559074751127773,
             5.414498366296564,
             3.7300213974451113,
             2.2617630984737906,
             1.6789639750827108,
             5.890450759889988,
             4.209457369322605,
             3.518980417318539,
             4.485736303884242,
             2.32376008992479,
             2.2384348460149734,
             6.020961508359742,
             5.14842427697342,
             2.3744496542966824,
             4.192227188023968,
             2.6846768501533878
            ],
            "sizemode": "area",
            "sizeref": 0.021782444718499456
           },
           "mode": "markers",
           "name": "",
           "showlegend": false,
           "subplot": "mapbox",
           "type": "scattermapbox"
          }
         ],
         "name": "1996"
        },
        {
         "data": [
          {
           "hovertemplate": "<b>%{hovertext}</b><br><br>year=1997<br>sardine_size=%{marker.size}<br>latitude=%{lat}<br>longitude=%{lon}<br>Sardinops.sagax=%{marker.color}<extra></extra>",
           "hovertext": [
            25.15,
            20.12371134,
            4.89,
            16.44897959,
            3.93,
            10.22,
            114.1772152,
            65.38,
            10.27196653,
            18.64,
            44.1,
            95.97,
            178.71,
            14.7,
            97.28,
            8.48,
            147.51,
            22.65,
            4.79,
            9.5,
            320.16,
            924.3,
            782.18,
            976.43,
            43.29,
            4.82,
            52.44,
            649.88,
            254.29,
            775.88,
            184.8,
            55.77,
            1194.76,
            2560.2,
            275.4,
            650.37,
            58.85,
            8.76,
            648.34,
            5248.99811,
            5.08,
            327.6,
            891.61,
            31.92,
            1038.24,
            676.965812,
            205.0880626,
            948.48,
            1751.9769670000003,
            64.17849899,
            27.14007782,
            25.2
           ],
           "lat": [
            32.34666667,
            32.51333333,
            32.68,
            33.15833333,
            33.32333333,
            33.82333333,
            33.745,
            33.88,
            34.31666667,
            34.72166667,
            30.845,
            31.51333333,
            31.84666667,
            32.01166667,
            32.18166667,
            32.34666667,
            32.51333333,
            32.68166667,
            32.91333333,
            31.08333333,
            31.41666667,
            31.75,
            32.085,
            32.41666667,
            32.91833333,
            33.41666667,
            31.32166667,
            31.64833333,
            31.99666667,
            32.32333333,
            32.64666667,
            31.91,
            32.24166667,
            32.57833333,
            32.91166667,
            33.24666667,
            33.57666667,
            33.87666667,
            32.815,
            33.15,
            33.48333333,
            33.81666667,
            34.15,
            34.31666667,
            33.38833333,
            33.72666667,
            34.055,
            34.38833333,
            34.72333333,
            34.88833333,
            35.02166667,
            33.88666667
           ],
           "legendgroup": "",
           "lon": [
            -118.555,
            -118.21666670000002,
            -117.87333329999998,
            -120.00666670000001,
            -119.66333329999999,
            -118.62833329999998,
            -120.41,
            -120.13333329999999,
            -120.80166670000001,
            -121.54833329999998,
            -121.59,
            -120.24666670000002,
            -119.57166670000001,
            -119.22666670000001,
            -118.89,
            -118.55833329999999,
            -118.21333329999999,
            -117.87166670000002,
            -117.395,
            -122.66,
            -121.99166670000001,
            -121.31666670000001,
            -120.63833329999999,
            -119.96,
            -118.935,
            -117.905,
            -123.74166670000001,
            -123.05666670000001,
            -122.39333329999998,
            -121.71166670000001,
            -121.02333329999999,
            -124.17,
            -123.49,
            -122.81,
            -122.12833329999998,
            -121.44333329999999,
            -120.755,
            -120.135,
            -123.90666670000002,
            -123.22166670000001,
            -122.53166670000002,
            -121.84166670000002,
            -121.14833329999999,
            -120.8,
            -124.32166670000001,
            -123.63333329999999,
            -122.945,
            -122.24666670000002,
            -121.55,
            -121.19833329999999,
            -120.91833329999999,
            -118.49166670000001
           ],
           "marker": {
            "color": [
             25.15,
             20.12371134,
             4.89,
             16.44897959,
             3.93,
             10.22,
             114.1772152,
             65.38,
             10.27196653,
             18.64,
             44.1,
             95.97,
             178.71,
             14.7,
             97.28,
             8.48,
             147.51,
             22.65,
             4.79,
             9.5,
             320.16,
             924.3,
             782.18,
             976.43,
             43.29,
             4.82,
             52.44,
             649.88,
             254.29,
             775.88,
             184.8,
             55.77,
             1194.76,
             2560.2,
             275.4,
             650.37,
             58.85,
             8.76,
             648.34,
             5248.99811,
             5.08,
             327.6,
             891.61,
             31.92,
             1038.24,
             676.965812,
             205.0880626,
             948.48,
             1751.9769670000003,
             64.17849899,
             27.14007782,
             25.2
            ],
            "coloraxis": "coloraxis",
            "opacity": 1,
            "size": [
             3.224857896545748,
             3.001898788459409,
             1.5871923034867805,
             2.8002634442843393,
             1.3686394258811698,
             2.3243465847755584,
             4.73775176067834,
             4.1802164012960645,
             2.3294184885700226,
             2.925309809257445,
             3.7864597824528,
             4.564035642629537,
             5.185764380308706,
             2.6878474937846906,
             4.577593418217857,
             2.1377104498038118,
             4.993895970091958,
             3.120159851929043,
             1.5665304114228238,
             2.2512917986064953,
             5.768820870835423,
             6.829036694270732,
             6.662084893086316,
             6.883903063159457,
             3.7679216614538893,
             1.572773928062509,
             3.959669658895499,
             6.47678773046155,
             5.538475348021376,
             6.653997869050091,
             5.2192741592075835,
             4.021236090401462,
             7.085700607375112,
             7.847840659422009,
             5.618224586294555,
             6.477541431708534,
             4.074991833706286,
             2.1701959049483,
             6.474415250107919,
             8.565792501183651,
             1.6253112615903906,
             5.791793351978915,
             6.7930288172406526,
             3.463232772581608,
             6.945282250872858,
             6.517620772375697,
             5.323439460556596,
             6.8548607032276125,
             7.46850012472042,
             4.161668247904323,
             3.3010115217570704,
             3.2268439945173775
            ],
            "sizemode": "area",
            "sizeref": 0.021782444718499456
           },
           "mode": "markers",
           "name": "",
           "showlegend": false,
           "subplot": "mapbox",
           "type": "scattermapbox"
          }
         ],
         "name": "1997"
        },
        {
         "data": [
          {
           "hovertemplate": "<b>%{hovertext}</b><br><br>year=1998<br>sardine_size=%{marker.size}<br>latitude=%{lat}<br>longitude=%{lon}<br>Sardinops.sagax=%{marker.color}<extra></extra>",
           "hovertext": [
            33.18,
            4.85,
            23.6,
            386.37,
            357.84,
            140.07,
            4.6,
            11.79,
            86.76,
            317.56,
            4.72,
            92.62,
            49.32,
            54.01,
            39.84,
            1117.2,
            731.5,
            157.44,
            4.99,
            260.23,
            57.98,
            8.7,
            1000,
            111.32,
            55.22,
            1253.2,
            45.12,
            57.53,
            205.54,
            95.19,
            174.8,
            576.3,
            67.47,
            29.47,
            4.48,
            23.7,
            55.22,
            99.4,
            2401.81,
            64.4,
            35.77,
            5.15,
            589.26,
            843.36,
            186.8788501,
            13.53,
            4.35,
            201.6,
            5126,
            1726.92,
            449.54,
            103.74,
            4.94,
            9.4,
            5.85,
            3.67
           ],
           "lat": [
            32.34666667,
            32.84666667,
            32.91833333,
            33.185,
            33.24833333,
            33.41833333,
            33.15666667,
            33.325,
            33.49,
            33.65833333,
            33.82333333,
            33.87833333,
            34.17833333,
            34.27333333,
            32.01333333,
            32.34666667,
            32.51333333,
            32.68,
            32.84666667,
            32.91333333,
            32.95666667,
            32.65166667,
            32.91833333,
            33.185,
            33.25166667,
            33.41833333,
            33.485,
            32.99,
            33.15666667,
            33.32333333,
            33.49,
            33.655,
            33.82333333,
            33.89,
            32.57666667,
            32.91166667,
            33.245,
            33.57833333,
            33.745,
            33.87833333,
            34.17666667,
            34.275,
            33.81666667,
            34.15,
            34.31666667,
            34.45,
            34.055,
            34.38833333,
            34.72166667,
            34.88833333,
            35.02166667,
            35.08833333,
            32.915,
            33.42166667,
            33.48333333,
            33.89
           ],
           "legendgroup": "",
           "lon": [
            -118.555,
            -117.53166670000002,
            -118.935,
            -118.3866667,
            -118.24833329999998,
            -117.905,
            -120.00666670000001,
            -119.665,
            -119.31833329999999,
            -118.975,
            -118.62166670000002,
            -120.13333329999999,
            -119.50833329999999,
            -120.02,
            -119.23333329999998,
            -118.555,
            -118.21333329999999,
            -117.87333329999998,
            -117.53166670000002,
            -117.395,
            -117.305,
            -119.48166670000002,
            -118.935,
            -118.385,
            -118.25,
            -117.905,
            -117.76833329999998,
            -120.35,
            -120.00666670000001,
            -119.66333329999999,
            -119.31833329999999,
            -118.9733333,
            -118.62833329999998,
            -118.49,
            -122.81,
            -122.12833329999998,
            -121.44333329999999,
            -120.755,
            -120.40833329999998,
            -120.13333329999999,
            -119.50833329999999,
            -120.025,
            -121.84333329999998,
            -121.15,
            -120.80166670000001,
            -120.52333329999999,
            -122.94166670000001,
            -122.24666670000002,
            -121.54833329999998,
            -121.19666670000001,
            -120.91833329999999,
            -120.7766667,
            -117.38333329999999,
            -117.89666670000001,
            -117.76666670000002,
            -118.49
           ],
           "marker": {
            "color": [
             33.18,
             4.85,
             23.6,
             386.37,
             357.84,
             140.07,
             4.6,
             11.79,
             86.76,
             317.56,
             4.72,
             92.62,
             49.32,
             54.01,
             39.84,
             1117.2,
             731.5,
             157.44,
             4.99,
             260.23,
             57.98,
             8.7,
             1000,
             111.32,
             55.22,
             1253.2,
             45.12,
             57.53,
             205.54,
             95.19,
             174.8,
             576.3,
             67.47,
             29.47,
             4.48,
             23.7,
             55.22,
             99.4,
             2401.81,
             64.4,
             35.77,
             5.15,
             589.26,
             843.36,
             186.8788501,
             13.53,
             4.35,
             201.6,
             5126,
             1726.92,
             449.54,
             103.74,
             4.94,
             9.4,
             5.85,
             3.67
            ],
            "coloraxis": "coloraxis",
            "opacity": 1,
            "size": [
             3.5019472847622986,
             1.5789787049493917,
             3.1612467120315646,
             5.956795459572689,
             5.880085959124592,
             4.942142297650955,
             1.5260563034950492,
             2.4672517145492794,
             4.463145685958674,
             5.760666776856913,
             1.5518087995974639,
             4.528505101052606,
             3.8983296782961436,
             3.9891692146047997,
             3.6848714327163976,
             7.018580834071022,
             6.595097220460179,
             5.059044433303943,
             1.6074359097634274,
             5.561565855358551,
             4.06009812349351,
             2.163323025660538,
             6.907755278982137,
             4.71240893665769,
             4.011325206502009,
             7.133455559078037,
             3.8093256071898036,
             4.052306550875202,
             5.3256406621969266,
             4.555874894263214,
             5.163642463221435,
             6.35662835844262,
             4.211683054639334,
             3.3833727967496032,
             1.4996230464268938,
             3.1654750481410856,
             4.011325206502009,
             4.599152113662528,
             7.783977898761924,
             4.165113633110308,
             3.5771095532709265,
             1.6389967146756448,
             6.378867512397738,
             6.737393913106897,
             5.230460546474528,
             2.604909442182697,
             1.4701758451005926,
             5.306285536197214,
             8.542080906924017,
             7.454094753970082,
             6.108224837716681,
             4.6418877689232545,
             1.5973653311998313,
             2.2407096892759584,
             1.766441661243765,
             1.3001916620664788
            ],
            "sizemode": "area",
            "sizeref": 0.021782444718499456
           },
           "mode": "markers",
           "name": "",
           "showlegend": false,
           "subplot": "mapbox",
           "type": "scattermapbox"
          }
         ],
         "name": "1998"
        },
        {
         "data": [
          {
           "hovertemplate": "<b>%{hovertext}</b><br><br>year=1999<br>sardine_size=%{marker.size}<br>latitude=%{lat}<br>longitude=%{lon}<br>Sardinops.sagax=%{marker.color}<extra></extra>",
           "hovertext": [
            9.86,
            64.4,
            307.9472693,
            204.12,
            30.48,
            24.15,
            9.16,
            24.8,
            5241.75,
            760.5,
            4063.365019,
            10.08421053,
            10.34764826,
            64.74,
            124.54,
            885.1024208999999,
            61.32,
            671.79,
            2422.84,
            1618.973384,
            146.042471,
            30.36437247,
            63.75711575,
            9.303675047999999,
            173.4545455,
            1547.151767,
            2856.199187,
            15.09,
            2490.187891,
            3458.431772,
            2048.613861,
            29.88,
            10.92827004,
            68.72298625,
            4.9
           ],
           "lat": [
            30.84666667,
            31.18,
            31.84666667,
            32.01333333,
            32.18,
            32.34666667,
            32.91333333,
            31.41833333,
            31.75166667,
            32.085,
            32.41833333,
            32.65166667,
            33.185,
            31.32333333,
            31.99,
            32.99,
            33.15666667,
            32.245,
            32.57666667,
            32.91166667,
            33.24333333,
            33.57833333,
            33.745,
            34.17833333,
            32.81666667,
            33.15,
            33.48166667,
            33.38833333,
            33.72166667,
            34.055,
            34.38833333,
            34.72166667,
            34.88833333,
            35.02166667,
            33.18666667
           ],
           "legendgroup": "",
           "lon": [
            -121.59,
            -120.92333329999998,
            -119.57166670000001,
            -119.23333329999998,
            -118.89333329999998,
            -118.555,
            -117.395,
            -121.99,
            -121.315,
            -120.63833329999999,
            -119.96,
            -119.48166670000002,
            -118.3866667,
            -123.74333329999999,
            -122.39333329999998,
            -120.35,
            -120.00666670000001,
            -123.49166670000001,
            -122.81166670000002,
            -122.12833329999998,
            -121.44333329999999,
            -120.755,
            -120.41,
            -119.50833329999999,
            -123.90666670000002,
            -123.22166670000001,
            -122.53333329999998,
            -124.32333329999999,
            -123.63333329999999,
            -122.94166670000001,
            -122.24666670000002,
            -121.54833329999998,
            -121.19833329999999,
            -120.91833329999999,
            -118.3866667
           ],
           "marker": {
            "color": [
             9.86,
             64.4,
             307.9472693,
             204.12,
             30.48,
             24.15,
             9.16,
             24.8,
             5241.75,
             760.5,
             4063.365019,
             10.08421053,
             10.34764826,
             64.74,
             124.54,
             885.1024208999999,
             61.32,
             671.79,
             2422.84,
             1618.973384,
             146.042471,
             30.36437247,
             63.75711575,
             9.303675047999999,
             173.4545455,
             1547.151767,
             2856.199187,
             15.09,
             2490.187891,
             3458.431772,
             2048.613861,
             29.88,
             10.92827004,
             68.72298625,
             4.9
            ],
            "coloraxis": "coloraxis",
            "opacity": 1,
            "size": [
             2.288486168614544,
             4.165113633110308,
             5.7299285647451415,
             5.318708056195771,
             3.4170707308184456,
             3.184284380098582,
             2.214846178686039,
             3.2108436531709366,
             8.564410691025348,
             6.633976111699347,
             8.309766731725942,
             2.310970886735664,
             2.336759272636679,
             4.170379248498098,
             4.824626949444306,
             6.785703368142258,
             4.116106054003613,
             6.509945791684849,
             7.792695684793851,
             7.38954751376486,
             4.983897476666206,
             3.4132699629084247,
             4.155080797417374,
             2.230409488553124,
             5.155915579471916,
             7.3441709498335745,
             7.95724706437486,
             2.7140322727797574,
             7.820113444844856,
             8.148570520218463,
             7.6249186780636995,
             3.3971893602646164,
             2.39135301335768,
             4.230083732057805,
             1.589235205116581
            ],
            "sizemode": "area",
            "sizeref": 0.021782444718499456
           },
           "mode": "markers",
           "name": "",
           "showlegend": false,
           "subplot": "mapbox",
           "type": "scattermapbox"
          }
         ],
         "name": "1999"
        },
        {
         "data": [
          {
           "hovertemplate": "<b>%{hovertext}</b><br><br>year=2000<br>sardine_size=%{marker.size}<br>latitude=%{lat}<br>longitude=%{lon}<br>Sardinops.sagax=%{marker.color}<extra></extra>",
           "hovertext": [
            5.04,
            9.468690702,
            24.46768061,
            211.6,
            40.7,
            5.36,
            89.82,
            1515.22,
            1244.16,
            35.56,
            46.89,
            750.8604207000001,
            65.52462527,
            5.01,
            32.22,
            2624.690432,
            190.60606059999998,
            10.67073171,
            35.56,
            30.3,
            897.5054230000001,
            17.216890600000003,
            68.92100193,
            5.13,
            1680.948276,
            21.92,
            175.65789469999999,
            211.14,
            100.76,
            570.7855626,
            323.1509434,
            9.310344828,
            5.09,
            19.12317328
           ],
           "lat": [
            30.515,
            31.515,
            31.84666667,
            32.01333333,
            32.18166667,
            32.34833333,
            31.085,
            31.41833333,
            31.75166667,
            32.085,
            32.41833333,
            32.65166667,
            32.91833333,
            31.99,
            32.32333333,
            32.65666667,
            32.99166667,
            33.15833333,
            31.91166667,
            32.57833333,
            33.24333333,
            33.575,
            33.87666667,
            32.81833333,
            33.48833333,
            33.81666667,
            34.15166667,
            33.38833333,
            34.05333333,
            34.38833333,
            34.72166667,
            32.51333333,
            31.75166667,
            32.32333333
           ],
           "legendgroup": "",
           "lon": [
            -122.25666670000001,
            -120.24666670000002,
            -119.56666670000001,
            -119.23333329999998,
            -118.88833329999999,
            -118.55166670000001,
            -122.665,
            -121.99166670000001,
            -121.315,
            -120.6366667,
            -119.965,
            -119.48166670000002,
            -118.93833329999998,
            -122.39333329999998,
            -121.71333329999999,
            -121.03333329999998,
            -120.3483333,
            -120.00666670000001,
            -124.17,
            -122.81166670000002,
            -121.44166670000001,
            -120.75666670000001,
            -120.135,
            -123.905,
            -122.53166670000002,
            -121.84333329999998,
            -121.14833329999999,
            -124.32666670000002,
            -122.94166670000001,
            -122.24666670000002,
            -121.54833329999998,
            -118.21166670000001,
            -121.315,
            -121.71333329999999
           ],
           "marker": {
            "color": [
             5.04,
             9.468690702,
             24.46768061,
             211.6,
             40.7,
             5.36,
             89.82,
             1515.22,
             1244.16,
             35.56,
             46.89,
             750.8604207000001,
             65.52462527,
             5.01,
             32.22,
             2624.690432,
             190.60606059999998,
             10.67073171,
             35.56,
             30.3,
             897.5054230000001,
             17.216890600000003,
             68.92100193,
             5.13,
             1680.948276,
             21.92,
             175.65789469999999,
             211.14,
             100.76,
             570.7855626,
             323.1509434,
             9.310344828,
             5.09,
             19.12317328
            ],
            "coloraxis": "coloraxis",
            "opacity": 1,
            "size": [
             1.6174060820832772,
             2.2479906401949834,
             3.1973530879192844,
             5.354697699984144,
             3.7062280924485496,
             1.6789639750827108,
             4.4978076676595915,
             7.323315921922314,
             7.126215882391965,
             3.571221410645704,
             3.847804433101495,
             6.621219776567641,
             4.182426030307195,
             1.6114359150967734,
             3.472587377748828,
             7.87271823740469,
             5.250208788196209,
             2.36750463934479,
             3.571221410645704,
             3.4111477125153233,
             6.799619162684012,
             2.84589091358933,
             4.232960949133862,
             1.6351056591826783,
             7.427113363155323,
             3.087399462079815,
             5.168538323332327,
             5.352521420561549,
             4.61274145148441,
             6.347013592010201,
             5.778119531091924,
             2.2311261290563453,
             1.6272778305624314,
             2.9509008603795315
            ],
            "sizemode": "area",
            "sizeref": 0.021782444718499456
           },
           "mode": "markers",
           "name": "",
           "showlegend": false,
           "subplot": "mapbox",
           "type": "scattermapbox"
          }
         ],
         "name": "2000"
        },
        {
         "data": [
          {
           "hovertemplate": "<b>%{hovertext}</b><br><br>year=2001<br>sardine_size=%{marker.size}<br>latitude=%{lat}<br>longitude=%{lon}<br>Sardinops.sagax=%{marker.color}<extra></extra>",
           "hovertext": [
            465.3,
            49.94,
            425.7,
            13.47,
            126,
            1762.02,
            18.08795411,
            818.03,
            2222.7,
            121.33333329999999,
            605.79,
            1274.358974,
            1356.9672130000001,
            9.88,
            19.70893971,
            948.48,
            14.25,
            1177.931034,
            169.32,
            15.73643411,
            16.8,
            21.58396947,
            469.74736839999997,
            325.12,
            429.04950499999995,
            33.16888046,
            452.45210729999997,
            276.55030800000003,
            17.57201646
           ],
           "lat": [
            31.17833333,
            31.85,
            32.015,
            32.17833333,
            32.34833333,
            32.515,
            32.68166667,
            31.74833333,
            32.085,
            32.41833333,
            31.98833333,
            32.325,
            32.655,
            32.99333333,
            33.15833333,
            32.245,
            32.57833333,
            32.91166667,
            33.24666667,
            33.57666667,
            32.81833333,
            33.15166667,
            33.485,
            33.815,
            34.14833333,
            33.72166667,
            34.05666667,
            34.38666667,
            34.72166667
           ],
           "legendgroup": "",
           "lon": [
            -120.92,
            -119.57,
            -119.23,
            -118.89333329999998,
            -118.55666670000001,
            -118.215,
            -117.875,
            -121.31666670000001,
            -120.64,
            -119.96166670000001,
            -122.39333329999998,
            -121.715,
            -121.03333329999998,
            -120.3483333,
            -120.00333329999998,
            -123.49,
            -122.81166670000002,
            -122.13333329999999,
            -121.44333329999999,
            -120.75666670000001,
            -123.905,
            -123.21666670000002,
            -122.53166670000002,
            -121.845,
            -121.155,
            -123.6366667,
            -122.94666670000001,
            -122.24833329999998,
            -121.55166670000001
           ],
           "marker": {
            "color": [
             465.3,
             49.94,
             425.7,
             13.47,
             126,
             1762.02,
             18.08795411,
             818.03,
             2222.7,
             121.33333329999999,
             605.79,
             1274.358974,
             1356.9672130000001,
             9.88,
             19.70893971,
             948.48,
             14.25,
             1177.931034,
             169.32,
             15.73643411,
             16.8,
             21.58396947,
             469.74736839999997,
             325.12,
             429.04950499999995,
             33.16888046,
             452.45210729999997,
             276.55030800000003,
             17.57201646
            ],
            "coloraxis": "coloraxis",
            "opacity": 1,
            "size": [
             6.142682358850603,
             3.910822284851627,
             6.053734872834107,
             2.6004649904222727,
             4.836281906951478,
             7.474216157169503,
             2.895246197931318,
             6.706899010746868,
             7.7064779520907205,
             4.798541578693905,
             6.406533391358841,
             7.150198565673383,
             7.21300749815757,
             2.2905125117597764,
             2.9810723251971036,
             6.8548607032276125,
             2.6567569067146595,
             7.071514817506196,
             5.1317904156527225,
             2.755978667767757,
             2.8213788864092133,
             3.0719508849907156,
             6.152195036149091,
             5.784194344950063,
             6.061572308540776,
             3.501612100806608,
             6.114681917317514,
             5.622392750162721,
             2.8663076628305997
            ],
            "sizemode": "area",
            "sizeref": 0.021782444718499456
           },
           "mode": "markers",
           "name": "",
           "showlegend": false,
           "subplot": "mapbox",
           "type": "scattermapbox"
          }
         ],
         "name": "2001"
        },
        {
         "data": [
          {
           "hovertemplate": "<b>%{hovertext}</b><br><br>year=2002<br>sardine_size=%{marker.size}<br>latitude=%{lat}<br>longitude=%{lon}<br>Sardinops.sagax=%{marker.color}<extra></extra>",
           "hovertext": [
            4.72,
            104.37,
            440.64,
            205.625,
            73.98373984,
            54.45086705,
            100.4115226,
            804.1463415,
            19.26977688,
            9.337231969,
            191.52,
            78.66,
            35.15384615,
            588.1679389,
            36.21621622,
            178.3783784,
            34.44,
            44.84346225,
            18.6381323,
            35.7037037,
            926.8809074,
            320,
            8.648648649,
            228,
            13.98,
            9.28,
            376.6666667,
            233.28,
            36.59751037,
            367.78,
            383.0769231,
            612,
            155.3166987,
            98.76796715,
            35.84,
            95.32163743,
            18.5199241,
            5.26,
            9.979550102000001
           ],
           "lat": [
            30.18166667,
            30.515,
            30.84666667,
            31.18,
            31.515,
            31.84666667,
            32.01333333,
            32.18,
            32.34666667,
            32.515,
            31.085,
            31.41833333,
            31.75,
            32.08166667,
            32.42,
            32.65333333,
            31.32333333,
            31.65666667,
            31.99,
            32.32333333,
            32.655,
            32.99166667,
            33.325,
            32.24333333,
            32.575,
            32.91,
            33.24333333,
            33.57666667,
            33.74166667,
            32.81833333,
            33.15166667,
            33.485,
            33.81666667,
            34.15,
            33.385,
            34.38833333,
            35.01833333,
            31.99,
            32.655
           ],
           "legendgroup": "",
           "lon": [
            -122.92333329999998,
            -122.25666670000001,
            -121.59,
            -120.91833329999999,
            -120.24833329999998,
            -119.57166670000001,
            -119.23166670000002,
            -118.89,
            -118.555,
            -118.215,
            -122.66333329999999,
            -121.99333329999999,
            -121.32,
            -120.64166670000002,
            -119.965,
            -119.48666670000001,
            -123.74333329999999,
            -123.06833329999999,
            -122.39166670000002,
            -121.715,
            -121.03166670000002,
            -120.34333329999998,
            -119.65833329999998,
            -123.49333329999999,
            -122.815,
            -122.135,
            -121.445,
            -120.75666670000001,
            -120.41,
            -123.90666670000002,
            -123.2233333,
            -122.535,
            -121.84,
            -121.1516667,
            -124.325,
            -122.245,
            -120.92,
            -122.39166670000002,
            -121.03333329999998
           ],
           "marker": {
            "color": [
             4.72,
             104.37,
             440.64,
             205.625,
             73.98373984,
             54.45086705,
             100.4115226,
             804.1463415,
             19.26977688,
             9.337231969,
             191.52,
             78.66,
             35.15384615,
             588.1679389,
             36.21621622,
             178.3783784,
             34.44,
             44.84346225,
             18.6381323,
             35.7037037,
             926.8809074,
             320,
             8.648648649,
             228,
             13.98,
             9.28,
             376.6666667,
             233.28,
             36.59751037,
             367.78,
             383.0769231,
             612,
             155.3166987,
             98.76796715,
             35.84,
             95.32163743,
             18.5199241,
             5.26,
             9.979550102000001
            ],
            "coloraxis": "coloraxis",
            "opacity": 1,
            "size": [
             1.5518087995974639,
             4.647942277831961,
             6.08822821554029,
             5.326054121519636,
             4.303845337167688,
             3.997298773035475,
             4.609276967604679,
             6.689781269406965,
             2.9585379037396264,
             2.234009845254442,
             5.2549922418096635,
             4.3651347670036635,
             3.5597340333232586,
             6.377012517493898,
             3.5895069804052104,
             5.183907015491505,
             3.53921867955953,
             3.803177808648669,
             2.925209605739386,
             3.575254428502482,
             6.83182508633109,
             5.768320995793772,
             2.157403083190173,
             5.429345628954441,
             2.637627736805664,
             2.2278615467981093,
             5.931360623126772,
             5.452239448820293,
             3.599980215416078,
             5.907484933312707,
             5.948235812617403,
             6.416732282512326,
             5.045466249808839,
             4.5927733330538825,
             3.57906458810673,
             4.557256830324709,
             2.9188471309374973,
             1.6601310267496185,
             2.300538009347321
            ],
            "sizemode": "area",
            "sizeref": 0.021782444718499456
           },
           "mode": "markers",
           "name": "",
           "showlegend": false,
           "subplot": "mapbox",
           "type": "scattermapbox"
          }
         ],
         "name": "2002"
        },
        {
         "data": [
          {
           "hovertemplate": "<b>%{hovertext}</b><br><br>year=2003<br>sardine_size=%{marker.size}<br>latitude=%{lat}<br>longitude=%{lon}<br>Sardinops.sagax=%{marker.color}<extra></extra>",
           "hovertext": [
            13.86,
            9.36,
            3.95,
            338.791423,
            1242.15,
            240.9,
            48.36,
            17.65913758,
            20.16326531,
            12.57,
            13.92,
            33.81,
            1885.098039,
            839.04,
            1662.9433960000001,
            7.75,
            123.25,
            752.4,
            65.25,
            19.61013645,
            162.992126,
            229.328215,
            24.9112426,
            4.76,
            307.44,
            945.99,
            56.95652174,
            71.50214592,
            16.40535373,
            4.71,
            414.5149254,
            1307.692308,
            107.9,
            370.5954825,
            30.18,
            15.36,
            303.9813084,
            180.8,
            16.79841897,
            8.123827392
           ],
           "lat": [
            33.25166667,
            33.82333333,
            30.51333333,
            31.845,
            32.01333333,
            32.18,
            32.34333333,
            32.68,
            32.84666667,
            30.75166667,
            31.41833333,
            31.75166667,
            32.085,
            32.41833333,
            32.65166667,
            33.185,
            31.65666667,
            31.99,
            32.32333333,
            32.65666667,
            32.99,
            33.15333333,
            33.32333333,
            31.91166667,
            32.245,
            32.57833333,
            32.91,
            33.245,
            33.745,
            34.17833333,
            33.15,
            33.48333333,
            33.81666667,
            34.155,
            34.31666667,
            34.055,
            34.395,
            34.72166667,
            34.88833333,
            32.085
           ],
           "legendgroup": "",
           "lon": [
            -118.25,
            -118.63,
            -122.25666670000001,
            -119.57,
            -119.23333329999998,
            -118.89333329999998,
            -118.57333329999999,
            -117.87166670000002,
            -117.53166670000002,
            -123.33333329999999,
            -121.99,
            -121.315,
            -120.63833329999999,
            -119.96,
            -119.48166670000002,
            -118.3866667,
            -123.07,
            -122.39333329999998,
            -121.715,
            -121.03333329999998,
            -120.3483333,
            -120.005,
            -119.66333329999999,
            -124.17,
            -123.49333329999999,
            -122.81166670000002,
            -122.14333329999998,
            -121.44333329999999,
            -120.41,
            -119.50833329999999,
            -123.22166670000001,
            -122.53333329999998,
            -121.84333329999998,
            -121.13,
            -120.80166670000001,
            -122.94166670000001,
            -122.26,
            -121.54833329999998,
            -121.19666670000001,
            -120.63833329999999
           ],
           "marker": {
            "color": [
             13.86,
             9.36,
             3.95,
             338.791423,
             1242.15,
             240.9,
             48.36,
             17.65913758,
             20.16326531,
             12.57,
             13.92,
             33.81,
             1885.098039,
             839.04,
             1662.9433960000001,
             7.75,
             123.25,
             752.4,
             65.25,
             19.61013645,
             162.992126,
             229.328215,
             24.9112426,
             4.76,
             307.44,
             945.99,
             56.95652174,
             71.50214592,
             16.40535373,
             4.71,
             414.5149254,
             1307.692308,
             107.9,
             370.5954825,
             30.18,
             15.36,
             303.9813084,
             180.8,
             16.79841897,
             8.123827392
            ],
            "coloraxis": "coloraxis",
            "opacity": 1,
            "size": [
             2.6290069937617573,
             2.2364452904895007,
             1.3737155789130306,
             5.8253846466369055,
             7.124599028147819,
             5.484381909620826,
             3.878673025746592,
             2.871253359328777,
             3.003862399829549,
             2.531313022602156,
             2.6333266549062735,
             3.520756616719795,
             7.54173510860921,
             6.7322583811352805,
             7.416344441331626,
             2.0476928433652555,
             4.814214812922799,
             6.623268097426875,
             4.178226046202803,
             2.9760465983686464,
             5.093701892891487,
             5.435154230702223,
             3.215319211610836,
             1.5602476682433286,
             5.728279946256588,
             6.852231998171482,
             4.042288200281314,
             4.269727462116718,
             2.79760772850916,
             1.5496879080283263,
             6.0271089821297235,
             7.17601926581211,
             4.681204872264089,
             5.915111124084574,
             3.407179453339703,
             2.731766727719526,
             5.716966213989593,
             5.1973914479580765,
             2.8212847730521187,
             2.0948013968159107
            ],
            "sizemode": "area",
            "sizeref": 0.021782444718499456
           },
           "mode": "markers",
           "name": "",
           "showlegend": false,
           "subplot": "mapbox",
           "type": "scattermapbox"
          }
         ],
         "name": "2003"
        },
        {
         "data": [
          {
           "hovertemplate": "<b>%{hovertext}</b><br><br>year=2004<br>sardine_size=%{marker.size}<br>latitude=%{lat}<br>longitude=%{lon}<br>Sardinops.sagax=%{marker.color}<extra></extra>",
           "hovertext": [
            62.0824295,
            9.92,
            356.3,
            141.95028680000001,
            30.63559322,
            9.72,
            45.37735849,
            86.05108055,
            25.05747126,
            24.45,
            4.15
           ],
           "lat": [
            32.34666667,
            32.515,
            32.41666667,
            32.65333333,
            33.57833333,
            33.15,
            33.48333333,
            33.81833333,
            33.72,
            34.38833333,
            32.95666667
           ],
           "legendgroup": "",
           "lon": [
            -118.55333329999999,
            -118.21333329999999,
            -119.96,
            -119.48166670000002,
            -120.755,
            -123.22166670000001,
            -122.53166670000002,
            -121.845,
            -123.635,
            -122.24666670000002,
            -117.305
           ],
           "marker": {
            "color": [
             62.0824295,
             9.92,
             356.3,
             141.95028680000001,
             30.63559322,
             9.72,
             45.37735849,
             86.05108055,
             25.05747126,
             24.45,
             4.15
            ],
            "coloraxis": "coloraxis",
            "opacity": 1,
            "size": [
             4.128463010096323,
             2.2945529212967815,
             5.87577307261179,
             4.955476903346668,
             3.4221625101161353,
             2.2741856184723477,
             3.8150132689752656,
             4.4549410798128735,
             3.221172036954239,
             3.196630215920881,
             1.423108334242607
            ],
            "sizemode": "area",
            "sizeref": 0.021782444718499456
           },
           "mode": "markers",
           "name": "",
           "showlegend": false,
           "subplot": "mapbox",
           "type": "scattermapbox"
          }
         ],
         "name": "2004"
        },
        {
         "data": [
          {
           "hovertemplate": "<b>%{hovertext}</b><br><br>year=2005<br>sardine_size=%{marker.size}<br>latitude=%{lat}<br>longitude=%{lon}<br>Sardinops.sagax=%{marker.color}<extra></extra>",
           "hovertext": [
            17.84,
            463.54,
            9.34,
            868.6,
            1092.78,
            516.5517241,
            938.4615385,
            82.84,
            455.9,
            62.5,
            50.81135903,
            41.02345416,
            345.06,
            1329.888476,
            174.2803738,
            157.8252427,
            9.768786127,
            5.47,
            497.2,
            4.9,
            166.6943867,
            250.16,
            27.95744681,
            2009.0099010000001,
            758.1538462,
            270.53380780000003,
            2315.184466,
            118.828125,
            43.83,
            4.39,
            667.5285171,
            254.8806941,
            149.93,
            4.93,
            255.2165725,
            595.5314534,
            1334.96,
            10.28680688,
            11.73195876,
            9.847908745,
            33.3984375,
            9.922330097,
            4.2
           ],
           "lat": [
            30.845,
            31.18,
            31.51666667,
            31.84666667,
            32.01333333,
            32.18166667,
            32.34666667,
            32.51333333,
            32.68,
            32.84666667,
            32.91,
            32.95833333,
            32.65166667,
            32.91833333,
            33.18666667,
            33.25333333,
            33.48666667,
            32.31833333,
            32.65333333,
            32.98833333,
            33.15833333,
            33.32333333,
            33.48833333,
            33.65666667,
            32.90833333,
            33.245,
            33.57833333,
            34.18333333,
            32.82,
            33.15,
            33.48333333,
            33.81166667,
            34.15,
            33.38833333,
            33.72333333,
            34.055,
            34.39166667,
            34.72,
            32.01333333,
            32.65,
            33.185,
            33.25166667,
            33.48666667
           ],
           "legendgroup": "",
           "lon": [
            -121.59333329999998,
            -120.92,
            -120.245,
            -119.57166670000001,
            -119.23333329999998,
            -118.89,
            -118.555,
            -118.21166670000001,
            -117.86833329999999,
            -117.53333329999998,
            -117.395,
            -117.30166670000001,
            -119.48,
            -118.93666670000002,
            -118.385,
            -118.25166670000002,
            -117.77166670000001,
            -121.69,
            -121.02833329999999,
            -120.355,
            -120.00166670000002,
            -119.66333329999999,
            -119.32166670000001,
            -118.9733333,
            -122.12166670000002,
            -121.44333329999999,
            -120.75333329999998,
            -119.51,
            -123.9,
            -123.2233333,
            -122.53666670000001,
            -121.83833329999999,
            -121.15,
            -124.32666670000002,
            -123.63,
            -122.94166670000001,
            -122.24166670000001,
            -121.55166670000001,
            -119.23166670000002,
            -119.48333329999998,
            -118.3866667,
            -118.25,
            -117.77
           ],
           "marker": {
            "color": [
             17.84,
             463.54,
             9.34,
             868.6,
             1092.78,
             516.5517241,
             938.4615385,
             82.84,
             455.9,
             62.5,
             50.81135903,
             41.02345416,
             345.06,
             1329.888476,
             174.2803738,
             157.8252427,
             9.768786127,
             5.47,
             497.2,
             4.9,
             166.6943867,
             250.16,
             27.95744681,
             2009.0099010000001,
             758.1538462,
             270.53380780000003,
             2315.184466,
             118.828125,
             43.83,
             4.39,
             667.5285171,
             254.8806941,
             149.93,
             4.93,
             255.2165725,
             595.5314534,
             1334.96,
             10.28680688,
             11.73195876,
             9.847908745,
             33.3984375,
             9.922330097,
             4.2
            ],
            "coloraxis": "coloraxis",
            "opacity": 1,
            "size": [
             2.8814431271518632,
             6.138892681174414,
             2.234306252240751,
             6.766882720100721,
             6.996480187038507,
             6.247175427011305,
             6.844241873300795,
             4.416911036527384,
             6.122273487219395,
             4.135166556742356,
             3.9281199325417777,
             3.7141439558274723,
             5.843718314953718,
             7.192850365068392,
             5.160665346071362,
             5.061488362031692,
             2.2791922134021805,
             1.6992786164338898,
             6.208992359636556,
             1.589235205116581,
             5.116162116124411,
             5.522100713149586,
             3.3306835973877695,
             7.605397293125339,
             6.6308863283726405,
             5.600397073101628,
             7.747244646283183,
             4.777678121333722,
             3.780318514430718,
             1.47932922708708,
             6.503582111609027,
             5.54079556940034,
             5.010168518506812,
             1.5953389880545987,
             5.542112488625495,
             6.389454205872381,
             7.196656607838648,
             2.3308621887637697,
             2.4623166359368476,
             2.287259122490722,
             3.5085091174512435,
             2.2947877825252077,
             1.4350845252893227
            ],
            "sizemode": "area",
            "sizeref": 0.021782444718499456
           },
           "mode": "markers",
           "name": "",
           "showlegend": false,
           "subplot": "mapbox",
           "type": "scattermapbox"
          }
         ],
         "name": "2005"
        },
        {
         "data": [
          {
           "hovertemplate": "<b>%{hovertext}</b><br><br>year=2006<br>sardine_size=%{marker.size}<br>latitude=%{lat}<br>longitude=%{lon}<br>Sardinops.sagax=%{marker.color}<extra></extra>",
           "hovertext": [
            830.76,
            364.6995708,
            3116.812144,
            504.9129594,
            25.15,
            5.01,
            72.64,
            4.5,
            4.38,
            117,
            1362.85,
            24.15,
            207.46,
            67.2,
            171.15,
            107.2,
            11.18,
            4.4,
            11.52,
            559.2,
            197.5359343,
            13.17,
            8.24,
            32.76,
            57.45,
            69.44,
            17.48,
            4.79,
            13.71,
            9.16,
            9.38,
            9.86,
            9.62
           ],
           "lat": [
            31.50833333,
            31.84833333,
            32.01333333,
            32.18,
            32.34666667,
            32.515,
            31.08333333,
            31.41666667,
            31.75333333,
            32.08333333,
            32.41833333,
            31.32333333,
            31.65666667,
            31.99,
            32.32666667,
            32.65833333,
            32.99166667,
            33.15666667,
            31.91,
            32.58,
            32.915,
            33.245,
            33.74333333,
            32.81666667,
            33.48333333,
            33.82,
            33.38833333,
            33.72,
            34.05333333,
            34.39166667,
            30.51333333,
            33.25166667,
            33.41666667
           ],
           "legendgroup": "",
           "lon": [
            -120.23333329999998,
            -119.575,
            -119.23333329999998,
            -118.89333329999998,
            -118.555,
            -118.20833329999999,
            -122.64833329999999,
            -121.99333329999999,
            -121.32166670000001,
            -120.64166670000002,
            -119.96,
            -123.74,
            -123.065,
            -122.39666670000001,
            -121.71333329999999,
            -121.02833329999999,
            -120.345,
            -120.00666670000001,
            -124.16666670000001,
            -122.815,
            -122.13166670000001,
            -121.44166670000001,
            -120.41333329999999,
            -123.905,
            -122.53,
            -121.83666670000001,
            -124.32333329999999,
            -123.6366667,
            -122.94166670000001,
            -122.25166670000002,
            -122.26,
            -118.25,
            -117.91333329999999
           ],
           "marker": {
            "color": [
             830.76,
             364.6995708,
             3116.812144,
             504.9129594,
             25.15,
             5.01,
             72.64,
             4.5,
             4.38,
             117,
             1362.85,
             24.15,
             207.46,
             67.2,
             171.15,
             107.2,
             11.18,
             4.4,
             11.52,
             559.2,
             197.5359343,
             13.17,
             8.24,
             32.76,
             57.45,
             69.44,
             17.48,
             4.79,
             13.71,
             9.16,
             9.38,
             9.86,
             9.62
            ],
            "coloraxis": "coloraxis",
            "opacity": 1,
            "size": [
             6.722340944477934,
             5.89907392095625,
             8.044566009744527,
             6.224386056796315,
             3.224857896545748,
             1.6114359150967734,
             4.285515734293038,
             1.5040773967762742,
             1.4770487243883548,
             4.762173934797756,
             7.217333374283138,
             3.184284380098582,
             5.334938550003682,
             4.207673247529104,
             5.1425403649761945,
             4.674696248636701,
             2.414126467726953,
             1.4816045409242156,
             2.444084655267745,
             6.3265071909196005,
             5.285920513613828,
             2.5779415157551897,
             2.1090003439213802,
             3.4892082589848687,
             4.050915004294764,
             4.240463070352095,
             2.8610573702273894,
             1.5665304114228238,
             2.6181254935742233,
             2.214846178686039,
             2.238579763018133,
             2.288486168614544,
             2.263844264677615
            ],
            "sizemode": "area",
            "sizeref": 0.021782444718499456
           },
           "mode": "markers",
           "name": "",
           "showlegend": false,
           "subplot": "mapbox",
           "type": "scattermapbox"
          }
         ],
         "name": "2006"
        },
        {
         "data": [
          {
           "hovertemplate": "<b>%{hovertext}</b><br><br>year=2007<br>sardine_size=%{marker.size}<br>latitude=%{lat}<br>longitude=%{lon}<br>Sardinops.sagax=%{marker.color}<extra></extra>",
           "hovertext": [
            68.12,
            22.48,
            26.64,
            899.72,
            294,
            165.44,
            544.96,
            739.84,
            5.42,
            374.53,
            2013.18,
            1476.68,
            310.49,
            61.98058252,
            150.9414226,
            10.06,
            612.972973,
            451.82,
            393.68,
            5.57,
            5.14,
            91.26,
            482.46,
            55.8,
            80.85,
            79.36,
            192.08,
            84.96,
            77.56,
            3.33,
            153.3,
            17.44186047
           ],
           "lat": [
            33.185,
            33.25166667,
            33.895,
            30.84666667,
            31.18,
            31.51333333,
            31.84666667,
            32.015,
            32.34666667,
            31.08333333,
            31.41666667,
            31.75166667,
            32.085,
            32.41666667,
            32.91833333,
            31.32333333,
            31.99,
            32.32166667,
            32.655,
            33.325,
            33.49166667,
            31.91166667,
            32.24333333,
            32.57833333,
            33.245,
            32.81666667,
            33.15,
            33.49,
            33.81833333,
            33.38666667,
            34.055,
            33.81666667
           ],
           "legendgroup": "",
           "lon": [
            -118.3866667,
            -118.25,
            -118.5,
            -121.58666670000001,
            -120.91666670000001,
            -120.24666670000002,
            -119.57166670000001,
            -119.23166670000002,
            -118.555,
            -122.66333329999999,
            -121.99166670000001,
            -121.315,
            -120.64,
            -119.96,
            -118.935,
            -123.74166670000001,
            -122.39333329999998,
            -121.715,
            -121.03666670000001,
            -119.66166670000001,
            -119.31833329999999,
            -124.17166670000002,
            -123.49166670000001,
            -122.81166670000002,
            -121.44333329999999,
            -123.905,
            -123.22166670000001,
            -122.515,
            -121.84166670000002,
            -124.32333329999999,
            -122.94,
            -121.82833329999998
           ],
           "marker": {
            "color": [
             68.12,
             22.48,
             26.64,
             899.72,
             294,
             165.44,
             544.96,
             739.84,
             5.42,
             374.53,
             2013.18,
             1476.68,
             310.49,
             61.98058252,
             150.9414226,
             10.06,
             612.972973,
             451.82,
             393.68,
             5.57,
             5.14,
             91.26,
             482.46,
             55.8,
             80.85,
             79.36,
             192.08,
             84.96,
             77.56,
             3.33,
             153.3,
             17.44186047
            ],
            "coloraxis": "coloraxis",
            "opacity": 1,
            "size": [
             4.221270855794487,
             3.1126260250254902,
             3.2824138456721883,
             6.802083603808098,
             5.683579767338681,
             5.108608591320064,
             6.3007123974743235,
             6.606433946603904,
             1.6900958154515549,
             5.925671906557974,
             7.607470840420114,
             7.29755160367568,
             5.738151694735743,
             4.126821150831087,
             5.016891831749369,
             2.3085671646715933,
             6.418320845241555,
             6.113283870429076,
             5.975538396557723,
             1.7173950539391927,
             1.6370530794670737,
             4.513712575499256,
             6.178898015788112,
             4.021773869387265,
             4.392595586023115,
             4.373994462976618,
             5.257911951912998,
             4.442180557493629,
             4.351051830374451,
             1.2029723039923526,
             5.0323967858777685,
             2.8588730911167937
            ],
            "sizemode": "area",
            "sizeref": 0.021782444718499456
           },
           "mode": "markers",
           "name": "",
           "showlegend": false,
           "subplot": "mapbox",
           "type": "scattermapbox"
          }
         ],
         "name": "2007"
        },
        {
         "data": [
          {
           "hovertemplate": "<b>%{hovertext}</b><br><br>year=2008<br>sardine_size=%{marker.size}<br>latitude=%{lat}<br>longitude=%{lon}<br>Sardinops.sagax=%{marker.color}<extra></extra>",
           "hovertext": [
            483.36,
            75.15,
            448,
            42.64,
            618.9555126,
            796.95,
            1651.5,
            984.54,
            433.44,
            242.06,
            408.1,
            39.8336414,
            29.34,
            844.56,
            145.32,
            14.85,
            195.32,
            14.91,
            780,
            897.75,
            10.34,
            1290.6,
            4.91,
            9.48,
            5.25,
            4.55,
            4.66
           ],
           "lat": [
            30.845,
            31.84666667,
            32.015,
            32.18,
            32.345,
            30.41666667,
            31.08333333,
            31.41666667,
            31.74833333,
            32.085,
            32.41833333,
            32.65,
            31.32333333,
            31.65666667,
            31.99,
            32.33166667,
            32.655,
            31.90833333,
            32.24333333,
            32.57666667,
            32.91,
            34.055,
            32.91333333,
            33.18833333,
            33.25333333,
            33.48,
            33.49166667
           ],
           "legendgroup": "",
           "lon": [
            -121.59166670000002,
            -119.57333329999999,
            -119.23166670000002,
            -118.89333329999998,
            -118.55333329999999,
            -123.99833329999998,
            -122.655,
            -121.99166670000001,
            -121.31833329999999,
            -120.64166670000002,
            -119.96166670000001,
            -119.48333329999998,
            -123.74166670000001,
            -123.07,
            -122.39166670000002,
            -121.69333329999999,
            -121.03333329999998,
            -124.16833329999999,
            -123.495,
            -122.80666670000001,
            -122.13166670000001,
            -122.94,
            -117.395,
            -118.3866667,
            -118.24833329999998,
            -117.76666670000002,
            -119.31666670000001
           ],
           "marker": {
            "color": [
             483.36,
             75.15,
             448,
             42.64,
             618.9555126,
             796.95,
             1651.5,
             984.54,
             433.44,
             242.06,
             408.1,
             39.8336414,
             29.34,
             844.56,
             145.32,
             14.85,
             195.32,
             14.91,
             780,
             897.75,
             10.34,
             1290.6,
             4.91,
             9.48,
             5.25,
             4.55,
             4.66
            ],
            "coloraxis": "coloraxis",
            "opacity": 1,
            "size": [
             6.180761717638362,
             4.319486116198983,
             6.104793232414985,
             3.752792779857589,
             6.428033400311855,
             6.680791941565062,
             7.409439244830844,
             6.892174527015114,
             6.071753378336785,
             5.489185629310458,
             6.01151224241176,
             3.6847118165647625,
             3.3789517727148355,
             6.738815781681439,
             4.978938207353001,
             2.6979998652487085,
             5.274639239193459,
             2.702032128776647,
             6.659293919683638,
             6.799891633106192,
             2.336019869080283,
             7.16286250550174,
             1.5912739418064292,
             2.2491843162669305,
             1.6582280766035324,
             1.5151272329628591,
             1.5390154481375546
            ],
            "sizemode": "area",
            "sizeref": 0.021782444718499456
           },
           "mode": "markers",
           "name": "",
           "showlegend": false,
           "subplot": "mapbox",
           "type": "scattermapbox"
          }
         ],
         "name": "2008"
        },
        {
         "data": [
          {
           "hovertemplate": "<b>%{hovertext}</b><br><br>year=2009<br>sardine_size=%{marker.size}<br>latitude=%{lat}<br>longitude=%{lon}<br>Sardinops.sagax=%{marker.color}<extra></extra>",
           "hovertext": [
            4.85,
            114,
            4.88,
            28.8,
            39.28,
            574.56,
            232.2,
            200.85,
            152.1,
            380.25,
            488.52,
            673.44,
            401.25,
            30.24,
            5.2,
            53.9,
            342.93,
            152.83,
            26.1,
            11.24,
            10.14492754,
            490.62,
            361.44,
            89.46,
            28.86,
            40.56,
            523.28,
            373.76,
            58.89,
            7.692307692000001,
            425.3682171,
            9.16,
            11.18,
            25.20446097,
            18.79017013,
            85.55555556,
            25.5,
            9.608610568,
            36.03669725
           ],
           "lat": [
            30.515,
            30.85166667,
            31.17833333,
            31.53,
            31.84833333,
            31.42,
            31.75166667,
            32.085,
            32.41833333,
            31.32333333,
            32.00833333,
            32.325,
            32.65666667,
            31.91166667,
            32.245,
            32.57833333,
            32.91333333,
            33.245,
            33.57833333,
            34.225,
            34.275,
            32.81666667,
            33.15166667,
            33.48333333,
            33.81666667,
            34.45,
            33.39333333,
            33.72166667,
            34.055,
            34.38833333,
            32.51166667,
            32.68,
            32.84166667,
            33.185,
            33.255,
            33.41833333,
            33.485,
            33.82166667,
            32.64833333
           ],
           "legendgroup": "",
           "lon": [
            -122.25166670000002,
            -121.58833329999999,
            -120.91666670000001,
            -120.21333329999999,
            -119.57166670000001,
            -121.99166670000001,
            -121.31666670000001,
            -120.64,
            -119.96,
            -123.74166670000001,
            -122.39833329999999,
            -121.71166670000001,
            -121.03166670000002,
            -124.17,
            -123.49666670000002,
            -122.81333329999998,
            -122.13,
            -121.44333329999999,
            -120.755,
            -119.41166670000001,
            -120.025,
            -123.90666670000002,
            -123.22166670000001,
            -122.53333329999998,
            -121.84333329999998,
            -120.52333329999999,
            -124.31666670000001,
            -123.635,
            -122.94166670000001,
            -122.24666670000002,
            -118.21333329999999,
            -117.87166670000002,
            -117.53166670000002,
            -118.385,
            -118.24666670000002,
            -117.90666670000002,
            -117.76833329999998,
            -118.62833329999998,
            -119.48
           ],
           "marker": {
            "color": [
             4.85,
             114,
             4.88,
             28.8,
             39.28,
             574.56,
             232.2,
             200.85,
             152.1,
             380.25,
             488.52,
             673.44,
             401.25,
             30.24,
             5.2,
             53.9,
             342.93,
             152.83,
             26.1,
             11.24,
             10.14492754,
             490.62,
             361.44,
             89.46,
             28.86,
             40.56,
             523.28,
             373.76,
             58.89,
             7.692307692000001,
             425.3682171,
             9.16,
             11.18,
             25.20446097,
             18.79017013,
             85.55555556,
             25.5,
             9.608610568,
             36.03669725
            ],
            "coloraxis": "coloraxis",
            "opacity": 1,
            "size": [
             1.5789787049493917,
             4.736198448394496,
             1.5851452198650557,
             3.3603753871419,
             3.670715483486265,
             6.353604530477773,
             5.4475990692637914,
             5.302558360805291,
             5.024538199265247,
             5.940828931139402,
             6.1913804123028875,
             6.512398905022261,
             5.9945846744442255,
             3.4091655513113324,
             1.6486586255873816,
             3.9871304779149512,
             5.837526344705797,
             5.029326192539745,
             3.261935314328648,
             2.419478844465545,
             2.316973830817574,
             6.195669897401941,
             5.890096052719693,
             4.493791598004702,
             3.3624565533457247,
             3.702782359282928,
             6.260116693652957,
             5.923613880199808,
             4.07567129695648,
             2.0402208284865546,
             6.052955186998961,
             2.214846178686039,
             2.414126467726953,
             3.2270210014697702,
             2.933333867668578,
             4.449165937563458,
             3.2386784521643803,
             2.262659630635371,
             3.5845377873088586
            ],
            "sizemode": "area",
            "sizeref": 0.021782444718499456
           },
           "mode": "markers",
           "name": "",
           "showlegend": false,
           "subplot": "mapbox",
           "type": "scattermapbox"
          }
         ],
         "name": "2009"
        },
        {
         "data": [
          {
           "hovertemplate": "<b>%{hovertext}</b><br><br>year=2010<br>sardine_size=%{marker.size}<br>latitude=%{lat}<br>longitude=%{lon}<br>Sardinops.sagax=%{marker.color}<extra></extra>",
           "hovertext": [
            5.51,
            9.78388998,
            9.054820416,
            22.13552361,
            10.66,
            41.6,
            21.96,
            9.8046875,
            4.9,
            10.85106383,
            23.75733855,
            10.26365348,
            9.257142857,
            30.69767442,
            10.69037657,
            8.20662768,
            10.12
           ],
           "lat": [
            31.51333333,
            31.845,
            32.01333333,
            32.18,
            31.75,
            32.645,
            33.19166667,
            33.255,
            32.655,
            32.98833333,
            34.14666667,
            34.055,
            34.38833333,
            34.72,
            35.02166667,
            35.08666667,
            33.745
           ],
           "legendgroup": "",
           "lon": [
            -120.245,
            -119.57166670000001,
            -119.23,
            -118.89333329999998,
            -121.315,
            -119.47833329999999,
            -118.37833329999998,
            -118.235,
            -121.03333329999998,
            -120.345,
            -121.14666670000001,
            -122.94166670000001,
            -122.24666670000002,
            -121.54666670000002,
            -120.91833329999999,
            -120.775,
            -120.41
           ],
           "marker": {
            "color": [
             5.51,
             9.78388998,
             9.054820416,
             22.13552361,
             10.66,
             41.6,
             21.96,
             9.8046875,
             4.9,
             10.85106383,
             23.75733855,
             10.26365348,
             9.257142857,
             30.69767442,
             10.69037657,
             8.20662768,
             10.12
            ],
            "coloraxis": "coloraxis",
            "opacity": 1,
            "size": [
             1.706564623164823,
             2.2807371534320313,
             2.203297258560023,
             3.0971837212013633,
             2.3664984187376983,
             3.728100167267218,
             3.08922261664133,
             2.282860587646267,
             1.589235205116581,
             2.3842631240279206,
             3.167891474331531,
             2.32860886602636,
             2.2253954542874834,
             3.4241868999323084,
             2.369343950796314,
             2.104942081467653,
             2.3145136638593193
            ],
            "sizemode": "area",
            "sizeref": 0.021782444718499456
           },
           "mode": "markers",
           "name": "",
           "showlegend": false,
           "subplot": "mapbox",
           "type": "scattermapbox"
          }
         ],
         "name": "2010"
        },
        {
         "data": [
          {
           "hovertemplate": "<b>%{hovertext}</b><br><br>year=2011<br>sardine_size=%{marker.size}<br>latitude=%{lat}<br>longitude=%{lon}<br>Sardinops.sagax=%{marker.color}<extra></extra>",
           "hovertext": [
            102.69709540000001,
            9.2,
            7.14,
            9.16,
            4.71,
            331.17,
            253.76,
            34.48,
            69.26470588,
            18.67172676,
            5.27,
            5.17,
            2712.06,
            21.66336634,
            829.04,
            283.96,
            3302.162162,
            6081.325052,
            1751.9144600000002,
            56.5,
            58.37,
            73.92,
            33.56136821,
            26.48760331,
            201.65,
            40.08,
            829.4,
            360.75,
            44.3153527
           ],
           "lat": [
            32.34666667,
            32.51166667,
            33.25333333,
            33.49,
            30.51833333,
            31.08166667,
            31.41833333,
            31.75166667,
            32.085,
            32.415,
            31.65666667,
            32.31333333,
            32.65666667,
            32.99166667,
            32.24666667,
            32.58,
            33.245,
            33.57833333,
            33.745,
            32.815,
            33.14166667,
            33.48333333,
            33.81666667,
            34.15,
            33.38666667,
            33.725,
            34.055,
            34.385,
            32.51333333
           ],
           "legendgroup": "",
           "lon": [
            -118.55833329999999,
            -118.21166670000001,
            -118.245,
            -119.215,
            -122.25166670000002,
            -122.66,
            -121.99833329999998,
            -121.31,
            -120.64,
            -119.96166670000001,
            -123.06833329999999,
            -121.7,
            -121.03,
            -120.34333329999998,
            -123.49166670000001,
            -122.81333329999998,
            -121.44166670000001,
            -120.75666670000001,
            -120.41,
            -123.90666670000002,
            -123.20666670000001,
            -122.53666670000001,
            -121.84333329999998,
            -121.15,
            -124.32,
            -123.62666670000002,
            -122.94,
            -122.24666670000002,
            -118.21
           ],
           "marker": {
            "color": [
             102.69709540000001,
             9.2,
             7.14,
             9.16,
             4.71,
             331.17,
             253.76,
             34.48,
             69.26470588,
             18.67172676,
             5.27,
             5.17,
             2712.06,
             21.66336634,
             829.04,
             283.96,
             3302.162162,
             6081.325052,
             1751.9144600000002,
             56.5,
             58.37,
             73.92,
             33.56136821,
             26.48760331,
             201.65,
             40.08,
             829.4,
             360.75,
             44.3153527
            ],
            "coloraxis": "coloraxis",
            "opacity": 1,
            "size": [
             4.631783834158707,
             2.2192034840549946,
             1.965712776351493,
             2.214846178686039,
             1.5496879080283263,
             5.80263183869837,
             5.536388938446483,
             3.5403794457954922,
             4.2379354818003865,
             2.927010441761034,
             1.6620303625532709,
             1.6428726885203377,
             7.9054637727093615,
             3.0756226468560053,
             6.720268404875962,
             5.648833383171185,
             8.102332733510426,
             8.712977887399783,
             7.468464446103484,
             4.034240638152395,
             4.0668020592157,
             4.302983427333428,
             3.513375649838291,
             3.2766768239171555,
             5.306533521319377,
             3.6908774567766094,
             6.720702547812281,
             5.88818519765398,
             3.791331179089074
            ],
            "sizemode": "area",
            "sizeref": 0.021782444718499456
           },
           "mode": "markers",
           "name": "",
           "showlegend": false,
           "subplot": "mapbox",
           "type": "scattermapbox"
          }
         ],
         "name": "2011"
        },
        {
         "data": [
          {
           "hovertemplate": "<b>%{hovertext}</b><br><br>year=2012<br>sardine_size=%{marker.size}<br>latitude=%{lat}<br>longitude=%{lon}<br>Sardinops.sagax=%{marker.color}<extra></extra>",
           "hovertext": [
            1.99,
            195.64,
            12.44,
            8.76,
            32.42829828,
            6.48,
            14.16,
            19.70833333,
            29.20408163,
            50.96,
            9.1,
            9.788461538,
            104.5384615,
            11.97916667,
            3.59,
            17.6,
            7.44,
            125.7142857,
            147.73076919999997,
            488.5294118,
            163.62,
            4.617021277,
            45.15686275,
            4.14,
            151.26923080000003,
            52.58823529,
            7.77,
            57.96,
            9.08,
            2.2,
            51.24,
            65.12,
            6.2
           ],
           "lat": [
            33.88666667,
            34.01166667,
            34.225,
            34.405,
            34.45,
            32.51333333,
            32.95,
            32.845,
            32.95,
            33.23666667,
            32.42,
            32.915,
            33.25,
            33.41666667,
            33.49333333,
            33.67333333,
            33.88333333,
            33.155,
            33.32166667,
            33.49,
            33.89,
            34.01833333,
            33.74166667,
            33.87833333,
            34.31833333,
            34.88833333,
            33.24666667,
            33.25,
            33.485,
            33.495,
            33.67333333,
            33.89,
            34.01166667
           ],
           "legendgroup": "",
           "lon": [
            -118.445,
            -118.83333329999999,
            -119.41166670000001,
            -119.80333329999999,
            -120.52833329999999,
            -118.22166670000001,
            -117.28,
            -117.53166670000002,
            -117.31,
            -117.46166670000001,
            -119.95833329999999,
            -118.94333329999999,
            -118.255,
            -117.905,
            -117.74,
            -118.08333329999999,
            -118.445,
            -120.01,
            -119.66333329999999,
            -119.31833329999999,
            -118.49,
            -118.83333329999999,
            -120.41333329999999,
            -120.13166670000001,
            -120.8,
            -121.2,
            -117.465,
            -118.25333329999998,
            -117.76833329999998,
            -117.74666670000002,
            -118.095,
            -118.49,
            -118.835
           ],
           "marker": {
            "color": [
             1.99,
             195.64,
             12.44,
             8.76,
             32.42829828,
             6.48,
             14.16,
             19.70833333,
             29.20408163,
             50.96,
             9.1,
             9.788461538,
             104.5384615,
             11.97916667,
             3.59,
             17.6,
             7.44,
             125.7142857,
             147.73076919999997,
             488.5294118,
             163.62,
             4.617021277,
             45.15686275,
             4.14,
             151.26923080000003,
             52.58823529,
             7.77,
             57.96,
             9.08,
             2.2,
             51.24,
             65.12,
             6.2
            ],
            "coloraxis": "coloraxis",
            "opacity": 1,
            "size": [
             0.688134638736401,
             5.2762762356711566,
             2.5209170873110334,
             2.1701959049483,
             3.4790314453069144,
             1.8687205103641833,
             2.6504210882655737,
             2.981041557974854,
             3.3743084813549786,
             3.931041011263908,
             2.2082744135228043,
             2.2812042979219442,
             4.649555056321689,
             2.4831690301677205,
             1.2781522025001875,
             2.8678989020441064,
             2.0068708488450007,
             4.834011758303302,
             4.995391490116144,
             6.191399678063425,
             5.097546666085552,
             1.5297497519179586,
             3.8101422672049137,
             1.4206957878372228,
             5.019061234613734,
             3.9624924310389984,
             2.050270164379556,
             4.059753117452481,
             2.206074192613202,
             0.7884573603642703,
             3.9365204770285334,
             4.176231721694285,
             1.824549292051046
            ],
            "sizemode": "area",
            "sizeref": 0.021782444718499456
           },
           "mode": "markers",
           "name": "",
           "showlegend": false,
           "subplot": "mapbox",
           "type": "scattermapbox"
          }
         ],
         "name": "2012"
        },
        {
         "data": [
          {
           "hovertemplate": "<b>%{hovertext}</b><br><br>year=2013<br>sardine_size=%{marker.size}<br>latitude=%{lat}<br>longitude=%{lon}<br>Sardinops.sagax=%{marker.color}<extra></extra>",
           "hovertext": [
            21.76,
            57.26,
            29.7,
            37.58490566,
            26.22,
            47.2,
            8.807692308,
            672,
            324.5882353,
            46.88679245,
            4.78,
            60,
            56.94230769,
            9.134615385,
            107.84,
            10.59183673,
            26.19230769,
            129.88,
            9.042553191,
            5.68,
            6.235294118,
            7.551020407999999,
            127.70588240000001,
            48.75,
            6.92,
            9.076923077,
            4.06,
            18.3,
            101.14,
            17.7254902,
            97.16,
            28.82352941,
            21,
            9.509433962000001
           ],
           "lat": [
            33.41666667,
            33.48166667,
            33.66666667,
            32.18166667,
            32.34666667,
            32.515,
            33.49166667,
            33.82,
            34.05333333,
            34.38833333,
            34.88333333,
            35.21833333,
            36.12,
            36.43833333,
            32.95333333,
            32.91333333,
            32.95666667,
            33.24666667,
            33.485,
            33.49333333,
            33.67333333,
            33.32333333,
            33.48833333,
            33.65666667,
            34.22666667,
            33.41833333,
            33.485,
            33.67333333,
            33.88833333,
            33.82333333,
            34.01333333,
            34.275,
            34.40333333,
            34.31833333
           ],
           "legendgroup": "",
           "lon": [
            -117.90333329999999,
            -117.76333329999999,
            -118.08333329999999,
            -118.88833329999999,
            -118.55333329999999,
            -118.21166670000001,
            -119.31833329999999,
            -121.84166670000002,
            -122.94,
            -122.25166670000002,
            -124.47833329999999,
            -123.7766667,
            -123.48666670000001,
            -123.65,
            -117.28,
            -117.395,
            -117.305,
            -117.46333329999999,
            -117.76833329999998,
            -117.74833329999998,
            -118.09333329999998,
            -119.66333329999999,
            -119.32,
            -118.97,
            -119.41166670000001,
            -117.905,
            -117.77,
            -118.09333329999998,
            -118.445,
            -118.62833329999998,
            -118.83,
            -120.02333329999999,
            -119.8,
            -120.80166670000001
           ],
           "marker": {
            "color": [
             21.76,
             57.26,
             29.7,
             37.58490566,
             26.22,
             47.2,
             8.807692308,
             672,
             324.5882353,
             46.88679245,
             4.78,
             60,
             56.94230769,
             9.134615385,
             107.84,
             10.59183673,
             26.19230769,
             129.88,
             9.042553191,
             5.68,
             6.235294118,
             7.551020407999999,
             127.70588240000001,
             48.75,
             6.92,
             9.076923077,
             4.06,
             18.3,
             101.14,
             17.7254902,
             97.16,
             28.82352941,
             21,
             9.509433962000001
            ],
            "coloraxis": "coloraxis",
            "opacity": 1,
            "size": [
             3.080073421987742,
             4.047602299669969,
             3.391147045808654,
             3.6266025245823816,
             3.2665224783355535,
             3.8543938925915096,
             2.175625465567692,
             6.51025834052315,
             5.7825574107391375,
             3.847736024918245,
             1.5644405465033646,
             4.0943445622221,
             4.042038609479637,
             2.212071085495319,
             4.680648647163997,
             2.360083584612102,
             3.2654657680399244,
             4.866610947234645,
             2.2019415671602407,
             1.7369512327330598,
             1.8302257501124548,
             2.021682707506022,
             4.849729826190569,
             3.886705197443856,
             1.9344157696295783,
             2.2057352670126025,
             1.4011829736136412,
             2.9069010598473755,
             4.616505695651837,
             2.8750037278890894,
             4.576359104133972,
             3.361192046987232,
             3.044522437723423,
             2.252284354491469
            ],
            "sizemode": "area",
            "sizeref": 0.021782444718499456
           },
           "mode": "markers",
           "name": "",
           "showlegend": false,
           "subplot": "mapbox",
           "type": "scattermapbox"
          }
         ],
         "name": "2013"
        },
        {
         "data": [
          {
           "hovertemplate": "<b>%{hovertext}</b><br><br>year=2014<br>sardine_size=%{marker.size}<br>latitude=%{lat}<br>longitude=%{lon}<br>Sardinops.sagax=%{marker.color}<extra></extra>",
           "hovertext": [
            12.84,
            3.96,
            7.3,
            4.3,
            63.71,
            28.8,
            386.22,
            386.22,
            36.6,
            114.4423077,
            5.69,
            3.53,
            160,
            2.59,
            16.6,
            7.4375,
            9.803921569,
            5.5,
            3.66,
            11.12765957,
            2.71,
            120.83333329999999,
            147.68
           ],
           "lat": [
            33.88333333,
            33.88833333,
            34.01,
            33.495,
            33.675,
            33.88833333,
            33.89,
            33.885,
            32.95333333,
            32.84666667,
            32.91166667,
            32.95666667,
            33.48666667,
            33.495,
            33.88833333,
            33.32166667,
            33.57833333,
            34.175,
            34.25833333,
            34.275,
            34.40333333,
            34.45,
            34.46166667
           ],
           "legendgroup": "",
           "lon": [
            -118.44666670000001,
            -118.49166670000001,
            -118.84166670000002,
            -117.74666670000002,
            -118.085,
            -118.445,
            -118.49,
            -118.49,
            -117.27833329999999,
            -117.53166670000002,
            -117.395,
            -117.30666670000001,
            -117.765,
            -117.74666670000002,
            -118.445,
            -119.66333329999999,
            -120.755,
            -119.50833329999999,
            -119.32166670000001,
            -120.025,
            -119.805,
            -120.52333329999999,
            -120.485
           ],
           "marker": {
            "color": [
             12.84,
             3.96,
             7.3,
             4.3,
             63.71,
             28.8,
             386.22,
             386.22,
             36.6,
             114.4423077,
             5.69,
             3.53,
             160,
             2.59,
             16.6,
             7.4375,
             9.803921569,
             5.5,
             3.66,
             11.12765957,
             2.71,
             120.83333329999999,
             147.68
            ],
            "coloraxis": "coloraxis",
            "opacity": 1,
            "size": [
             2.552565298261815,
             1.3762440252663892,
             1.9878743481543455,
             1.4586150226995167,
             4.154341536128396,
             3.3603753871419,
             5.956407155292579,
             5.956407155292579,
             3.6000482404073204,
             4.74007083313064,
             1.7387102481382397,
             1.2612978709452054,
             5.075173815233827,
             0.9516578757114463,
             2.8094026953624978,
             2.006534770871748,
             2.282782465735866,
             1.7047480922384253,
             1.297463147413275,
             2.409433861953335,
             0.9969486348916096,
             4.794412185350757,
             4.995047770754542
            ],
            "sizemode": "area",
            "sizeref": 0.021782444718499456
           },
           "mode": "markers",
           "name": "",
           "showlegend": false,
           "subplot": "mapbox",
           "type": "scattermapbox"
          }
         ],
         "name": "2014"
        },
        {
         "data": [
          {
           "hovertemplate": "<b>%{hovertext}</b><br><br>year=2015<br>sardine_size=%{marker.size}<br>latitude=%{lat}<br>longitude=%{lon}<br>Sardinops.sagax=%{marker.color}<extra></extra>",
           "hovertext": [
            9.36,
            245.14,
            27.36,
            6.26,
            4.7,
            7.72,
            3.07,
            4.65,
            3.43,
            88.23,
            18.32,
            4.85,
            7.12,
            10.26,
            21.45833333,
            1.78,
            42.4,
            25.6,
            10.96,
            10.77,
            26.74,
            30.52,
            11.67,
            4.61,
            2.09,
            4.54
           ],
           "lat": [
            33.485,
            33.67166667,
            33.88833333,
            33.89,
            33.87833333,
            34.17833333,
            34.225,
            34.31833333,
            34.45,
            37.61166667,
            37.84333333,
            32.91,
            33.675,
            33.88833333,
            35.02166667,
            33.24666667,
            33.41833333,
            33.675,
            33.88833333,
            33.32333333,
            33.89,
            33.87833333,
            34.17833333,
            34.275,
            34.40166667,
            34.31666667
           ],
           "legendgroup": "",
           "lon": [
            -117.76833329999998,
            -118.09333329999998,
            -118.445,
            -118.4883333,
            -120.13333329999999,
            -119.50833329999999,
            -119.41333329999999,
            -120.80333329999999,
            -120.52333329999999,
            -123.605,
            -123.1,
            -117.395,
            -118.085,
            -118.44666670000001,
            -120.90666670000002,
            -117.46333329999999,
            -117.905,
            -118.08166670000001,
            -118.44333329999999,
            -119.66333329999999,
            -118.49,
            -120.13333329999999,
            -119.50833329999999,
            -120.02333329999999,
            -119.79833329999998,
            -120.80166670000001
           ],
           "marker": {
            "color": [
             9.36,
             245.14,
             27.36,
             6.26,
             4.7,
             7.72,
             3.07,
             4.65,
             3.43,
             88.23,
             18.32,
             4.85,
             7.12,
             10.26,
             21.45833333,
             1.78,
             42.4,
             25.6,
             10.96,
             10.77,
             26.74,
             30.52,
             11.67,
             4.61,
             2.09,
             4.54
            ],
            "coloraxis": "coloraxis",
            "opacity": 1,
            "size": [
             2.2364452904895007,
             5.501829475913019,
             3.3090820927543496,
             1.8341801851120072,
             1.547562508716013,
             2.0438143640366846,
             1.1216775615991057,
             1.536867219599265,
             1.2325602611778486,
             4.479947041234014,
             2.9079933592459843,
             1.5789787049493917,
             1.9629077254238845,
             2.3282528397426234,
             3.066113070160451,
             0.5766133643039938,
             3.7471483622379123,
             3.242592351485517,
             2.3942522815198695,
             2.3767644911682972,
             3.286160571673797,
             3.4183822064162563,
             2.4570214462984645,
             1.5282278570085572,
             0.7371640659767196,
             1.5129270120532565
            ],
            "sizemode": "area",
            "sizeref": 0.021782444718499456
           },
           "mode": "markers",
           "name": "",
           "showlegend": false,
           "subplot": "mapbox",
           "type": "scattermapbox"
          }
         ],
         "name": "2015"
        },
        {
         "data": [
          {
           "hovertemplate": "<b>%{hovertext}</b><br><br>year=2016<br>sardine_size=%{marker.size}<br>latitude=%{lat}<br>longitude=%{lon}<br>Sardinops.sagax=%{marker.color}<extra></extra>",
           "hovertext": [
            12.84,
            4.39,
            8.34,
            3.19,
            40.32,
            93.84,
            4.42,
            4.7,
            10,
            19.20754717,
            10.91666667,
            9.88,
            10,
            13.68,
            8.6,
            11.28846154,
            20.39215686,
            4.86,
            4.54,
            15.81,
            2.82,
            3.42
           ],
           "lat": [
            32.91333333,
            33.25333333,
            33.485,
            33.89,
            33.82833333,
            33.89166667,
            33.745,
            34.23833333,
            37.04,
            37.61333333,
            32.18333333,
            32.42,
            32.65,
            33.675,
            33.88666667,
            32.99166667,
            33.15833333,
            33.49,
            33.57833333,
            33.74166667,
            34.26666667,
            34.39666667
           ],
           "legendgroup": "",
           "lon": [
            -117.39166670000002,
            -118.255,
            -117.76666670000002,
            -118.445,
            -118.61833329999999,
            -118.48166670000002,
            -120.40833329999998,
            -119.37833329999998,
            -123.19833329999999,
            -123.60833329999998,
            -118.895,
            -119.96333329999999,
            -119.48333329999998,
            -118.085,
            -118.445,
            -120.34666670000001,
            -120.005,
            -119.32,
            -120.75333329999998,
            -120.41,
            -119.32333329999999,
            -119.8
           ],
           "marker": {
            "color": [
             12.84,
             4.39,
             8.34,
             3.19,
             40.32,
             93.84,
             4.42,
             4.7,
             10,
             19.20754717,
             10.91666667,
             9.88,
             10,
             13.68,
             8.6,
             11.28846154,
             20.39215686,
             4.86,
             4.54,
             15.81,
             2.82,
             3.42
            ],
            "coloraxis": "coloraxis",
            "opacity": 1,
            "size": [
             2.552565298261815,
             1.47932922708708,
             2.1210632163706555,
             1.1600209167967532,
             3.696847623763113,
             4.54159120434522,
             1.4861396960896067,
             1.547562508716013,
             2.302585092994046,
             2.9553032835681696,
             2.3902906737184946,
             2.2905125117597764,
             2.302585092994046,
             2.615934912194404,
             2.151762203259462,
             2.4237811013829553,
             3.0151503592764772,
             1.5810384379124025,
             1.5129270120532565,
             2.7606426512213806,
             1.0367368849500223,
             1.2296405510745139
            ],
            "sizemode": "area",
            "sizeref": 0.021782444718499456
           },
           "mode": "markers",
           "name": "",
           "showlegend": false,
           "subplot": "mapbox",
           "type": "scattermapbox"
          }
         ],
         "name": "2016"
        },
        {
         "data": [
          {
           "hovertemplate": "<b>%{hovertext}</b><br><br>year=2017<br>sardine_size=%{marker.size}<br>latitude=%{lat}<br>longitude=%{lon}<br>Sardinops.sagax=%{marker.color}<extra></extra>",
           "hovertext": [
            9.18,
            3.61,
            5.02,
            38.96,
            3.44,
            109.25,
            8.576923077,
            3.21,
            13.53,
            5.24,
            10.2,
            151.68,
            9.3,
            10,
            22.35,
            19.37254902,
            29.4,
            4.76,
            1299.96,
            10.14,
            4.02,
            24.2
           ],
           "lat": [
            30.75,
            33.63666667,
            31.655,
            32.32166667,
            34.01166667,
            33.88,
            34.175,
            34.225,
            33.14833333,
            33.815,
            33.38833333,
            33.72166667,
            35.47666667,
            35.21833333,
            35.54833333,
            35.78666667,
            36.45166667,
            36.375,
            36.70833333,
            37.04166667,
            37.21,
            37.28
           ],
           "legendgroup": "",
           "lon": [
            -123.33166670000001,
            -118.07666670000002,
            -123.07166670000001,
            -121.715,
            -118.83833329999999,
            -120.135,
            -119.51,
            -119.395,
            -123.21833329999998,
            -121.84166670000002,
            -124.32166670000001,
            -123.63166670000001,
            -121.61,
            -123.775,
            -123.07333329999999,
            -124.195,
            -122.77166670000001,
            -124.63166670000001,
            -123.91333329999999,
            -123.195,
            -122.835,
            -124.33
           ],
           "marker": {
            "color": [
             9.18,
             3.61,
             5.02,
             38.96,
             3.44,
             109.25,
             8.576923077,
             3.21,
             13.53,
             5.24,
             10.2,
             151.68,
             9.3,
             10,
             22.35,
             19.37254902,
             29.4,
             4.76,
             1299.96,
             10.14,
             4.02,
             24.2
            ],
            "coloraxis": "coloraxis",
            "opacity": 1,
            "size": [
             2.217027204632399,
             1.2837077723447896,
             1.6134299337036377,
             3.6625354787743345,
             1.235471471385307,
             4.693638833975699,
             2.1490752334476055,
             1.1662709371419244,
             2.604909442182697,
             1.6563214983329508,
             2.322387720290225,
             5.021773038506712,
             2.2300144001592104,
             2.302585092994046,
             3.106826321059578,
             2.963857065043785,
             3.380994674344636,
             1.5602476682433286,
             7.170088773745476,
             2.316487998163037,
             1.3912819026309295,
             3.186352633162641
            ],
            "sizemode": "area",
            "sizeref": 0.021782444718499456
           },
           "mode": "markers",
           "name": "",
           "showlegend": false,
           "subplot": "mapbox",
           "type": "scattermapbox"
          }
         ],
         "name": "2017"
        },
        {
         "data": [
          {
           "hovertemplate": "<b>%{hovertext}</b><br><br>year=2018<br>sardine_size=%{marker.size}<br>latitude=%{lat}<br>longitude=%{lon}<br>Sardinops.sagax=%{marker.color}<extra></extra>",
           "hovertext": [
            14.61,
            31.62,
            8.274509804,
            19.24,
            3.04,
            4.91,
            9.02,
            19.92,
            8.942307692,
            24.6,
            47.8,
            10.4,
            20.28,
            91.66666667,
            224.76923080000003,
            9.24,
            4.87,
            37.2,
            9.34,
            19.42307692,
            9.918367347
           ],
           "lat": [
            30.18,
            30.51333333,
            33.48333333,
            30.74833333,
            33.665,
            31.65666667,
            33.87666667,
            31.91,
            34.14833333,
            32.815,
            33.72333333,
            34.05333333,
            34.64166667,
            34.88166667,
            35.215,
            35.54666667,
            35.87833333,
            36.12,
            36.04166667,
            36.375,
            37.04166667
           ],
           "legendgroup": "",
           "lon": [
            -122.92333329999998,
            -122.25666670000001,
            -117.76833329999998,
            -123.33166670000001,
            -118.0983333,
            -123.06166670000002,
            -120.13166670000001,
            -124.16833329999999,
            -121.14833329999999,
            -123.905,
            -123.63333329999999,
            -122.94166670000001,
            -123.3633333,
            -124.47666670000001,
            -123.77833329999999,
            -123.07333329999999,
            -122.3633333,
            -123.485,
            -125.34,
            -124.62833329999998,
            -123.19666670000001
           ],
           "marker": {
            "color": [
             14.61,
             31.62,
             8.274509804,
             19.24,
             3.04,
             4.91,
             9.02,
             19.92,
             8.942307692,
             24.6,
             47.8,
             10.4,
             20.28,
             91.66666667,
             224.76923080000003,
             9.24,
             4.87,
             37.2,
             9.34,
             19.42307692,
             9.918367347
            ],
            "coloraxis": "coloraxis",
            "opacity": 1,
            "size": [
             2.681706225762608,
             3.453789831781326,
             2.1131796813211645,
             2.9569914452375605,
             1.1118575154181303,
             1.5912739418064292,
             2.199444334074532,
             2.991724252156452,
             2.1907936869715203,
             3.202746442938317,
             3.86702563949741,
             2.341805806147327,
             3.0096351787229825,
             4.5181588090348255,
             5.415074234986001,
             2.2235418856535927,
             1.5830939370944985,
             3.616308761279101,
             2.234306252240751,
             2.966461891095462,
             2.29438832579604
            ],
            "sizemode": "area",
            "sizeref": 0.021782444718499456
           },
           "mode": "markers",
           "name": "",
           "showlegend": false,
           "subplot": "mapbox",
           "type": "scattermapbox"
          }
         ],
         "name": "2018"
        },
        {
         "data": [
          {
           "hovertemplate": "<b>%{hovertext}</b><br><br>year=2019<br>sardine_size=%{marker.size}<br>latitude=%{lat}<br>longitude=%{lon}<br>Sardinops.sagax=%{marker.color}<extra></extra>",
           "hovertext": [
            10.25490196,
            17,
            77.80392157,
            15.6,
            7.82
           ],
           "lat": [
            31.51666667,
            32.65666667,
            33.25166667,
            33.41666667,
            33.32166667
           ],
           "legendgroup": "",
           "lon": [
            -120.24333329999999,
            -119.48166670000002,
            -118.25166670000002,
            -117.905,
            -119.665
           ],
           "marker": {
            "color": [
             10.25490196,
             17,
             77.80392157,
             15.6,
             7.82
            ],
            "coloraxis": "coloraxis",
            "opacity": 1,
            "size": [
             2.327755831264115,
             2.833213344056216,
             4.354191835698079,
             2.747270914255491,
             2.05668455455722
            ],
            "sizemode": "area",
            "sizeref": 0.021782444718499456
           },
           "mode": "markers",
           "name": "",
           "showlegend": false,
           "subplot": "mapbox",
           "type": "scattermapbox"
          }
         ],
         "name": "2019"
        }
       ],
       "layout": {
        "coloraxis": {
         "cmax": 6100,
         "cmin": 0,
         "colorbar": {
          "title": {
           "text": "Sardinops.sagax"
          }
         },
         "colorscale": [
          [
           0,
           "#0d0887"
          ],
          [
           0.1111111111111111,
           "#46039f"
          ],
          [
           0.2222222222222222,
           "#7201a8"
          ],
          [
           0.3333333333333333,
           "#9c179e"
          ],
          [
           0.4444444444444444,
           "#bd3786"
          ],
          [
           0.5555555555555556,
           "#d8576b"
          ],
          [
           0.6666666666666666,
           "#ed7953"
          ],
          [
           0.7777777777777778,
           "#fb9f3a"
          ],
          [
           0.8888888888888888,
           "#fdca26"
          ],
          [
           1,
           "#f0f921"
          ]
         ]
        },
        "legend": {
         "itemsizing": "constant",
         "tracegroupgap": 0
        },
        "mapbox": {
         "center": {
          "lat": 33,
          "lon": -121
         },
         "domain": {
          "x": [
           0,
           1
          ],
          "y": [
           0,
           1
          ]
         },
         "layers": [
          {
           "below": "traces",
           "source": [
            "https://basemap.nationalmap.gov/arcgis/rest/services/USGSImageryOnly/MapServer/tile/{z}/{y}/{x}"
           ],
           "sourceattribution": "United States Geological Survey",
           "sourcetype": "raster"
          }
         ],
         "style": "white-bg",
         "zoom": 6
        },
        "margin": {
         "b": 0,
         "l": 0,
         "r": 0,
         "t": 0
        },
        "sliders": [
         {
          "active": 0,
          "currentvalue": {
           "prefix": "year="
          },
          "len": 0.9,
          "pad": {
           "b": 10,
           "t": 60
          },
          "steps": [
           {
            "args": [
             [
              "1951"
             ],
             {
              "frame": {
               "duration": 0,
               "redraw": true
              },
              "fromcurrent": true,
              "mode": "immediate",
              "transition": {
               "duration": 0,
               "easing": "linear"
              }
             }
            ],
            "label": "1951",
            "method": "animate"
           },
           {
            "args": [
             [
              "1952"
             ],
             {
              "frame": {
               "duration": 0,
               "redraw": true
              },
              "fromcurrent": true,
              "mode": "immediate",
              "transition": {
               "duration": 0,
               "easing": "linear"
              }
             }
            ],
            "label": "1952",
            "method": "animate"
           },
           {
            "args": [
             [
              "1954"
             ],
             {
              "frame": {
               "duration": 0,
               "redraw": true
              },
              "fromcurrent": true,
              "mode": "immediate",
              "transition": {
               "duration": 0,
               "easing": "linear"
              }
             }
            ],
            "label": "1954",
            "method": "animate"
           },
           {
            "args": [
             [
              "1955"
             ],
             {
              "frame": {
               "duration": 0,
               "redraw": true
              },
              "fromcurrent": true,
              "mode": "immediate",
              "transition": {
               "duration": 0,
               "easing": "linear"
              }
             }
            ],
            "label": "1955",
            "method": "animate"
           },
           {
            "args": [
             [
              "1957"
             ],
             {
              "frame": {
               "duration": 0,
               "redraw": true
              },
              "fromcurrent": true,
              "mode": "immediate",
              "transition": {
               "duration": 0,
               "easing": "linear"
              }
             }
            ],
            "label": "1957",
            "method": "animate"
           },
           {
            "args": [
             [
              "1958"
             ],
             {
              "frame": {
               "duration": 0,
               "redraw": true
              },
              "fromcurrent": true,
              "mode": "immediate",
              "transition": {
               "duration": 0,
               "easing": "linear"
              }
             }
            ],
            "label": "1958",
            "method": "animate"
           },
           {
            "args": [
             [
              "1959"
             ],
             {
              "frame": {
               "duration": 0,
               "redraw": true
              },
              "fromcurrent": true,
              "mode": "immediate",
              "transition": {
               "duration": 0,
               "easing": "linear"
              }
             }
            ],
            "label": "1959",
            "method": "animate"
           },
           {
            "args": [
             [
              "1960"
             ],
             {
              "frame": {
               "duration": 0,
               "redraw": true
              },
              "fromcurrent": true,
              "mode": "immediate",
              "transition": {
               "duration": 0,
               "easing": "linear"
              }
             }
            ],
            "label": "1960",
            "method": "animate"
           },
           {
            "args": [
             [
              "1961"
             ],
             {
              "frame": {
               "duration": 0,
               "redraw": true
              },
              "fromcurrent": true,
              "mode": "immediate",
              "transition": {
               "duration": 0,
               "easing": "linear"
              }
             }
            ],
            "label": "1961",
            "method": "animate"
           },
           {
            "args": [
             [
              "1962"
             ],
             {
              "frame": {
               "duration": 0,
               "redraw": true
              },
              "fromcurrent": true,
              "mode": "immediate",
              "transition": {
               "duration": 0,
               "easing": "linear"
              }
             }
            ],
            "label": "1962",
            "method": "animate"
           },
           {
            "args": [
             [
              "1963"
             ],
             {
              "frame": {
               "duration": 0,
               "redraw": true
              },
              "fromcurrent": true,
              "mode": "immediate",
              "transition": {
               "duration": 0,
               "easing": "linear"
              }
             }
            ],
            "label": "1963",
            "method": "animate"
           },
           {
            "args": [
             [
              "1964"
             ],
             {
              "frame": {
               "duration": 0,
               "redraw": true
              },
              "fromcurrent": true,
              "mode": "immediate",
              "transition": {
               "duration": 0,
               "easing": "linear"
              }
             }
            ],
            "label": "1964",
            "method": "animate"
           },
           {
            "args": [
             [
              "1965"
             ],
             {
              "frame": {
               "duration": 0,
               "redraw": true
              },
              "fromcurrent": true,
              "mode": "immediate",
              "transition": {
               "duration": 0,
               "easing": "linear"
              }
             }
            ],
            "label": "1965",
            "method": "animate"
           },
           {
            "args": [
             [
              "1966"
             ],
             {
              "frame": {
               "duration": 0,
               "redraw": true
              },
              "fromcurrent": true,
              "mode": "immediate",
              "transition": {
               "duration": 0,
               "easing": "linear"
              }
             }
            ],
            "label": "1966",
            "method": "animate"
           },
           {
            "args": [
             [
              "1969"
             ],
             {
              "frame": {
               "duration": 0,
               "redraw": true
              },
              "fromcurrent": true,
              "mode": "immediate",
              "transition": {
               "duration": 0,
               "easing": "linear"
              }
             }
            ],
            "label": "1969",
            "method": "animate"
           },
           {
            "args": [
             [
              "1978"
             ],
             {
              "frame": {
               "duration": 0,
               "redraw": true
              },
              "fromcurrent": true,
              "mode": "immediate",
              "transition": {
               "duration": 0,
               "easing": "linear"
              }
             }
            ],
            "label": "1978",
            "method": "animate"
           },
           {
            "args": [
             [
              "1981"
             ],
             {
              "frame": {
               "duration": 0,
               "redraw": true
              },
              "fromcurrent": true,
              "mode": "immediate",
              "transition": {
               "duration": 0,
               "easing": "linear"
              }
             }
            ],
            "label": "1981",
            "method": "animate"
           },
           {
            "args": [
             [
              "1984"
             ],
             {
              "frame": {
               "duration": 0,
               "redraw": true
              },
              "fromcurrent": true,
              "mode": "immediate",
              "transition": {
               "duration": 0,
               "easing": "linear"
              }
             }
            ],
            "label": "1984",
            "method": "animate"
           },
           {
            "args": [
             [
              "1985"
             ],
             {
              "frame": {
               "duration": 0,
               "redraw": true
              },
              "fromcurrent": true,
              "mode": "immediate",
              "transition": {
               "duration": 0,
               "easing": "linear"
              }
             }
            ],
            "label": "1985",
            "method": "animate"
           },
           {
            "args": [
             [
              "1986"
             ],
             {
              "frame": {
               "duration": 0,
               "redraw": true
              },
              "fromcurrent": true,
              "mode": "immediate",
              "transition": {
               "duration": 0,
               "easing": "linear"
              }
             }
            ],
            "label": "1986",
            "method": "animate"
           },
           {
            "args": [
             [
              "1987"
             ],
             {
              "frame": {
               "duration": 0,
               "redraw": true
              },
              "fromcurrent": true,
              "mode": "immediate",
              "transition": {
               "duration": 0,
               "easing": "linear"
              }
             }
            ],
            "label": "1987",
            "method": "animate"
           },
           {
            "args": [
             [
              "1988"
             ],
             {
              "frame": {
               "duration": 0,
               "redraw": true
              },
              "fromcurrent": true,
              "mode": "immediate",
              "transition": {
               "duration": 0,
               "easing": "linear"
              }
             }
            ],
            "label": "1988",
            "method": "animate"
           },
           {
            "args": [
             [
              "1989"
             ],
             {
              "frame": {
               "duration": 0,
               "redraw": true
              },
              "fromcurrent": true,
              "mode": "immediate",
              "transition": {
               "duration": 0,
               "easing": "linear"
              }
             }
            ],
            "label": "1989",
            "method": "animate"
           },
           {
            "args": [
             [
              "1990"
             ],
             {
              "frame": {
               "duration": 0,
               "redraw": true
              },
              "fromcurrent": true,
              "mode": "immediate",
              "transition": {
               "duration": 0,
               "easing": "linear"
              }
             }
            ],
            "label": "1990",
            "method": "animate"
           },
           {
            "args": [
             [
              "1991"
             ],
             {
              "frame": {
               "duration": 0,
               "redraw": true
              },
              "fromcurrent": true,
              "mode": "immediate",
              "transition": {
               "duration": 0,
               "easing": "linear"
              }
             }
            ],
            "label": "1991",
            "method": "animate"
           },
           {
            "args": [
             [
              "1992"
             ],
             {
              "frame": {
               "duration": 0,
               "redraw": true
              },
              "fromcurrent": true,
              "mode": "immediate",
              "transition": {
               "duration": 0,
               "easing": "linear"
              }
             }
            ],
            "label": "1992",
            "method": "animate"
           },
           {
            "args": [
             [
              "1993"
             ],
             {
              "frame": {
               "duration": 0,
               "redraw": true
              },
              "fromcurrent": true,
              "mode": "immediate",
              "transition": {
               "duration": 0,
               "easing": "linear"
              }
             }
            ],
            "label": "1993",
            "method": "animate"
           },
           {
            "args": [
             [
              "1994"
             ],
             {
              "frame": {
               "duration": 0,
               "redraw": true
              },
              "fromcurrent": true,
              "mode": "immediate",
              "transition": {
               "duration": 0,
               "easing": "linear"
              }
             }
            ],
            "label": "1994",
            "method": "animate"
           },
           {
            "args": [
             [
              "1995"
             ],
             {
              "frame": {
               "duration": 0,
               "redraw": true
              },
              "fromcurrent": true,
              "mode": "immediate",
              "transition": {
               "duration": 0,
               "easing": "linear"
              }
             }
            ],
            "label": "1995",
            "method": "animate"
           },
           {
            "args": [
             [
              "1996"
             ],
             {
              "frame": {
               "duration": 0,
               "redraw": true
              },
              "fromcurrent": true,
              "mode": "immediate",
              "transition": {
               "duration": 0,
               "easing": "linear"
              }
             }
            ],
            "label": "1996",
            "method": "animate"
           },
           {
            "args": [
             [
              "1997"
             ],
             {
              "frame": {
               "duration": 0,
               "redraw": true
              },
              "fromcurrent": true,
              "mode": "immediate",
              "transition": {
               "duration": 0,
               "easing": "linear"
              }
             }
            ],
            "label": "1997",
            "method": "animate"
           },
           {
            "args": [
             [
              "1998"
             ],
             {
              "frame": {
               "duration": 0,
               "redraw": true
              },
              "fromcurrent": true,
              "mode": "immediate",
              "transition": {
               "duration": 0,
               "easing": "linear"
              }
             }
            ],
            "label": "1998",
            "method": "animate"
           },
           {
            "args": [
             [
              "1999"
             ],
             {
              "frame": {
               "duration": 0,
               "redraw": true
              },
              "fromcurrent": true,
              "mode": "immediate",
              "transition": {
               "duration": 0,
               "easing": "linear"
              }
             }
            ],
            "label": "1999",
            "method": "animate"
           },
           {
            "args": [
             [
              "2000"
             ],
             {
              "frame": {
               "duration": 0,
               "redraw": true
              },
              "fromcurrent": true,
              "mode": "immediate",
              "transition": {
               "duration": 0,
               "easing": "linear"
              }
             }
            ],
            "label": "2000",
            "method": "animate"
           },
           {
            "args": [
             [
              "2001"
             ],
             {
              "frame": {
               "duration": 0,
               "redraw": true
              },
              "fromcurrent": true,
              "mode": "immediate",
              "transition": {
               "duration": 0,
               "easing": "linear"
              }
             }
            ],
            "label": "2001",
            "method": "animate"
           },
           {
            "args": [
             [
              "2002"
             ],
             {
              "frame": {
               "duration": 0,
               "redraw": true
              },
              "fromcurrent": true,
              "mode": "immediate",
              "transition": {
               "duration": 0,
               "easing": "linear"
              }
             }
            ],
            "label": "2002",
            "method": "animate"
           },
           {
            "args": [
             [
              "2003"
             ],
             {
              "frame": {
               "duration": 0,
               "redraw": true
              },
              "fromcurrent": true,
              "mode": "immediate",
              "transition": {
               "duration": 0,
               "easing": "linear"
              }
             }
            ],
            "label": "2003",
            "method": "animate"
           },
           {
            "args": [
             [
              "2004"
             ],
             {
              "frame": {
               "duration": 0,
               "redraw": true
              },
              "fromcurrent": true,
              "mode": "immediate",
              "transition": {
               "duration": 0,
               "easing": "linear"
              }
             }
            ],
            "label": "2004",
            "method": "animate"
           },
           {
            "args": [
             [
              "2005"
             ],
             {
              "frame": {
               "duration": 0,
               "redraw": true
              },
              "fromcurrent": true,
              "mode": "immediate",
              "transition": {
               "duration": 0,
               "easing": "linear"
              }
             }
            ],
            "label": "2005",
            "method": "animate"
           },
           {
            "args": [
             [
              "2006"
             ],
             {
              "frame": {
               "duration": 0,
               "redraw": true
              },
              "fromcurrent": true,
              "mode": "immediate",
              "transition": {
               "duration": 0,
               "easing": "linear"
              }
             }
            ],
            "label": "2006",
            "method": "animate"
           },
           {
            "args": [
             [
              "2007"
             ],
             {
              "frame": {
               "duration": 0,
               "redraw": true
              },
              "fromcurrent": true,
              "mode": "immediate",
              "transition": {
               "duration": 0,
               "easing": "linear"
              }
             }
            ],
            "label": "2007",
            "method": "animate"
           },
           {
            "args": [
             [
              "2008"
             ],
             {
              "frame": {
               "duration": 0,
               "redraw": true
              },
              "fromcurrent": true,
              "mode": "immediate",
              "transition": {
               "duration": 0,
               "easing": "linear"
              }
             }
            ],
            "label": "2008",
            "method": "animate"
           },
           {
            "args": [
             [
              "2009"
             ],
             {
              "frame": {
               "duration": 0,
               "redraw": true
              },
              "fromcurrent": true,
              "mode": "immediate",
              "transition": {
               "duration": 0,
               "easing": "linear"
              }
             }
            ],
            "label": "2009",
            "method": "animate"
           },
           {
            "args": [
             [
              "2010"
             ],
             {
              "frame": {
               "duration": 0,
               "redraw": true
              },
              "fromcurrent": true,
              "mode": "immediate",
              "transition": {
               "duration": 0,
               "easing": "linear"
              }
             }
            ],
            "label": "2010",
            "method": "animate"
           },
           {
            "args": [
             [
              "2011"
             ],
             {
              "frame": {
               "duration": 0,
               "redraw": true
              },
              "fromcurrent": true,
              "mode": "immediate",
              "transition": {
               "duration": 0,
               "easing": "linear"
              }
             }
            ],
            "label": "2011",
            "method": "animate"
           },
           {
            "args": [
             [
              "2012"
             ],
             {
              "frame": {
               "duration": 0,
               "redraw": true
              },
              "fromcurrent": true,
              "mode": "immediate",
              "transition": {
               "duration": 0,
               "easing": "linear"
              }
             }
            ],
            "label": "2012",
            "method": "animate"
           },
           {
            "args": [
             [
              "2013"
             ],
             {
              "frame": {
               "duration": 0,
               "redraw": true
              },
              "fromcurrent": true,
              "mode": "immediate",
              "transition": {
               "duration": 0,
               "easing": "linear"
              }
             }
            ],
            "label": "2013",
            "method": "animate"
           },
           {
            "args": [
             [
              "2014"
             ],
             {
              "frame": {
               "duration": 0,
               "redraw": true
              },
              "fromcurrent": true,
              "mode": "immediate",
              "transition": {
               "duration": 0,
               "easing": "linear"
              }
             }
            ],
            "label": "2014",
            "method": "animate"
           },
           {
            "args": [
             [
              "2015"
             ],
             {
              "frame": {
               "duration": 0,
               "redraw": true
              },
              "fromcurrent": true,
              "mode": "immediate",
              "transition": {
               "duration": 0,
               "easing": "linear"
              }
             }
            ],
            "label": "2015",
            "method": "animate"
           },
           {
            "args": [
             [
              "2016"
             ],
             {
              "frame": {
               "duration": 0,
               "redraw": true
              },
              "fromcurrent": true,
              "mode": "immediate",
              "transition": {
               "duration": 0,
               "easing": "linear"
              }
             }
            ],
            "label": "2016",
            "method": "animate"
           },
           {
            "args": [
             [
              "2017"
             ],
             {
              "frame": {
               "duration": 0,
               "redraw": true
              },
              "fromcurrent": true,
              "mode": "immediate",
              "transition": {
               "duration": 0,
               "easing": "linear"
              }
             }
            ],
            "label": "2017",
            "method": "animate"
           },
           {
            "args": [
             [
              "2018"
             ],
             {
              "frame": {
               "duration": 0,
               "redraw": true
              },
              "fromcurrent": true,
              "mode": "immediate",
              "transition": {
               "duration": 0,
               "easing": "linear"
              }
             }
            ],
            "label": "2018",
            "method": "animate"
           },
           {
            "args": [
             [
              "2019"
             ],
             {
              "frame": {
               "duration": 0,
               "redraw": true
              },
              "fromcurrent": true,
              "mode": "immediate",
              "transition": {
               "duration": 0,
               "easing": "linear"
              }
             }
            ],
            "label": "2019",
            "method": "animate"
           }
          ],
          "x": 0.1,
          "xanchor": "left",
          "y": 0,
          "yanchor": "top"
         }
        ],
        "template": {
         "data": {
          "bar": [
           {
            "error_x": {
             "color": "#2a3f5f"
            },
            "error_y": {
             "color": "#2a3f5f"
            },
            "marker": {
             "line": {
              "color": "#E5ECF6",
              "width": 0.5
             }
            },
            "type": "bar"
           }
          ],
          "barpolar": [
           {
            "marker": {
             "line": {
              "color": "#E5ECF6",
              "width": 0.5
             }
            },
            "type": "barpolar"
           }
          ],
          "carpet": [
           {
            "aaxis": {
             "endlinecolor": "#2a3f5f",
             "gridcolor": "white",
             "linecolor": "white",
             "minorgridcolor": "white",
             "startlinecolor": "#2a3f5f"
            },
            "baxis": {
             "endlinecolor": "#2a3f5f",
             "gridcolor": "white",
             "linecolor": "white",
             "minorgridcolor": "white",
             "startlinecolor": "#2a3f5f"
            },
            "type": "carpet"
           }
          ],
          "choropleth": [
           {
            "colorbar": {
             "outlinewidth": 0,
             "ticks": ""
            },
            "type": "choropleth"
           }
          ],
          "contour": [
           {
            "colorbar": {
             "outlinewidth": 0,
             "ticks": ""
            },
            "colorscale": [
             [
              0,
              "#0d0887"
             ],
             [
              0.1111111111111111,
              "#46039f"
             ],
             [
              0.2222222222222222,
              "#7201a8"
             ],
             [
              0.3333333333333333,
              "#9c179e"
             ],
             [
              0.4444444444444444,
              "#bd3786"
             ],
             [
              0.5555555555555556,
              "#d8576b"
             ],
             [
              0.6666666666666666,
              "#ed7953"
             ],
             [
              0.7777777777777778,
              "#fb9f3a"
             ],
             [
              0.8888888888888888,
              "#fdca26"
             ],
             [
              1,
              "#f0f921"
             ]
            ],
            "type": "contour"
           }
          ],
          "contourcarpet": [
           {
            "colorbar": {
             "outlinewidth": 0,
             "ticks": ""
            },
            "type": "contourcarpet"
           }
          ],
          "heatmap": [
           {
            "colorbar": {
             "outlinewidth": 0,
             "ticks": ""
            },
            "colorscale": [
             [
              0,
              "#0d0887"
             ],
             [
              0.1111111111111111,
              "#46039f"
             ],
             [
              0.2222222222222222,
              "#7201a8"
             ],
             [
              0.3333333333333333,
              "#9c179e"
             ],
             [
              0.4444444444444444,
              "#bd3786"
             ],
             [
              0.5555555555555556,
              "#d8576b"
             ],
             [
              0.6666666666666666,
              "#ed7953"
             ],
             [
              0.7777777777777778,
              "#fb9f3a"
             ],
             [
              0.8888888888888888,
              "#fdca26"
             ],
             [
              1,
              "#f0f921"
             ]
            ],
            "type": "heatmap"
           }
          ],
          "heatmapgl": [
           {
            "colorbar": {
             "outlinewidth": 0,
             "ticks": ""
            },
            "colorscale": [
             [
              0,
              "#0d0887"
             ],
             [
              0.1111111111111111,
              "#46039f"
             ],
             [
              0.2222222222222222,
              "#7201a8"
             ],
             [
              0.3333333333333333,
              "#9c179e"
             ],
             [
              0.4444444444444444,
              "#bd3786"
             ],
             [
              0.5555555555555556,
              "#d8576b"
             ],
             [
              0.6666666666666666,
              "#ed7953"
             ],
             [
              0.7777777777777778,
              "#fb9f3a"
             ],
             [
              0.8888888888888888,
              "#fdca26"
             ],
             [
              1,
              "#f0f921"
             ]
            ],
            "type": "heatmapgl"
           }
          ],
          "histogram": [
           {
            "marker": {
             "colorbar": {
              "outlinewidth": 0,
              "ticks": ""
             }
            },
            "type": "histogram"
           }
          ],
          "histogram2d": [
           {
            "colorbar": {
             "outlinewidth": 0,
             "ticks": ""
            },
            "colorscale": [
             [
              0,
              "#0d0887"
             ],
             [
              0.1111111111111111,
              "#46039f"
             ],
             [
              0.2222222222222222,
              "#7201a8"
             ],
             [
              0.3333333333333333,
              "#9c179e"
             ],
             [
              0.4444444444444444,
              "#bd3786"
             ],
             [
              0.5555555555555556,
              "#d8576b"
             ],
             [
              0.6666666666666666,
              "#ed7953"
             ],
             [
              0.7777777777777778,
              "#fb9f3a"
             ],
             [
              0.8888888888888888,
              "#fdca26"
             ],
             [
              1,
              "#f0f921"
             ]
            ],
            "type": "histogram2d"
           }
          ],
          "histogram2dcontour": [
           {
            "colorbar": {
             "outlinewidth": 0,
             "ticks": ""
            },
            "colorscale": [
             [
              0,
              "#0d0887"
             ],
             [
              0.1111111111111111,
              "#46039f"
             ],
             [
              0.2222222222222222,
              "#7201a8"
             ],
             [
              0.3333333333333333,
              "#9c179e"
             ],
             [
              0.4444444444444444,
              "#bd3786"
             ],
             [
              0.5555555555555556,
              "#d8576b"
             ],
             [
              0.6666666666666666,
              "#ed7953"
             ],
             [
              0.7777777777777778,
              "#fb9f3a"
             ],
             [
              0.8888888888888888,
              "#fdca26"
             ],
             [
              1,
              "#f0f921"
             ]
            ],
            "type": "histogram2dcontour"
           }
          ],
          "mesh3d": [
           {
            "colorbar": {
             "outlinewidth": 0,
             "ticks": ""
            },
            "type": "mesh3d"
           }
          ],
          "parcoords": [
           {
            "line": {
             "colorbar": {
              "outlinewidth": 0,
              "ticks": ""
             }
            },
            "type": "parcoords"
           }
          ],
          "pie": [
           {
            "automargin": true,
            "type": "pie"
           }
          ],
          "scatter": [
           {
            "marker": {
             "colorbar": {
              "outlinewidth": 0,
              "ticks": ""
             }
            },
            "type": "scatter"
           }
          ],
          "scatter3d": [
           {
            "line": {
             "colorbar": {
              "outlinewidth": 0,
              "ticks": ""
             }
            },
            "marker": {
             "colorbar": {
              "outlinewidth": 0,
              "ticks": ""
             }
            },
            "type": "scatter3d"
           }
          ],
          "scattercarpet": [
           {
            "marker": {
             "colorbar": {
              "outlinewidth": 0,
              "ticks": ""
             }
            },
            "type": "scattercarpet"
           }
          ],
          "scattergeo": [
           {
            "marker": {
             "colorbar": {
              "outlinewidth": 0,
              "ticks": ""
             }
            },
            "type": "scattergeo"
           }
          ],
          "scattergl": [
           {
            "marker": {
             "colorbar": {
              "outlinewidth": 0,
              "ticks": ""
             }
            },
            "type": "scattergl"
           }
          ],
          "scattermapbox": [
           {
            "marker": {
             "colorbar": {
              "outlinewidth": 0,
              "ticks": ""
             }
            },
            "type": "scattermapbox"
           }
          ],
          "scatterpolar": [
           {
            "marker": {
             "colorbar": {
              "outlinewidth": 0,
              "ticks": ""
             }
            },
            "type": "scatterpolar"
           }
          ],
          "scatterpolargl": [
           {
            "marker": {
             "colorbar": {
              "outlinewidth": 0,
              "ticks": ""
             }
            },
            "type": "scatterpolargl"
           }
          ],
          "scatterternary": [
           {
            "marker": {
             "colorbar": {
              "outlinewidth": 0,
              "ticks": ""
             }
            },
            "type": "scatterternary"
           }
          ],
          "surface": [
           {
            "colorbar": {
             "outlinewidth": 0,
             "ticks": ""
            },
            "colorscale": [
             [
              0,
              "#0d0887"
             ],
             [
              0.1111111111111111,
              "#46039f"
             ],
             [
              0.2222222222222222,
              "#7201a8"
             ],
             [
              0.3333333333333333,
              "#9c179e"
             ],
             [
              0.4444444444444444,
              "#bd3786"
             ],
             [
              0.5555555555555556,
              "#d8576b"
             ],
             [
              0.6666666666666666,
              "#ed7953"
             ],
             [
              0.7777777777777778,
              "#fb9f3a"
             ],
             [
              0.8888888888888888,
              "#fdca26"
             ],
             [
              1,
              "#f0f921"
             ]
            ],
            "type": "surface"
           }
          ],
          "table": [
           {
            "cells": {
             "fill": {
              "color": "#EBF0F8"
             },
             "line": {
              "color": "white"
             }
            },
            "header": {
             "fill": {
              "color": "#C8D4E3"
             },
             "line": {
              "color": "white"
             }
            },
            "type": "table"
           }
          ]
         },
         "layout": {
          "annotationdefaults": {
           "arrowcolor": "#2a3f5f",
           "arrowhead": 0,
           "arrowwidth": 1
          },
          "autotypenumbers": "strict",
          "coloraxis": {
           "colorbar": {
            "outlinewidth": 0,
            "ticks": ""
           }
          },
          "colorscale": {
           "diverging": [
            [
             0,
             "#8e0152"
            ],
            [
             0.1,
             "#c51b7d"
            ],
            [
             0.2,
             "#de77ae"
            ],
            [
             0.3,
             "#f1b6da"
            ],
            [
             0.4,
             "#fde0ef"
            ],
            [
             0.5,
             "#f7f7f7"
            ],
            [
             0.6,
             "#e6f5d0"
            ],
            [
             0.7,
             "#b8e186"
            ],
            [
             0.8,
             "#7fbc41"
            ],
            [
             0.9,
             "#4d9221"
            ],
            [
             1,
             "#276419"
            ]
           ],
           "sequential": [
            [
             0,
             "#0d0887"
            ],
            [
             0.1111111111111111,
             "#46039f"
            ],
            [
             0.2222222222222222,
             "#7201a8"
            ],
            [
             0.3333333333333333,
             "#9c179e"
            ],
            [
             0.4444444444444444,
             "#bd3786"
            ],
            [
             0.5555555555555556,
             "#d8576b"
            ],
            [
             0.6666666666666666,
             "#ed7953"
            ],
            [
             0.7777777777777778,
             "#fb9f3a"
            ],
            [
             0.8888888888888888,
             "#fdca26"
            ],
            [
             1,
             "#f0f921"
            ]
           ],
           "sequentialminus": [
            [
             0,
             "#0d0887"
            ],
            [
             0.1111111111111111,
             "#46039f"
            ],
            [
             0.2222222222222222,
             "#7201a8"
            ],
            [
             0.3333333333333333,
             "#9c179e"
            ],
            [
             0.4444444444444444,
             "#bd3786"
            ],
            [
             0.5555555555555556,
             "#d8576b"
            ],
            [
             0.6666666666666666,
             "#ed7953"
            ],
            [
             0.7777777777777778,
             "#fb9f3a"
            ],
            [
             0.8888888888888888,
             "#fdca26"
            ],
            [
             1,
             "#f0f921"
            ]
           ]
          },
          "colorway": [
           "#636efa",
           "#EF553B",
           "#00cc96",
           "#ab63fa",
           "#FFA15A",
           "#19d3f3",
           "#FF6692",
           "#B6E880",
           "#FF97FF",
           "#FECB52"
          ],
          "font": {
           "color": "#2a3f5f"
          },
          "geo": {
           "bgcolor": "white",
           "lakecolor": "white",
           "landcolor": "#E5ECF6",
           "showlakes": true,
           "showland": true,
           "subunitcolor": "white"
          },
          "hoverlabel": {
           "align": "left"
          },
          "hovermode": "closest",
          "mapbox": {
           "style": "light"
          },
          "paper_bgcolor": "white",
          "plot_bgcolor": "#E5ECF6",
          "polar": {
           "angularaxis": {
            "gridcolor": "white",
            "linecolor": "white",
            "ticks": ""
           },
           "bgcolor": "#E5ECF6",
           "radialaxis": {
            "gridcolor": "white",
            "linecolor": "white",
            "ticks": ""
           }
          },
          "scene": {
           "xaxis": {
            "backgroundcolor": "#E5ECF6",
            "gridcolor": "white",
            "gridwidth": 2,
            "linecolor": "white",
            "showbackground": true,
            "ticks": "",
            "zerolinecolor": "white"
           },
           "yaxis": {
            "backgroundcolor": "#E5ECF6",
            "gridcolor": "white",
            "gridwidth": 2,
            "linecolor": "white",
            "showbackground": true,
            "ticks": "",
            "zerolinecolor": "white"
           },
           "zaxis": {
            "backgroundcolor": "#E5ECF6",
            "gridcolor": "white",
            "gridwidth": 2,
            "linecolor": "white",
            "showbackground": true,
            "ticks": "",
            "zerolinecolor": "white"
           }
          },
          "shapedefaults": {
           "line": {
            "color": "#2a3f5f"
           }
          },
          "ternary": {
           "aaxis": {
            "gridcolor": "white",
            "linecolor": "white",
            "ticks": ""
           },
           "baxis": {
            "gridcolor": "white",
            "linecolor": "white",
            "ticks": ""
           },
           "bgcolor": "#E5ECF6",
           "caxis": {
            "gridcolor": "white",
            "linecolor": "white",
            "ticks": ""
           }
          },
          "title": {
           "x": 0.05
          },
          "xaxis": {
           "automargin": true,
           "gridcolor": "white",
           "linecolor": "white",
           "ticks": "",
           "title": {
            "standoff": 15
           },
           "zerolinecolor": "white",
           "zerolinewidth": 2
          },
          "yaxis": {
           "automargin": true,
           "gridcolor": "white",
           "linecolor": "white",
           "ticks": "",
           "title": {
            "standoff": 15
           },
           "zerolinecolor": "white",
           "zerolinewidth": 2
          }
         }
        },
        "updatemenus": [
         {
          "buttons": [
           {
            "args": [
             null,
             {
              "frame": {
               "duration": 500,
               "redraw": true
              },
              "fromcurrent": true,
              "mode": "immediate",
              "transition": {
               "duration": 500,
               "easing": "linear"
              }
             }
            ],
            "label": "&#9654;",
            "method": "animate"
           },
           {
            "args": [
             [
              null
             ],
             {
              "frame": {
               "duration": 0,
               "redraw": true
              },
              "fromcurrent": true,
              "mode": "immediate",
              "transition": {
               "duration": 0,
               "easing": "linear"
              }
             }
            ],
            "label": "&#9724;",
            "method": "animate"
           }
          ],
          "direction": "left",
          "pad": {
           "r": 10,
           "t": 70
          },
          "showactive": false,
          "type": "buttons",
          "x": 0.1,
          "xanchor": "right",
          "y": 0,
          "yanchor": "top"
         }
        ]
       }
      }
     },
     "metadata": {},
     "output_type": "display_data"
    }
   ],
   "source": [
    "larva = pd.read_csv('data/Fishlarvaldata_Capstone_2021_FromAndrewThompson_updated 1804 1904 1507 1607 1601 1704 1604 1501 1407 1311 ichthyoplankton by line and station.csv')\n",
    "larva = larva[larva['Sardinops.sagax'] != 0.0000]\n",
    "larva = larva.iloc[::-1]\n",
    "larva['sardine_size'] = np.log(larva['Sardinops.sagax'])\n",
    "\n",
    "fig = px.scatter_mapbox(larva, lat='latitude', lon='longitude', hover_name='Sardinops.sagax', zoom = 6, animation_frame='year', center = dict(lat=33, lon= -121), opacity = 1, size = 'sardine_size', color = 'Sardinops.sagax', range_color=(0, 6100))\n",
    "\n",
    "\n",
    "fig.update_layout(\n",
    "    mapbox_style=\"white-bg\",\n",
    "    mapbox_layers=[\n",
    "        {\n",
    "            \"below\": 'traces',\n",
    "            \"sourcetype\": \"raster\",\n",
    "            \"sourceattribution\": \"United States Geological Survey\",\n",
    "            \"source\": [\n",
    "                \"https://basemap.nationalmap.gov/arcgis/rest/services/USGSImageryOnly/MapServer/tile/{z}/{y}/{x}\"\n",
    "            ]\n",
    "        }\n",
    "      ])\n",
    "fig.update_layout(margin={\"r\":0,\"t\":0,\"l\":0,\"b\":0})\n",
    "\n",
    "\n",
    "fig.show()\n"
   ]
  },
  {
   "cell_type": "code",
   "execution_count": null,
   "metadata": {},
   "outputs": [],
   "source": []
  }
 ],
 "metadata": {
  "celltoolbar": "Tags",
  "kernelspec": {
   "display_name": "Python 3",
   "language": "python",
   "name": "python3"
  },
  "language_info": {
   "codemirror_mode": {
    "name": "ipython",
    "version": 3
   },
   "file_extension": ".py",
   "mimetype": "text/x-python",
   "name": "python",
   "nbconvert_exporter": "python",
   "pygments_lexer": "ipython3",
   "version": "3.8.3"
  }
 },
 "nbformat": 4,
 "nbformat_minor": 2
}
