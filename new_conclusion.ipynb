{
 "cells": [
  {
   "cell_type": "markdown",
   "metadata": {},
   "source": [
    "# Conclusion"
   ]
  },
  {
   "source": [
    "![calcofi_cruise2](page_images/calcofi_cruise2.jpg)\n"
   ],
   "cell_type": "markdown",
   "metadata": {}
  },
  {
   "source": [
    "Humans rely on seafood and marine ecosystems in many aspects of life. Many communities rely on the ocean for their food, livelihoods, and transportation. The ocean even produces the oxygen we breathe, as well as regulating global climate and weather patterns. It’s clear that we must work to continue supporting healthy marine ecosystems for the benefit of the planet and all its inhabitants.  Fishery management is a key aspect of supporting human life and maintaining ecosystem health- its importance will only continue to grow in the future. CalCOFI was created to better understand what factors affect fish populations and allow fisheries to manage these populations in the best way possible.\n",
    "\n",
    "Marine ecosystems are very complex and we hoped this project would help us and CalCOFI understand a little bit more about the relationships that influence the sardine population off of the California coast. We mainly focused on analyzing the relationship between sardine larvae, sardine catch, and ocean temperature- more specifically, how the number of detected sardine larvae impacts the amount of sardine caught and how ocean temperatures affect the abundance of sardine larvae. \n"
   ],
   "cell_type": "markdown",
   "metadata": {}
  },
  {
   "source": [
    "![bottle_deployment](page_images/bottle_deployment.jpg)\n",
    "\n"
   ],
   "cell_type": "markdown",
   "metadata": {}
  },
  {
   "source": [
    "All fish require a specific amount of time to mature and transition from larvae to adult. This process is known as recruitment. For sardines, this process takes place over a timeframe of roughly 1-2 years. When analyzing the relationship between the amount of larvae detected and the number of adult fish caught, we expected to find a correlation between the amount of larvae in a given year and the number of adult fish caught approximately 1 to 2 years after the given year. Computing a lagged correlation between the larval dataset and the catch dataset with an offset of 2 years resulted in a positive correlation between the number of sardine larvae detected and the pounds of adult sardine caught, which aligns with the typical recruitment time for sardine. This is an important piece of information to verify, as it leads us to the conclusion that when studying the sardine population, we must account for an approximate recruitment time of 2 years to accurately connect sardine larvae with adult sardine."
   ],
   "cell_type": "markdown",
   "metadata": {}
  },
  {
   "source": [
    "![conclusion_image2](page_images/conclusion_image2.jpg)\n",
    "\n"
   ],
   "cell_type": "markdown",
   "metadata": {}
  },
  {
   "source": [
    "In addition to the relationship between sardine larvae and adult sardine, we studied ocean temperature trends, in an attempt to explain changes in the sardine population over the last 70 years. From our exploratory analysis, we found that both sardine larvae detected and adult sardine caught began to rise in the early 1990s. We predicted that an increase in temperature between 11C and 19C would cause an increase in the amount of sardine present. The larvae population did increase at roughly 11C, but the average temperatures did not reach higher than 12C. Because of this, we could not conclude that the population will decline as temperatures exceed 19C.\n",
    "\n"
   ],
   "cell_type": "markdown",
   "metadata": {}
  },
  {
   "source": [
    "![conclusion_image1](page_images/conclusion_image1.jpg)\n"
   ],
   "cell_type": "markdown",
   "metadata": {}
  },
  {
   "source": [
    "This project was a great learning opportunity for our team to work with real world data and have a better understanding of what working in data science would entail. Data processing turned out to be much more difficult and time consuming than we had originally anticipated. Another issue we ran into was the sparsity of catch data due to privacy laws. These two problems are not unique to this particular project and are something that will be present in almost any data science work that we may take on. \n",
    "\n",
    "In the future, there are many avenues that this analysis could be taken. There is a lot more to be explored in terms of environmental data. One such route could be looking into the effects of climate cycles like El Nino on the sardine population. This cycle will most likely have a more complicated relationship with the fish, as it is more complex than simply changes in the ocean temperature. Circulation patterns and migration of the fish could be another direction that the analysis could be taken. \n",
    "\n",
    "Our results are very specific to this particular region, but it would stand to reason that our questions of interest and hypotheses could be extended to a more general scale. While clear relationships exist between sardine larvae and catch and ocean temperature, the correlations found were not exceptionally strong. Future work could use more complex models that allow for the effects of other variables in hopes of finding more robust relationships. \n"
   ],
   "cell_type": "markdown",
   "metadata": {}
  },
  {
   "source": [
    "![calcofi_bottle](page_images/calcofi_bottle.jpg)\n",
    "\n",
    "_Image Sources: CalCOFI_"
   ],
   "cell_type": "markdown",
   "metadata": {}
  },
  {
   "cell_type": "code",
   "execution_count": null,
   "metadata": {},
   "outputs": [],
   "source": []
  }
 ],
 "metadata": {
  "kernelspec": {
   "display_name": "Python 3",
   "name": "python3",
   "language": "python"
  },
  "language_info": {
   "name": "python",
   "version": "3.8.3-final"
  },
  "orig_nbformat": 2
 },
 "nbformat": 4,
 "nbformat_minor": 2
}