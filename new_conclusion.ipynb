{
 "cells": [
  {
   "cell_type": "markdown",
   "metadata": {},
   "source": [
    "# Conclusion"
   ]
  },
  {
   "source": [
    "![calcofi_cruise2](page_images/calcofi_cruise2.jpg)\n",
    "\n",
    "_Source: CalCOFI_\n"
   ],
   "cell_type": "markdown",
   "metadata": {}
  },
  {
   "source": [
    "Humans rely on seafood and marine ecosystems in many aspects of life. Many communities rely on the ocean for their food, livelihoods, and transportation. The ocean even produces the oxygen we breathe, as well as regulating global climate and weather patterns. It’s clear that we must work to continue supporting healthy marine ecosystems for the benefit of the planet and all its inhabitants.  Fishery management is a key aspect of supporting human life and maintaining ecosystem health- its importance will only continue to grow in the future. CalCOFI was created to better understand what factors affect fish populations and allow fisheries to manage these populations in the best way possible.\n",
    "\n",
    "Marine ecosystems are very complex and we hoped this project would help us and CalCOFI understand a little bit more about the relationships that influence the sardine population off of the California coast. We mainly focused on analyzing the relationship between sardine larvae, sardine catch, and ocean temperature- more specifically, how the number of detected sardine larvae impacts the amount of sardine caught and how ocean temperatures affect the abundance of sardine larvae. \n"
   ],
   "cell_type": "markdown",
   "metadata": {}
  },
  {
   "source": [
    "(image goes here)"
   ],
   "cell_type": "markdown",
   "metadata": {}
  },
  {
   "source": [
    "All fish require a specific amount of time to mature and transition from larvae to adult. This process is known as recruitment. For sardines, this process takes place over a timeframe of roughly 1-2 years. When analyzing the relationship between the amount of larvae detected and the number of adult fish caught, we expected to find a correlation between the amount of larvae in a given year and the number of adult fish caught approximately 1 to 2 years after the given year. Computing a lagged correlation between the larval dataset and the catch dataset with an offset of 2 years resulted in a positive correlation between the number of sardine larvae detected and the pounds of adult sardine caught, which aligns with the typical recruitment time for sardine. This is an important piece of information to verify, as it leads us to the conclusion that when studying the sardine population, we must account for an approximate recruitment time of 2 years to accurately connect sardine larvae with adult sardine."
   ],
   "cell_type": "markdown",
   "metadata": {}
  },
  {
   "source": [
    "(image goes here)"
   ],
   "cell_type": "markdown",
   "metadata": {}
  },
  {
   "source": [
    "In addition to the relationship between sardine larvae and adult sardine, we studied ocean temperature trends, in an attempt to explain changes in the sardine population over the last 70 years. From our exploratory analysis, we found that both sardine larvae detected and adult sardine caught began to rise in the early 1990s. In addition to this, they both maintained higher values compared to their pre-1990s levels. We predicted that this\n"
   ],
   "cell_type": "markdown",
   "metadata": {}
  }
 ],
 "metadata": {
  "kernelspec": {
   "display_name": "Python 3",
   "name": "python3",
   "language": "python"
  },
  "language_info": {
   "name": "python",
   "version": "3.8.3"
  },
  "orig_nbformat": 2
 },
 "nbformat": 4,
 "nbformat_minor": 2
}