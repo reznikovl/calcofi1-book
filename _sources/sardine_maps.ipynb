{
 "metadata": {
  "language_info": {
   "codemirror_mode": {
    "name": "ipython",
    "version": 3
   },
   "file_extension": ".py",
   "mimetype": "text/x-python",
   "name": "python",
   "nbconvert_exporter": "python",
   "pygments_lexer": "ipython3",
   "version": 3
  },
  "orig_nbformat": 2
 },
 "nbformat": 4,
 "nbformat_minor": 2,
 "cells": [
  {
   "cell_type": "code",
   "execution_count": null,
   "metadata": {},
   "outputs": [],
   "source": [
    "import pandas as pd\n",
    "import numpy as np\n",
    "import matplotlib.pyplot as plt\n",
    "import plotly"
   ]
  },
  {
   "cell_type": "code",
   "execution_count": null,
   "metadata": {},
   "outputs": [],
   "source": [
    "larva = pd.read_csv('/data/Fishlarvaldata_Capstone_2021_FromAndrewThompson_updated 1804 1904 1507 1607 1601 1704 1604 1501 1407 1311 ichthyoplankton by line and station.csv')\n"
   ]
  },
  {
   "cell_type": "code",
   "execution_count": null,
   "metadata": {},
   "outputs": [],
   "source": [
    "larva = larva[larva['Sardinops.sagax'] != 0.0000]\n",
    "larva = larva.iloc[::-1]"
   ]
  },
  {
   "cell_type": "code",
   "execution_count": null,
   "metadata": {},
   "outputs": [],
   "source": [
    "import plotly.express as px\n",
    "\n",
    "df = px.data.gapminder()\n",
    "fig = px.scatter(larva, x=\"longitude\", y=\"latitude\", animation_frame=\"year\",\n",
    "           size=\"Sardinops.sagax\", hover_name=\"Sardinops.sagax\",\n",
    "           log_x=False, size_max=55, range_x=[-125, -117], range_y=[30,36])\n",
    "\n",
    "#fig[\"layout\"].pop(\"updatemenus\") # optional, drop animation buttons\n",
    "fig.show()"
   ]
  },
  {
   "cell_type": "code",
   "execution_count": null,
   "metadata": {},
   "outputs": [],
   "source": [
    "\n",
    "import plotly.express as px\n",
    "fig = px.density_mapbox(larva, lat='latitude', lon='longitude', z='Sardinops.sagax', hover_name = 'Sardinops.sagax', #radius=10,\n",
    "                        center=dict(lat=33, lon=-121), animation_frame='year', zoom=6,\n",
    "                        mapbox_style=\"stamen-terrain\")\n",
    "\n",
    "fig.show()"
   ]
  },
  {
   "cell_type": "code",
   "execution_count": null,
   "metadata": {},
   "outputs": [],
   "source": [
    "fig = px.scatter_mapbox(larva, lat='latitude', lon='longitude', hover_name = 'Sardinops.sagax', color = 'Sardinops.sagax', \n",
    "                        center=dict(lat=33, lon=-121), animation_frame='year', zoom=6,\n",
    "                        mapbox_style=\"stamen-terrain\")\n",
    "fig.show()"
   ]
  },
  {
   "cell_type": "code",
   "execution_count": null,
   "metadata": {},
   "outputs": [],
   "source": [
    "fig = px.scatter_mapbox(larva, lat='latitude', lon='longitude', hover_name = 'Sardinops.sagax', color = 'Sardinops.sagax', \n",
    "                        center=dict(lat=33, lon=-121), animation_frame='year', zoom=6)\n",
    "\n",
    "fig.update_layout(\n",
    "    mapbox_style=\"white-bg\",\n",
    "    mapbox_layers=[\n",
    "        {\n",
    "            \"below\": 'traces',\n",
    "            \"sourcetype\": \"raster\",\n",
    "            \"sourceattribution\": \"United States Geological Survey\",\n",
    "            \"source\": [\n",
    "                \"https://basemap.nationalmap.gov/arcgis/rest/services/USGSImageryOnly/MapServer/tile/{z}/{y}/{x}\"\n",
    "            ]\n",
    "        }\n",
    "      ])\n",
    "fig.update_layout(margin={\"r\":0,\"t\":0,\"l\":0,\"b\":0})\n",
    "fig.show()"
   ]
  }
 ]
}