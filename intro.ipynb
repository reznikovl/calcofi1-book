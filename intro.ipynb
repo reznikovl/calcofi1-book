{
 "cells": [
  {
   "cell_type": "markdown",
   "metadata": {},
   "source": [
    "### Introduction\n",
    "\n",
    "![calcofi_cruise](page_images/calcofi_cruise.jpg)\n",
    "_Source: CalCOFI_\n",
    "\n",
    "The California Cooperative Oceanic Fisheries Investigations (CalCOFI) is an organization that focuses on studying the marine environment surrounding the California coast in order to investigate the relationships between climate, fish population, and other human activities.\n",
    "\n",
    "Our project initially focused on two separate datasets: "
   ]
  },
  {
   "cell_type": "markdown",
   "metadata": {},
   "source": [
    "### Fish Larvae Catch Data\n",
    "\n",
    "This data was collected from CalCOFI cruises and was used to measure quantities and catch amounts of 6 different fish species.\n",
    " "
   ]
  },
  {
   "cell_type": "code",
   "execution_count": 1,
   "metadata": {
    "tags": [
     "remove_input"
    ]
   },
   "outputs": [],
   "source": [
    "# contains code to import datasets to be displayed further on the page\n",
    "import pandas as pd\n",
    "import numpy as np\n",
    "import matplotlib.pyplot as plt\n",
    "from matplotlib.pyplot import figure\n",
    "import plotly.graph_objects as go \n",
    "import plotly.express as px \n",
    "import plotly.io as pio\n",
    "import math\n",
    "\n",
    "# larvae catch data\n",
    "larval_df = pd.read_csv('data/Fishlarvaldata_Capstone_2021_FromAndrewThompson_updated 1804 1904 1507 1607 1601 1704 1604 1501 1407 1311 ichthyoplankton by line and station.csv')\n",
    "\n",
    "# commercial fish data\n",
    "commercial_fishery_df = pd.read_csv('data/LandingSummaryExtract-Satterthwaite_Monthly.CSV')\n",
    "\n",
    "# commercial fish data (updated)\n",
    "fishery_updated = pd.read_csv('data/2232021_SummaryByQuarter_blockgrouping_87-20_210223_Redacted.csv')\n",
    "\n",
    "# bottle/cast data\n",
    "bottle = pd.read_csv('data/bottlecast_grouped.csv')\n",
    "\n",
    "# landing data as time series (used for fish species count by year)\n",
    "landing_summary_ts = pd.read_csv('data/LandingSummaryExtract-Satterthwaite_Monthly.CSV', parse_dates=['Year'],index_col=['Year'])"
   ]
  },
  {
   "cell_type": "code",
   "execution_count": 2,
   "metadata": {
    "tags": [
     "hide_input"
    ]
   },
   "outputs": [
    {
     "output_type": "execute_result",
     "data": {
      "text/plain": [
       "    longitude   latitude  year  season  Anchovy, Northern  Mackerel, Jack  \\\n",
       "0 -120.776667  35.086667  2019  spring           0.000000             0.0   \n",
       "1 -120.915000  35.021667  2019  spring           0.000000             0.0   \n",
       "2 -121.196667  34.890000  2019  spring          36.666667             0.0   \n",
       "3 -121.551667  34.720000  2019  spring          40.720000             0.0   \n",
       "4 -122.245000  34.390000  2019  spring           4.850000             0.0   \n",
       "5 -122.958333  34.048333  2019  spring           4.340000             0.0   \n",
       "6 -120.495000  34.465000  2019  spring           0.000000             0.0   \n",
       "7 -120.528333  34.453333  2019  spring           4.170000             0.0   \n",
       "8 -120.790000  34.328333  2019  spring        1801.358491             0.0   \n",
       "9 -121.153333  34.150000  2019  spring         351.909091             0.0   \n",
       "\n",
       "   Mackerel, Pacific  Opah  Sardine  Yellowtail  \n",
       "0                0.0   0.0      0.0         0.0  \n",
       "1                0.0   0.0      0.0         0.0  \n",
       "2                0.0   0.0      0.0         0.0  \n",
       "3                0.0   0.0      0.0         0.0  \n",
       "4                0.0   0.0      0.0         0.0  \n",
       "5                0.0   0.0      0.0         0.0  \n",
       "6                0.0   0.0      0.0         0.0  \n",
       "7                0.0   0.0      0.0         0.0  \n",
       "8                0.0   0.0      0.0         0.0  \n",
       "9                0.0   0.0      0.0         0.0  "
      ],
      "text/html": "<div>\n<style scoped>\n    .dataframe tbody tr th:only-of-type {\n        vertical-align: middle;\n    }\n\n    .dataframe tbody tr th {\n        vertical-align: top;\n    }\n\n    .dataframe thead th {\n        text-align: right;\n    }\n</style>\n<table border=\"1\" class=\"dataframe\">\n  <thead>\n    <tr style=\"text-align: right;\">\n      <th></th>\n      <th>longitude</th>\n      <th>latitude</th>\n      <th>year</th>\n      <th>season</th>\n      <th>Anchovy, Northern</th>\n      <th>Mackerel, Jack</th>\n      <th>Mackerel, Pacific</th>\n      <th>Opah</th>\n      <th>Sardine</th>\n      <th>Yellowtail</th>\n    </tr>\n  </thead>\n  <tbody>\n    <tr>\n      <th>0</th>\n      <td>-120.776667</td>\n      <td>35.086667</td>\n      <td>2019</td>\n      <td>spring</td>\n      <td>0.000000</td>\n      <td>0.0</td>\n      <td>0.0</td>\n      <td>0.0</td>\n      <td>0.0</td>\n      <td>0.0</td>\n    </tr>\n    <tr>\n      <th>1</th>\n      <td>-120.915000</td>\n      <td>35.021667</td>\n      <td>2019</td>\n      <td>spring</td>\n      <td>0.000000</td>\n      <td>0.0</td>\n      <td>0.0</td>\n      <td>0.0</td>\n      <td>0.0</td>\n      <td>0.0</td>\n    </tr>\n    <tr>\n      <th>2</th>\n      <td>-121.196667</td>\n      <td>34.890000</td>\n      <td>2019</td>\n      <td>spring</td>\n      <td>36.666667</td>\n      <td>0.0</td>\n      <td>0.0</td>\n      <td>0.0</td>\n      <td>0.0</td>\n      <td>0.0</td>\n    </tr>\n    <tr>\n      <th>3</th>\n      <td>-121.551667</td>\n      <td>34.720000</td>\n      <td>2019</td>\n      <td>spring</td>\n      <td>40.720000</td>\n      <td>0.0</td>\n      <td>0.0</td>\n      <td>0.0</td>\n      <td>0.0</td>\n      <td>0.0</td>\n    </tr>\n    <tr>\n      <th>4</th>\n      <td>-122.245000</td>\n      <td>34.390000</td>\n      <td>2019</td>\n      <td>spring</td>\n      <td>4.850000</td>\n      <td>0.0</td>\n      <td>0.0</td>\n      <td>0.0</td>\n      <td>0.0</td>\n      <td>0.0</td>\n    </tr>\n    <tr>\n      <th>5</th>\n      <td>-122.958333</td>\n      <td>34.048333</td>\n      <td>2019</td>\n      <td>spring</td>\n      <td>4.340000</td>\n      <td>0.0</td>\n      <td>0.0</td>\n      <td>0.0</td>\n      <td>0.0</td>\n      <td>0.0</td>\n    </tr>\n    <tr>\n      <th>6</th>\n      <td>-120.495000</td>\n      <td>34.465000</td>\n      <td>2019</td>\n      <td>spring</td>\n      <td>0.000000</td>\n      <td>0.0</td>\n      <td>0.0</td>\n      <td>0.0</td>\n      <td>0.0</td>\n      <td>0.0</td>\n    </tr>\n    <tr>\n      <th>7</th>\n      <td>-120.528333</td>\n      <td>34.453333</td>\n      <td>2019</td>\n      <td>spring</td>\n      <td>4.170000</td>\n      <td>0.0</td>\n      <td>0.0</td>\n      <td>0.0</td>\n      <td>0.0</td>\n      <td>0.0</td>\n    </tr>\n    <tr>\n      <th>8</th>\n      <td>-120.790000</td>\n      <td>34.328333</td>\n      <td>2019</td>\n      <td>spring</td>\n      <td>1801.358491</td>\n      <td>0.0</td>\n      <td>0.0</td>\n      <td>0.0</td>\n      <td>0.0</td>\n      <td>0.0</td>\n    </tr>\n    <tr>\n      <th>9</th>\n      <td>-121.153333</td>\n      <td>34.150000</td>\n      <td>2019</td>\n      <td>spring</td>\n      <td>351.909091</td>\n      <td>0.0</td>\n      <td>0.0</td>\n      <td>0.0</td>\n      <td>0.0</td>\n      <td>0.0</td>\n    </tr>\n  </tbody>\n</table>\n</div>"
     },
     "metadata": {},
     "execution_count": 2
    }
   ],
   "source": [
    "# rename columns to non-scientific names for readability\n",
    "larval = larval_df.rename(columns={'Engraulis.mordax':'Anchovy, Northern','Trachurus.symmetricus':'Mackerel, Jack', 'Scomber.japonicus':'Mackerel, Pacific','Lampridiformes1':'Opah','Sardinops.sagax':'Sardine','Seriola.lalandi':'Yellowtail'})\n",
    "\n",
    "# select columns to show\n",
    "cols_to_display_larval = ['longitude','latitude','year','season','Anchovy, Northern','Mackerel, Jack',\n",
    "'Mackerel, Pacific','Opah','Sardine','Yellowtail']\n",
    "\n",
    "# print head of selected columns\n",
    "larval[cols_to_display_larval].head(10)"
   ]
  },
  {
   "cell_type": "markdown",
   "metadata": {},
   "source": [
    "The larvae catch dataset contains information on time (year),location (latitude/longitude), and the amount (pounds) of larvae found. It is sorted by species type.\n",
    "\n",
    "The dataset is very sparse, since the majority of cruises caught zero pounds of a given larvae species. Scroll through and see just how many types of fish there are, and how few are caught per cruise!"
   ]
  },
  {
   "cell_type": "markdown",
   "metadata": {},
   "source": [
    "### Commercial Fish Data\n",
    "\n",
    "This data was collected from various California fisheries and was used to supplement the fish catch data by providing additional information on amounts of fish caught."
   ]
  },
  {
   "cell_type": "code",
   "execution_count": 3,
   "metadata": {
    "tags": [
     "hide_input"
    ]
   },
   "outputs": [
    {
     "output_type": "execute_result",
     "data": {
      "text/plain": [
       "    Year Quarter  GroupBlocks  Species ID Species Name  Pounds Total Price\n",
       "0   1987   Qtr 1       1032.0        40.0   Yellowtail   256.0       $272 \n",
       "3   1987   Qtr 2       1032.0        40.0   Yellowtail  1710.0     $1,511 \n",
       "5   1987   Qtr 2       1034.0        40.0   Yellowtail  1417.0     $1,177 \n",
       "6   1987   Qtr 2       1035.0        40.0   Yellowtail  6457.0     $6,267 \n",
       "8   1987   Qtr 2        600.0        40.0   Yellowtail  3071.0     $2,644 \n",
       "9   1987   Qtr 2        700.0        40.0   Yellowtail  2622.0     $2,549 \n",
       "10  1987   Qtr 2        800.0        40.0   Yellowtail  2815.0     $2,704 \n",
       "11  1987   Qtr 3       1032.0        40.0   Yellowtail  7335.0     $8,019 \n",
       "13  1987   Qtr 3       1034.0        40.0   Yellowtail  3645.0     $3,127 \n",
       "14  1987   Qtr 3       1035.0        40.0   Yellowtail  4458.0     $4,397 "
      ],
      "text/html": "<div>\n<style scoped>\n    .dataframe tbody tr th:only-of-type {\n        vertical-align: middle;\n    }\n\n    .dataframe tbody tr th {\n        vertical-align: top;\n    }\n\n    .dataframe thead th {\n        text-align: right;\n    }\n</style>\n<table border=\"1\" class=\"dataframe\">\n  <thead>\n    <tr style=\"text-align: right;\">\n      <th></th>\n      <th>Year</th>\n      <th>Quarter</th>\n      <th>GroupBlocks</th>\n      <th>Species ID</th>\n      <th>Species Name</th>\n      <th>Pounds</th>\n      <th>Total Price</th>\n    </tr>\n  </thead>\n  <tbody>\n    <tr>\n      <th>0</th>\n      <td>1987</td>\n      <td>Qtr 1</td>\n      <td>1032.0</td>\n      <td>40.0</td>\n      <td>Yellowtail</td>\n      <td>256.0</td>\n      <td>$272</td>\n    </tr>\n    <tr>\n      <th>3</th>\n      <td>1987</td>\n      <td>Qtr 2</td>\n      <td>1032.0</td>\n      <td>40.0</td>\n      <td>Yellowtail</td>\n      <td>1710.0</td>\n      <td>$1,511</td>\n    </tr>\n    <tr>\n      <th>5</th>\n      <td>1987</td>\n      <td>Qtr 2</td>\n      <td>1034.0</td>\n      <td>40.0</td>\n      <td>Yellowtail</td>\n      <td>1417.0</td>\n      <td>$1,177</td>\n    </tr>\n    <tr>\n      <th>6</th>\n      <td>1987</td>\n      <td>Qtr 2</td>\n      <td>1035.0</td>\n      <td>40.0</td>\n      <td>Yellowtail</td>\n      <td>6457.0</td>\n      <td>$6,267</td>\n    </tr>\n    <tr>\n      <th>8</th>\n      <td>1987</td>\n      <td>Qtr 2</td>\n      <td>600.0</td>\n      <td>40.0</td>\n      <td>Yellowtail</td>\n      <td>3071.0</td>\n      <td>$2,644</td>\n    </tr>\n    <tr>\n      <th>9</th>\n      <td>1987</td>\n      <td>Qtr 2</td>\n      <td>700.0</td>\n      <td>40.0</td>\n      <td>Yellowtail</td>\n      <td>2622.0</td>\n      <td>$2,549</td>\n    </tr>\n    <tr>\n      <th>10</th>\n      <td>1987</td>\n      <td>Qtr 2</td>\n      <td>800.0</td>\n      <td>40.0</td>\n      <td>Yellowtail</td>\n      <td>2815.0</td>\n      <td>$2,704</td>\n    </tr>\n    <tr>\n      <th>11</th>\n      <td>1987</td>\n      <td>Qtr 3</td>\n      <td>1032.0</td>\n      <td>40.0</td>\n      <td>Yellowtail</td>\n      <td>7335.0</td>\n      <td>$8,019</td>\n    </tr>\n    <tr>\n      <th>13</th>\n      <td>1987</td>\n      <td>Qtr 3</td>\n      <td>1034.0</td>\n      <td>40.0</td>\n      <td>Yellowtail</td>\n      <td>3645.0</td>\n      <td>$3,127</td>\n    </tr>\n    <tr>\n      <th>14</th>\n      <td>1987</td>\n      <td>Qtr 3</td>\n      <td>1035.0</td>\n      <td>40.0</td>\n      <td>Yellowtail</td>\n      <td>4458.0</td>\n      <td>$4,397</td>\n    </tr>\n  </tbody>\n</table>\n</div>"
     },
     "metadata": {},
     "execution_count": 3
    }
   ],
   "source": [
    "# remove NAs from fishery data\n",
    "cleaned_fishery = fishery_updated.dropna(how='any')\n",
    "cleaned_fishery = cleaned_fishery[cleaned_fishery['Total Price'] != ' ']\n",
    "\n",
    "# print data\n",
    "cleaned_fishery.head(10)"
   ]
  },
  {
   "cell_type": "markdown",
   "metadata": {},
   "source": [
    "The commercial fishery dataset contains information on time (year/month), location (latitude/longitude), amount of fish caught (pounds), and price-per-pound (dollars) of each fish in every given catch year.\n",
    "\n",
    "Due to data privacy rules, some of the information relating to price-per-pound and pounds caught are redacted. "
   ]
  },
  {
   "cell_type": "markdown",
   "metadata": {},
   "source": [
    "In the beginning, we explored these two datasets with the intention of finding a relationship between the amount of fish larvae detected and the amount of adult fish caught. Over time, our workflow and goal became more developed, leading us to incorporate a third dataset into our project:\n",
    "\n"
   ]
  },
  {
   "cell_type": "markdown",
   "metadata": {},
   "source": [
    "### Bottle and Cast Data\n",
    "\n",
    "This dataset was used to incorporate additional environmental factors with our larvae and commercial fish data."
   ]
  },
  {
   "cell_type": "code",
   "execution_count": 4,
   "metadata": {
    "tags": [
     "hide_input"
    ]
   },
   "outputs": [
    {
     "output_type": "execute_result",
     "data": {
      "text/plain": [
       "   Year   Cast Count  Water Temperature (C)  Water Salinity\n",
       "0  1949   462.984846               9.008097       33.875273\n",
       "1  1950  1481.434568               8.670928       33.884616\n",
       "2  1951  2938.570895               8.544260       33.874098\n",
       "3  1952  4422.839220               9.408110       33.753253\n",
       "4  1953  5845.616774               9.794919       33.796447\n",
       "5  1954  6875.716300               9.762641       33.773640\n",
       "6  1955  7645.020691               9.516349       33.854505\n",
       "7  1956  8329.149738               9.246048       33.844304\n",
       "8  1957  9043.949093              10.520039       33.798667\n",
       "9  1958  9883.231321              10.693563       33.767853"
      ],
      "text/html": "<div>\n<style scoped>\n    .dataframe tbody tr th:only-of-type {\n        vertical-align: middle;\n    }\n\n    .dataframe tbody tr th {\n        vertical-align: top;\n    }\n\n    .dataframe thead th {\n        text-align: right;\n    }\n</style>\n<table border=\"1\" class=\"dataframe\">\n  <thead>\n    <tr style=\"text-align: right;\">\n      <th></th>\n      <th>Year</th>\n      <th>Cast Count</th>\n      <th>Water Temperature (C)</th>\n      <th>Water Salinity</th>\n    </tr>\n  </thead>\n  <tbody>\n    <tr>\n      <th>0</th>\n      <td>1949</td>\n      <td>462.984846</td>\n      <td>9.008097</td>\n      <td>33.875273</td>\n    </tr>\n    <tr>\n      <th>1</th>\n      <td>1950</td>\n      <td>1481.434568</td>\n      <td>8.670928</td>\n      <td>33.884616</td>\n    </tr>\n    <tr>\n      <th>2</th>\n      <td>1951</td>\n      <td>2938.570895</td>\n      <td>8.544260</td>\n      <td>33.874098</td>\n    </tr>\n    <tr>\n      <th>3</th>\n      <td>1952</td>\n      <td>4422.839220</td>\n      <td>9.408110</td>\n      <td>33.753253</td>\n    </tr>\n    <tr>\n      <th>4</th>\n      <td>1953</td>\n      <td>5845.616774</td>\n      <td>9.794919</td>\n      <td>33.796447</td>\n    </tr>\n    <tr>\n      <th>5</th>\n      <td>1954</td>\n      <td>6875.716300</td>\n      <td>9.762641</td>\n      <td>33.773640</td>\n    </tr>\n    <tr>\n      <th>6</th>\n      <td>1955</td>\n      <td>7645.020691</td>\n      <td>9.516349</td>\n      <td>33.854505</td>\n    </tr>\n    <tr>\n      <th>7</th>\n      <td>1956</td>\n      <td>8329.149738</td>\n      <td>9.246048</td>\n      <td>33.844304</td>\n    </tr>\n    <tr>\n      <th>8</th>\n      <td>1957</td>\n      <td>9043.949093</td>\n      <td>10.520039</td>\n      <td>33.798667</td>\n    </tr>\n    <tr>\n      <th>9</th>\n      <td>1958</td>\n      <td>9883.231321</td>\n      <td>10.693563</td>\n      <td>33.767853</td>\n    </tr>\n  </tbody>\n</table>\n</div>"
     },
     "metadata": {},
     "execution_count": 4
    }
   ],
   "source": [
    "# rename columns for readability\n",
    "bottle_preview = bottle.rename(\n",
    "    columns={\n",
    "        'Cst_Cnt':'Cast Count',\n",
    "        'Ocean degC':'Water Temperature (C)',\n",
    "        'Salnty':'Water Salinity'}\n",
    "    )\n",
    "\n",
    "# select columns to keep\n",
    "bottle_preview[['Year','Cast Count','Water Temperature (C)','Water Salinity']].head(10)"
   ]
  },
  {
   "cell_type": "markdown",
   "metadata": {},
   "source": [
    "The bottle and cast data contains information on cast counts, water temperature (celcius) during a given cast, and water salinity (salinity scale).\n",
    "\n",
    "Cast refers to information about the cruise itself, while bottle refers to information regarding the water quality, such as temperature and salinity.\n",
    "\n",
    "After incorporating the bottle and cast dataset, our project's goal shifted from establishing whether any correlations can be drawn from the fish larvae and fish catch to investigating any environmental factors that may add variance to the relationship as well. Additionally, it helped us focus on one species in particular: the Pacific Sardine.\n"
   ]
  },
  {
   "cell_type": "markdown",
   "metadata": {},
   "source": [
    "### The Shift Towards Sardine\n"
   ]
  },
  {
   "cell_type": "code",
   "execution_count": 5,
   "metadata": {
    "tags": [
     "hide_input"
    ]
   },
   "outputs": [
    {
     "output_type": "display_data",
     "data": {
      "application/vnd.plotly.v1+json": {
       "config": {
        "plotlyServerURL": "https://plot.ly"
       },
       "data": [
        {
         "hovertemplate": "variable=Sardine<br>Year=%{x}<br>Abundance (thousands)=%{y}<extra></extra>",
         "legendgroup": "Sardine",
         "line": {
          "color": "blue",
          "dash": "solid"
         },
         "mode": "lines",
         "name": "Sardine",
         "orientation": "v",
         "showlegend": true,
         "type": "scatter",
         "x": [
          "1969",
          "1970",
          "1971",
          "1972",
          "1973",
          "1974",
          "1975",
          "1976",
          "1977",
          "1978",
          "1979",
          "1980",
          "1981",
          "1982",
          "1983",
          "1984",
          "1985",
          "1986",
          "1987",
          "1988",
          "1989",
          "1990",
          "1991",
          "1992",
          "1993",
          "1994",
          "1995",
          "1996",
          "1997",
          "1998",
          "1999",
          "2000",
          "2001",
          "2002",
          "2003",
          "2004",
          "2005",
          "2006",
          "2007",
          "2008",
          "2009",
          "2010",
          "2011",
          "2012",
          "2013",
          "2014",
          "2015",
          "2016",
          "2017",
          "2018",
          "2019",
          "2020"
         ],
         "xaxis": "x",
         "y": [
          56,
          57,
          67,
          59,
          37,
          3,
          4,
          5,
          5,
          3,
          5,
          13,
          25,
          6,
          4,
          15,
          20,
          52,
          57,
          35,
          33,
          48,
          79,
          162,
          135,
          203,
          272,
          252,
          249,
          223,
          260,
          282,
          255,
          276,
          211,
          241,
          172,
          197,
          296,
          181,
          167,
          214,
          113,
          167,
          83,
          107,
          63,
          67,
          74,
          69,
          228,
          197
         ],
         "yaxis": "y"
        },
        {
         "hovertemplate": "variable=Anchovy<br>Year=%{x}<br>Abundance (thousands)=%{y}<extra></extra>",
         "legendgroup": "Anchovy",
         "line": {
          "color": "gray",
          "dash": "solid"
         },
         "mode": "lines",
         "name": "Anchovy",
         "orientation": "v",
         "showlegend": true,
         "type": "scatter",
         "x": [
          "1969",
          "1970",
          "1971",
          "1972",
          "1973",
          "1974",
          "1975",
          "1976",
          "1977",
          "1978",
          "1979",
          "1980",
          "1981",
          "1982",
          "1983",
          "1984",
          "1985",
          "1986",
          "1987",
          "1988",
          "1989",
          "1990",
          "1991",
          "1992",
          "1993",
          "1994",
          "1995",
          "1996",
          "1997",
          "1998",
          "1999",
          "2000",
          "2001",
          "2002",
          "2003",
          "2004",
          "2005",
          "2006",
          "2007",
          "2008",
          "2009",
          "2010",
          "2011",
          "2012",
          "2013",
          "2014",
          "2015",
          "2016",
          "2017",
          "2018",
          "2019",
          "2020"
         ],
         "xaxis": "x",
         "y": [
          259,
          273,
          176,
          269,
          263,
          237,
          268,
          253,
          218,
          105,
          201,
          188,
          198,
          159,
          97,
          78,
          115,
          98,
          93,
          75,
          72,
          74,
          77,
          66,
          82,
          90,
          94,
          96,
          109,
          60,
          111,
          131,
          139,
          109,
          84,
          74,
          102,
          82,
          112,
          110,
          63,
          46,
          46,
          41,
          58,
          69,
          56,
          59,
          57,
          75,
          101,
          86
         ],
         "yaxis": "y"
        },
        {
         "hovertemplate": "variable=Mackerel Jack<br>Year=%{x}<br>Abundance (thousands)=%{y}<extra></extra>",
         "legendgroup": "Mackerel Jack",
         "line": {
          "color": "gray",
          "dash": "solid"
         },
         "mode": "lines",
         "name": "Mackerel Jack",
         "orientation": "v",
         "showlegend": true,
         "type": "scatter",
         "x": [
          "1969",
          "1970",
          "1971",
          "1972",
          "1973",
          "1974",
          "1975",
          "1976",
          "1977",
          "1978",
          "1979",
          "1980",
          "1981",
          "1982",
          "1983",
          "1984",
          "1985",
          "1986",
          "1987",
          "1988",
          "1989",
          "1990",
          "1991",
          "1992",
          "1993",
          "1994",
          "1995",
          "1996",
          "1997",
          "1998",
          "1999",
          "2000",
          "2001",
          "2002",
          "2003",
          "2004",
          "2005",
          "2006",
          "2007",
          "2008",
          "2009",
          "2010",
          "2011",
          "2012",
          "2013",
          "2014",
          "2015",
          "2016",
          "2017",
          "2018",
          "2019",
          "2020"
         ],
         "xaxis": "x",
         "y": [
          300,
          251,
          250,
          224,
          255,
          186,
          202,
          264,
          360,
          292,
          276,
          342,
          334,
          232,
          173,
          65,
          96,
          77,
          69,
          55,
          48,
          56,
          62,
          93,
          139,
          152,
          134,
          93,
          67,
          80,
          63,
          108,
          89,
          64,
          46,
          53,
          49,
          57,
          64,
          48,
          40,
          64,
          27,
          45,
          42,
          63,
          72,
          47,
          50,
          26,
          51,
          49
         ],
         "yaxis": "y"
        },
        {
         "hovertemplate": "variable=Mackerel Pacific<br>Year=%{x}<br>Abundance (thousands)=%{y}<extra></extra>",
         "legendgroup": "Mackerel Pacific",
         "line": {
          "color": "gray",
          "dash": "solid"
         },
         "mode": "lines",
         "name": "Mackerel Pacific",
         "orientation": "v",
         "showlegend": true,
         "type": "scatter",
         "x": [
          "1969",
          "1970",
          "1971",
          "1972",
          "1973",
          "1974",
          "1975",
          "1976",
          "1977",
          "1978",
          "1979",
          "1980",
          "1981",
          "1982",
          "1983",
          "1984",
          "1985",
          "1986",
          "1987",
          "1988",
          "1989",
          "1990",
          "1991",
          "1992",
          "1993",
          "1994",
          "1995",
          "1996",
          "1997",
          "1998",
          "1999",
          "2000",
          "2001",
          "2002",
          "2003",
          "2004",
          "2005",
          "2006",
          "2007",
          "2008",
          "2009",
          "2010",
          "2011",
          "2012",
          "2013",
          "2014",
          "2015",
          "2016",
          "2017",
          "2018",
          "2019",
          "2020"
         ],
         "xaxis": "x",
         "y": [
          151,
          59,
          57,
          52,
          39,
          27,
          43,
          77,
          210,
          242,
          382,
          390,
          438,
          284,
          240,
          97,
          169,
          175,
          179,
          161,
          151,
          205,
          263,
          328,
          291,
          381,
          374,
          377,
          387,
          329,
          187,
          253,
          192,
          142,
          128,
          127,
          128,
          147,
          177,
          138,
          143,
          135,
          79,
          115,
          77,
          152,
          183,
          161,
          151,
          127,
          203,
          153
         ],
         "yaxis": "y"
        },
        {
         "hovertemplate": "variable=Opah<br>Year=%{x}<br>Abundance (thousands)=%{y}<extra></extra>",
         "legendgroup": "Opah",
         "line": {
          "color": "gray",
          "dash": "solid"
         },
         "mode": "lines",
         "name": "Opah",
         "orientation": "v",
         "showlegend": true,
         "type": "scatter",
         "x": [
          "1969",
          "1970",
          "1971",
          "1972",
          "1973",
          "1974",
          "1975",
          "1976",
          "1977",
          "1978",
          "1979",
          "1980",
          "1981",
          "1982",
          "1983",
          "1984",
          "1985",
          "1986",
          "1987",
          "1988",
          "1989",
          "1990",
          "1991",
          "1992",
          "1993",
          "1994",
          "1995",
          "1996",
          "1997",
          "1998",
          "1999",
          "2000",
          "2001",
          "2002",
          "2003",
          "2004",
          "2005",
          "2006",
          "2007",
          "2008",
          "2009",
          "2010",
          "2011",
          "2012",
          "2013",
          "2014",
          "2015",
          "2016",
          "2017",
          "2018",
          "2019",
          "2020"
         ],
         "xaxis": "x",
         "y": [
          119.5,
          119.5,
          119.5,
          119.5,
          119.5,
          119.5,
          119.5,
          10,
          119.5,
          119.5,
          119.5,
          5,
          11,
          157,
          232,
          264,
          255,
          191,
          150,
          79,
          102,
          124,
          122,
          133,
          151,
          173,
          194,
          193,
          176,
          253,
          187,
          159,
          141,
          159,
          135,
          84,
          87,
          117,
          115,
          101,
          98,
          83,
          72,
          58,
          68,
          64,
          52,
          73,
          71,
          57,
          35,
          26
         ],
         "yaxis": "y"
        },
        {
         "hovertemplate": "variable=Yellowtail<br>Year=%{x}<br>Abundance (thousands)=%{y}<extra></extra>",
         "legendgroup": "Yellowtail",
         "line": {
          "color": "gray",
          "dash": "solid"
         },
         "mode": "lines",
         "name": "Yellowtail",
         "orientation": "v",
         "showlegend": true,
         "type": "scatter",
         "x": [
          "1969",
          "1970",
          "1971",
          "1972",
          "1973",
          "1974",
          "1975",
          "1976",
          "1977",
          "1978",
          "1979",
          "1980",
          "1981",
          "1982",
          "1983",
          "1984",
          "1985",
          "1986",
          "1987",
          "1988",
          "1989",
          "1990",
          "1991",
          "1992",
          "1993",
          "1994",
          "1995",
          "1996",
          "1997",
          "1998",
          "1999",
          "2000",
          "2001",
          "2002",
          "2003",
          "2004",
          "2005",
          "2006",
          "2007",
          "2008",
          "2009",
          "2010",
          "2011",
          "2012",
          "2013",
          "2014",
          "2015",
          "2016",
          "2017",
          "2018",
          "2019",
          "2020"
         ],
         "xaxis": "x",
         "y": [
          38,
          70,
          64,
          99,
          144,
          140,
          79,
          112,
          100,
          114,
          91,
          69,
          80,
          119,
          181,
          137,
          185,
          118,
          107,
          75,
          68,
          99,
          60,
          75,
          108,
          60,
          52,
          101,
          159,
          260,
          196,
          219,
          155,
          125,
          153,
          128,
          86,
          109,
          111,
          74,
          62,
          68,
          40,
          71,
          105,
          177,
          318,
          196,
          220,
          212,
          180,
          198
         ],
         "yaxis": "y"
        }
       ],
       "layout": {
        "annotations": [
         {
          "text": "Mackerel Jack",
          "x": 8,
          "y": 360
         },
         {
          "text": "Anchovy",
          "x": 6,
          "y": 268
         },
         {
          "text": "Mackerel Pacific",
          "x": 12,
          "y": 438
         },
         {
          "text": "Opah",
          "x": 15,
          "y": 264
         },
         {
          "text": "Yellowtail",
          "x": 4,
          "y": 144
         },
         {
          "text": "Sardine",
          "x": 38,
          "y": 296
         }
        ],
        "legend": {
         "title": {
          "text": "variable"
         },
         "tracegroupgap": 0
        },
        "showlegend": false,
        "template": {
         "data": {
          "bar": [
           {
            "error_x": {
             "color": "#2a3f5f"
            },
            "error_y": {
             "color": "#2a3f5f"
            },
            "marker": {
             "line": {
              "color": "#E5ECF6",
              "width": 0.5
             }
            },
            "type": "bar"
           }
          ],
          "barpolar": [
           {
            "marker": {
             "line": {
              "color": "#E5ECF6",
              "width": 0.5
             }
            },
            "type": "barpolar"
           }
          ],
          "carpet": [
           {
            "aaxis": {
             "endlinecolor": "#2a3f5f",
             "gridcolor": "white",
             "linecolor": "white",
             "minorgridcolor": "white",
             "startlinecolor": "#2a3f5f"
            },
            "baxis": {
             "endlinecolor": "#2a3f5f",
             "gridcolor": "white",
             "linecolor": "white",
             "minorgridcolor": "white",
             "startlinecolor": "#2a3f5f"
            },
            "type": "carpet"
           }
          ],
          "choropleth": [
           {
            "colorbar": {
             "outlinewidth": 0,
             "ticks": ""
            },
            "type": "choropleth"
           }
          ],
          "contour": [
           {
            "colorbar": {
             "outlinewidth": 0,
             "ticks": ""
            },
            "colorscale": [
             [
              0,
              "#0d0887"
             ],
             [
              0.1111111111111111,
              "#46039f"
             ],
             [
              0.2222222222222222,
              "#7201a8"
             ],
             [
              0.3333333333333333,
              "#9c179e"
             ],
             [
              0.4444444444444444,
              "#bd3786"
             ],
             [
              0.5555555555555556,
              "#d8576b"
             ],
             [
              0.6666666666666666,
              "#ed7953"
             ],
             [
              0.7777777777777778,
              "#fb9f3a"
             ],
             [
              0.8888888888888888,
              "#fdca26"
             ],
             [
              1,
              "#f0f921"
             ]
            ],
            "type": "contour"
           }
          ],
          "contourcarpet": [
           {
            "colorbar": {
             "outlinewidth": 0,
             "ticks": ""
            },
            "type": "contourcarpet"
           }
          ],
          "heatmap": [
           {
            "colorbar": {
             "outlinewidth": 0,
             "ticks": ""
            },
            "colorscale": [
             [
              0,
              "#0d0887"
             ],
             [
              0.1111111111111111,
              "#46039f"
             ],
             [
              0.2222222222222222,
              "#7201a8"
             ],
             [
              0.3333333333333333,
              "#9c179e"
             ],
             [
              0.4444444444444444,
              "#bd3786"
             ],
             [
              0.5555555555555556,
              "#d8576b"
             ],
             [
              0.6666666666666666,
              "#ed7953"
             ],
             [
              0.7777777777777778,
              "#fb9f3a"
             ],
             [
              0.8888888888888888,
              "#fdca26"
             ],
             [
              1,
              "#f0f921"
             ]
            ],
            "type": "heatmap"
           }
          ],
          "heatmapgl": [
           {
            "colorbar": {
             "outlinewidth": 0,
             "ticks": ""
            },
            "colorscale": [
             [
              0,
              "#0d0887"
             ],
             [
              0.1111111111111111,
              "#46039f"
             ],
             [
              0.2222222222222222,
              "#7201a8"
             ],
             [
              0.3333333333333333,
              "#9c179e"
             ],
             [
              0.4444444444444444,
              "#bd3786"
             ],
             [
              0.5555555555555556,
              "#d8576b"
             ],
             [
              0.6666666666666666,
              "#ed7953"
             ],
             [
              0.7777777777777778,
              "#fb9f3a"
             ],
             [
              0.8888888888888888,
              "#fdca26"
             ],
             [
              1,
              "#f0f921"
             ]
            ],
            "type": "heatmapgl"
           }
          ],
          "histogram": [
           {
            "marker": {
             "colorbar": {
              "outlinewidth": 0,
              "ticks": ""
             }
            },
            "type": "histogram"
           }
          ],
          "histogram2d": [
           {
            "colorbar": {
             "outlinewidth": 0,
             "ticks": ""
            },
            "colorscale": [
             [
              0,
              "#0d0887"
             ],
             [
              0.1111111111111111,
              "#46039f"
             ],
             [
              0.2222222222222222,
              "#7201a8"
             ],
             [
              0.3333333333333333,
              "#9c179e"
             ],
             [
              0.4444444444444444,
              "#bd3786"
             ],
             [
              0.5555555555555556,
              "#d8576b"
             ],
             [
              0.6666666666666666,
              "#ed7953"
             ],
             [
              0.7777777777777778,
              "#fb9f3a"
             ],
             [
              0.8888888888888888,
              "#fdca26"
             ],
             [
              1,
              "#f0f921"
             ]
            ],
            "type": "histogram2d"
           }
          ],
          "histogram2dcontour": [
           {
            "colorbar": {
             "outlinewidth": 0,
             "ticks": ""
            },
            "colorscale": [
             [
              0,
              "#0d0887"
             ],
             [
              0.1111111111111111,
              "#46039f"
             ],
             [
              0.2222222222222222,
              "#7201a8"
             ],
             [
              0.3333333333333333,
              "#9c179e"
             ],
             [
              0.4444444444444444,
              "#bd3786"
             ],
             [
              0.5555555555555556,
              "#d8576b"
             ],
             [
              0.6666666666666666,
              "#ed7953"
             ],
             [
              0.7777777777777778,
              "#fb9f3a"
             ],
             [
              0.8888888888888888,
              "#fdca26"
             ],
             [
              1,
              "#f0f921"
             ]
            ],
            "type": "histogram2dcontour"
           }
          ],
          "mesh3d": [
           {
            "colorbar": {
             "outlinewidth": 0,
             "ticks": ""
            },
            "type": "mesh3d"
           }
          ],
          "parcoords": [
           {
            "line": {
             "colorbar": {
              "outlinewidth": 0,
              "ticks": ""
             }
            },
            "type": "parcoords"
           }
          ],
          "pie": [
           {
            "automargin": true,
            "type": "pie"
           }
          ],
          "scatter": [
           {
            "marker": {
             "colorbar": {
              "outlinewidth": 0,
              "ticks": ""
             }
            },
            "type": "scatter"
           }
          ],
          "scatter3d": [
           {
            "line": {
             "colorbar": {
              "outlinewidth": 0,
              "ticks": ""
             }
            },
            "marker": {
             "colorbar": {
              "outlinewidth": 0,
              "ticks": ""
             }
            },
            "type": "scatter3d"
           }
          ],
          "scattercarpet": [
           {
            "marker": {
             "colorbar": {
              "outlinewidth": 0,
              "ticks": ""
             }
            },
            "type": "scattercarpet"
           }
          ],
          "scattergeo": [
           {
            "marker": {
             "colorbar": {
              "outlinewidth": 0,
              "ticks": ""
             }
            },
            "type": "scattergeo"
           }
          ],
          "scattergl": [
           {
            "marker": {
             "colorbar": {
              "outlinewidth": 0,
              "ticks": ""
             }
            },
            "type": "scattergl"
           }
          ],
          "scattermapbox": [
           {
            "marker": {
             "colorbar": {
              "outlinewidth": 0,
              "ticks": ""
             }
            },
            "type": "scattermapbox"
           }
          ],
          "scatterpolar": [
           {
            "marker": {
             "colorbar": {
              "outlinewidth": 0,
              "ticks": ""
             }
            },
            "type": "scatterpolar"
           }
          ],
          "scatterpolargl": [
           {
            "marker": {
             "colorbar": {
              "outlinewidth": 0,
              "ticks": ""
             }
            },
            "type": "scatterpolargl"
           }
          ],
          "scatterternary": [
           {
            "marker": {
             "colorbar": {
              "outlinewidth": 0,
              "ticks": ""
             }
            },
            "type": "scatterternary"
           }
          ],
          "surface": [
           {
            "colorbar": {
             "outlinewidth": 0,
             "ticks": ""
            },
            "colorscale": [
             [
              0,
              "#0d0887"
             ],
             [
              0.1111111111111111,
              "#46039f"
             ],
             [
              0.2222222222222222,
              "#7201a8"
             ],
             [
              0.3333333333333333,
              "#9c179e"
             ],
             [
              0.4444444444444444,
              "#bd3786"
             ],
             [
              0.5555555555555556,
              "#d8576b"
             ],
             [
              0.6666666666666666,
              "#ed7953"
             ],
             [
              0.7777777777777778,
              "#fb9f3a"
             ],
             [
              0.8888888888888888,
              "#fdca26"
             ],
             [
              1,
              "#f0f921"
             ]
            ],
            "type": "surface"
           }
          ],
          "table": [
           {
            "cells": {
             "fill": {
              "color": "#EBF0F8"
             },
             "line": {
              "color": "white"
             }
            },
            "header": {
             "fill": {
              "color": "#C8D4E3"
             },
             "line": {
              "color": "white"
             }
            },
            "type": "table"
           }
          ]
         },
         "layout": {
          "annotationdefaults": {
           "arrowcolor": "#2a3f5f",
           "arrowhead": 0,
           "arrowwidth": 1
          },
          "autotypenumbers": "strict",
          "coloraxis": {
           "colorbar": {
            "outlinewidth": 0,
            "ticks": ""
           }
          },
          "colorscale": {
           "diverging": [
            [
             0,
             "#8e0152"
            ],
            [
             0.1,
             "#c51b7d"
            ],
            [
             0.2,
             "#de77ae"
            ],
            [
             0.3,
             "#f1b6da"
            ],
            [
             0.4,
             "#fde0ef"
            ],
            [
             0.5,
             "#f7f7f7"
            ],
            [
             0.6,
             "#e6f5d0"
            ],
            [
             0.7,
             "#b8e186"
            ],
            [
             0.8,
             "#7fbc41"
            ],
            [
             0.9,
             "#4d9221"
            ],
            [
             1,
             "#276419"
            ]
           ],
           "sequential": [
            [
             0,
             "#0d0887"
            ],
            [
             0.1111111111111111,
             "#46039f"
            ],
            [
             0.2222222222222222,
             "#7201a8"
            ],
            [
             0.3333333333333333,
             "#9c179e"
            ],
            [
             0.4444444444444444,
             "#bd3786"
            ],
            [
             0.5555555555555556,
             "#d8576b"
            ],
            [
             0.6666666666666666,
             "#ed7953"
            ],
            [
             0.7777777777777778,
             "#fb9f3a"
            ],
            [
             0.8888888888888888,
             "#fdca26"
            ],
            [
             1,
             "#f0f921"
            ]
           ],
           "sequentialminus": [
            [
             0,
             "#0d0887"
            ],
            [
             0.1111111111111111,
             "#46039f"
            ],
            [
             0.2222222222222222,
             "#7201a8"
            ],
            [
             0.3333333333333333,
             "#9c179e"
            ],
            [
             0.4444444444444444,
             "#bd3786"
            ],
            [
             0.5555555555555556,
             "#d8576b"
            ],
            [
             0.6666666666666666,
             "#ed7953"
            ],
            [
             0.7777777777777778,
             "#fb9f3a"
            ],
            [
             0.8888888888888888,
             "#fdca26"
            ],
            [
             1,
             "#f0f921"
            ]
           ]
          },
          "colorway": [
           "#636efa",
           "#EF553B",
           "#00cc96",
           "#ab63fa",
           "#FFA15A",
           "#19d3f3",
           "#FF6692",
           "#B6E880",
           "#FF97FF",
           "#FECB52"
          ],
          "font": {
           "color": "#2a3f5f"
          },
          "geo": {
           "bgcolor": "white",
           "lakecolor": "white",
           "landcolor": "#E5ECF6",
           "showlakes": true,
           "showland": true,
           "subunitcolor": "white"
          },
          "hoverlabel": {
           "align": "left"
          },
          "hovermode": "closest",
          "mapbox": {
           "style": "light"
          },
          "paper_bgcolor": "white",
          "plot_bgcolor": "#E5ECF6",
          "polar": {
           "angularaxis": {
            "gridcolor": "white",
            "linecolor": "white",
            "ticks": ""
           },
           "bgcolor": "#E5ECF6",
           "radialaxis": {
            "gridcolor": "white",
            "linecolor": "white",
            "ticks": ""
           }
          },
          "scene": {
           "xaxis": {
            "backgroundcolor": "#E5ECF6",
            "gridcolor": "white",
            "gridwidth": 2,
            "linecolor": "white",
            "showbackground": true,
            "ticks": "",
            "zerolinecolor": "white"
           },
           "yaxis": {
            "backgroundcolor": "#E5ECF6",
            "gridcolor": "white",
            "gridwidth": 2,
            "linecolor": "white",
            "showbackground": true,
            "ticks": "",
            "zerolinecolor": "white"
           },
           "zaxis": {
            "backgroundcolor": "#E5ECF6",
            "gridcolor": "white",
            "gridwidth": 2,
            "linecolor": "white",
            "showbackground": true,
            "ticks": "",
            "zerolinecolor": "white"
           }
          },
          "shapedefaults": {
           "line": {
            "color": "#2a3f5f"
           }
          },
          "ternary": {
           "aaxis": {
            "gridcolor": "white",
            "linecolor": "white",
            "ticks": ""
           },
           "baxis": {
            "gridcolor": "white",
            "linecolor": "white",
            "ticks": ""
           },
           "bgcolor": "#E5ECF6",
           "caxis": {
            "gridcolor": "white",
            "linecolor": "white",
            "ticks": ""
           }
          },
          "title": {
           "x": 0.05
          },
          "xaxis": {
           "automargin": true,
           "gridcolor": "white",
           "linecolor": "white",
           "ticks": "",
           "title": {
            "standoff": 15
           },
           "zerolinecolor": "white",
           "zerolinewidth": 2
          },
          "yaxis": {
           "automargin": true,
           "gridcolor": "white",
           "linecolor": "white",
           "ticks": "",
           "title": {
            "standoff": 15
           },
           "zerolinecolor": "white",
           "zerolinewidth": 2
          }
         }
        },
        "title": {
         "text": "Abundance By Year (All Species)"
        },
        "xaxis": {
         "anchor": "y",
         "domain": [
          0,
          1
         ],
         "title": {
          "text": "Year"
         }
        },
        "yaxis": {
         "anchor": "x",
         "domain": [
          0,
          1
         ],
         "title": {
          "text": "Abundance (thousands)"
         }
        }
       }
      }
     },
     "metadata": {}
    }
   ],
   "source": [
    "# clean and process landing data (time series version)\n",
    "fish_count_ts_df = landing_summary_ts.filter(['Year','SpeciesName'],axis=1)\n",
    "fish_count_ts_df.drop(fish_count_ts_df.tail(5).index,inplace=True)\n",
    "\n",
    "# create separate dataframes for each species\n",
    "# groupby year, find counts per year, and rename columns\n",
    "mjack_ts = fish_count_ts_df[fish_count_ts_df['SpeciesName']=='Mackerel, jack'].groupby('Year').count().reset_index().rename(columns={'SpeciesName':'Count'})\n",
    "anchovy_ts = fish_count_ts_df[fish_count_ts_df['SpeciesName']=='Anchovy, northern             '].groupby('Year').count().reset_index().rename(columns={'SpeciesName':'Count'})\n",
    "mpacific_ts = fish_count_ts_df[fish_count_ts_df['SpeciesName']=='Mackerel, Pacific'].groupby('Year').count().reset_index().rename(columns={'SpeciesName':'Count'})\n",
    "yellowtail_ts = fish_count_ts_df[fish_count_ts_df['SpeciesName']=='Yellowtail'].groupby('Year').count().reset_index().rename(columns={'SpeciesName':'Count'})\n",
    "opah_ts = fish_count_ts_df[fish_count_ts_df['SpeciesName']=='Opah'].groupby('Year').count().reset_index().rename(columns={'SpeciesName':'Count'})\n",
    "sardine_ts2 = fish_count_ts_df[fish_count_ts_df['SpeciesName']=='Sardine, Pacific              '].groupby('Year').count().reset_index().rename(columns={'SpeciesName':'Count'})\n",
    "\n",
    "# label each dataframe based on species type\n",
    "mjack_ts['Species'] = 'Mackerel Jack'\n",
    "anchovy_ts['Species'] = 'Anchovy'\n",
    "mpacific_ts['Species'] = 'Mackerel Pacific'\n",
    "yellowtail_ts['Species'] = 'Yellowtail'\n",
    "opah_ts['Species'] = 'Opah'\n",
    "sardine_ts2['Species'] = 'Sardine'\n",
    "\n",
    "# combine dataframes\n",
    "species_ts = pd.concat([mjack_ts,anchovy_ts,mpacific_ts,yellowtail_ts,opah_ts,sardine_ts2],ignore_index=True)\n",
    "\n",
    "# pivot combined dataframe\n",
    "species_total_ts = species_ts.pivot(\n",
    "    index = 'Year',\n",
    "    columns = 'Species',\n",
    "    values = 'Count'\n",
    ")\n",
    "\n",
    "# impute missing values in Opah column with means\n",
    "species_total_ts_final = species_total_ts.fillna(round(species_total_ts.Opah.mean(),1))\n",
    "\n",
    "# construct line plot\n",
    "# add custom colors to grey out all species except sardine\n",
    "fig_species_total = px.line(\n",
    "    species_total_ts_final,\n",
    "    y = ['Sardine','Anchovy','Mackerel Jack','Mackerel Pacific', 'Opah', 'Yellowtail'],\n",
    "    color_discrete_sequence= ['blue','gray','gray','gray','gray','gray'],\n",
    "    labels = {'value':'Abundance (thousands)'},\n",
    "    title = 'Abundance By Year (All Species)'\n",
    ")\n",
    "\n",
    "# add annotations to specified points on the lines\n",
    "fig_species_total.update_layout(\n",
    "    annotations=[\n",
    "        {'x':8,'y':360,'text':'Mackerel Jack'},\n",
    "        {'x':6,'y':268,'text':'Anchovy'},\n",
    "        {'x':12,'y':438,'text':'Mackerel Pacific'},\n",
    "        {'x':15,'y':264,'text':'Opah'},\n",
    "        {'x':4,'y':144,'text':'Yellowtail'},\n",
    "        {'x':38,'y':296,'text':'Sardine'}],\n",
    "        showlegend=False)\n",
    "\n",
    "\n",
    "fig_species_total.show() "
   ]
  },
  {
   "cell_type": "markdown",
   "metadata": {},
   "source": [
    "\n",
    "While our datasets contain information on 6 different fish species, we decided to focus this project primarily on _Sardinops sagax_, or more commonly known as Pacific Sardine. We chose Sardine because differences in fish species characteristics, such as migration patterns or mating behaviors, made it difficult to identify patterns that apply to all of the species as a whole. Rather than focus on the behavior of all species as a whole, we aimed to find one specific species to center our analysis around- the Pacific Sardine. \n",
    "\n",
    "Our choice was also influenced by the large amount of data we had on Sardines- more data will help us perform a more accurate analysis. Additionally, sardine is also the focus of the CalCOFI organization, which was originally formed to study the ecological consequences of a declining sardine population off the California coast. Although CalCOFI has now shifted its focus to studying the marine environment off the California coast as a whole, we decided that interesting patterns aside, focusing solely on the sardine species aligns well with CalCOFI's original goals as an organization. Lastly, it may be possible to cross-check our sardine findings with existing sardine studies conducted by CalCOFI.\n"
   ]
  },
  {
   "cell_type": "code",
   "execution_count": null,
   "metadata": {},
   "outputs": [],
   "source": []
  }
 ],
 "metadata": {
  "celltoolbar": "Tags",
  "kernelspec": {
   "name": "python385jvsc74a57bd01c0829e48867d4dbbae2db5c5fbd5bd4f9d440ca7fec80925ea4d8588af9d280",
   "display_name": "Python 3.8.5 32-bit"
  },
  "language_info": {
   "codemirror_mode": {
    "name": "ipython",
    "version": 3
   },
   "file_extension": ".py",
   "mimetype": "text/x-python",
   "name": "python",
   "nbconvert_exporter": "python",
   "pygments_lexer": "ipython3",
   "version": "3.8.5"
  },
  "metadata": {
   "interpreter": {
    "hash": "1c0829e48867d4dbbae2db5c5fbd5bd4f9d440ca7fec80925ea4d8588af9d280"
   }
  }
 },
 "nbformat": 4,
 "nbformat_minor": 2
}