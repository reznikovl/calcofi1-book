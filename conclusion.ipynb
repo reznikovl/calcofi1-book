{
 "metadata": {
  "language_info": {
   "codemirror_mode": {
    "name": "ipython",
    "version": 3
   },
   "file_extension": ".py",
   "mimetype": "text/x-python",
   "name": "python",
   "nbconvert_exporter": "python",
   "pygments_lexer": "ipython3",
   "version": 3
  },
  "orig_nbformat": 2
 },
 "nbformat": 4,
 "nbformat_minor": 2,
 "cells": [
  {
   "source": [
    "### Conclusion\n",
    "\n",
    "we can put a nice summary/conclusion of all our analysis and findings here, with some pictures and stuff"
   ],
   "cell_type": "markdown",
   "metadata": {}
  }
 ]
}